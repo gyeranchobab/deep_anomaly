{
 "cells": [
  {
   "cell_type": "markdown",
   "id": "beginning-campbell",
   "metadata": {},
   "source": [
    "# Deep SVDD"
   ]
  },
  {
   "cell_type": "code",
   "execution_count": 1,
   "id": "engaging-messaging",
   "metadata": {},
   "outputs": [],
   "source": [
    "from src.skeleton import BaseModel"
   ]
  },
  {
   "cell_type": "markdown",
   "id": "alike-establishment",
   "metadata": {},
   "source": [
    "### 실험 데이터셋 로드 (MNIST) : A3과 동일\n",
    "- 정상 데이터 : digit 0\n",
    "- 비정상 데이터 : 그 외 digit"
   ]
  },
  {
   "cell_type": "code",
   "execution_count": 2,
   "id": "attended-absorption",
   "metadata": {},
   "outputs": [],
   "source": [
    "from torchvision.datasets import MNIST\n",
    "import torchvision.transforms as transforms\n",
    "import torch"
   ]
  },
  {
   "cell_type": "code",
   "execution_count": 3,
   "id": "controlled-trunk",
   "metadata": {},
   "outputs": [
    {
     "name": "stdout",
     "output_type": "stream",
     "text": [
      "60000 10000\n"
     ]
    }
   ],
   "source": [
    "mnist_train_dataset = MNIST('./datasets', download=True, train=True, transform=transforms.ToTensor())\n",
    "mnist_test_dataset = MNIST('./datasets', download=True, train=False, transform=transforms.ToTensor())\n",
    "print(len(mnist_train_dataset), len(mnist_test_dataset))"
   ]
  },
  {
   "cell_type": "code",
   "execution_count": 4,
   "id": "sought-invite",
   "metadata": {},
   "outputs": [
    {
     "name": "stdout",
     "output_type": "stream",
     "text": [
      "torch.Size([5923, 28, 28]) torch.Size([980, 28, 28]) torch.Size([980, 28, 28])\n"
     ]
    }
   ],
   "source": [
    "#print(mnist_train_dataset)\n",
    "#print(mnist_train_dataset.targets.shape)\n",
    "#print(mnist_train_dataset.data.shape)\n",
    "positive_set_train = mnist_train_dataset.data[mnist_train_dataset.targets==0]\n",
    "positive_set_test = mnist_test_dataset.data[mnist_test_dataset.targets==0]\n",
    "negative_set_test = mnist_test_dataset.data[mnist_test_dataset.targets!=0][:positive_set_test.shape[0]]\n",
    "print(positive_set_train.shape, positive_set_test.shape,negative_set_test.shape)"
   ]
  },
  {
   "cell_type": "code",
   "execution_count": 5,
   "id": "spatial-gazette",
   "metadata": {},
   "outputs": [
    {
     "name": "stdout",
     "output_type": "stream",
     "text": [
      "5923 980 980 1960\n"
     ]
    }
   ],
   "source": [
    "from torch.utils.data import Dataset, DataLoader, ConcatDataset\n",
    "import numpy as np\n",
    "class MNIST_Anomaly(Dataset):\n",
    "    def __init__(self, dataset, y):\n",
    "        self.dataset = dataset\n",
    "        self.y = y\n",
    "    def __len__(self):\n",
    "        return len(self.dataset)\n",
    "    def __getitem__(self, index):\n",
    "        X = self.dataset[index]\n",
    "        y = self.y[index]\n",
    "        return X,y,True\n",
    "    \n",
    "dataset_train = MNIST_Anomaly(positive_set_train, [torch.tensor(0.0)]*len(positive_set_train))\n",
    "dataset_p_test = MNIST_Anomaly(positive_set_test, [torch.tensor(0.0)]*len(positive_set_test))\n",
    "dataset_n_test = MNIST_Anomaly(negative_set_test, mnist_test_dataset.targets[mnist_test_dataset.targets!=0])\n",
    "dataset_test = ConcatDataset([dataset_p_test, dataset_n_test])\n",
    "print(len(dataset_train), len(dataset_p_test), len(dataset_n_test), len(dataset_test))"
   ]
  },
  {
   "cell_type": "markdown",
   "id": "eligible-columbia",
   "metadata": {},
   "source": [
    "#### 배치 사이즈 (BATCH), 에폭 수 (EPOCH), learning rate (LR)정의\n",
    "#### !!! lambda 정의"
   ]
  },
  {
   "cell_type": "code",
   "execution_count": 6,
   "id": "suited-scholarship",
   "metadata": {},
   "outputs": [],
   "source": [
    "BATCH = 256\n",
    "EPOCH = 100\n",
    "LR = 1e-3\n",
    "LAMBDA = 1e-2"
   ]
  },
  {
   "cell_type": "markdown",
   "id": "steady-voluntary",
   "metadata": {},
   "source": [
    "train, test DataLoader 생성 (train DataLoader만 shuffle)"
   ]
  },
  {
   "cell_type": "code",
   "execution_count": 7,
   "id": "framed-metropolitan",
   "metadata": {},
   "outputs": [],
   "source": [
    "train_loader = DataLoader(dataset_train, batch_size=BATCH, shuffle=True)\n",
    "test_loader = DataLoader(dataset_test, batch_size=BATCH)"
   ]
  },
  {
   "cell_type": "markdown",
   "id": "demonstrated-pickup",
   "metadata": {},
   "source": [
    "## !!! Deep SVDD 모델 생성\n",
    "- ```__init__()``` method에서 모델의 layer 정의\n",
    "    - !!! input으로 train_loader를 받아, **c**값 도출 (```init_c``` 함수 사용)\n",
    "- ```forward()``` method에서 모델의 forward pass 정의\n",
    "    - !!! output 형태 : (batch, **latent dimension**)\n",
    "- !!! ```criterion()``` method에서 모델의 loss 함수 정의"
   ]
  },
  {
   "cell_type": "code",
   "execution_count": 8,
   "id": "official-brick",
   "metadata": {},
   "outputs": [],
   "source": [
    "import torch.nn as nn\n",
    "\n",
    "HDIM = 64\n",
    "\n",
    "def init_c(model, train_loader, eps=0.1):\n",
    "    n = 0\n",
    "    c = torch.zeros(HDIM).to(device='cuda')\n",
    "    \n",
    "    model.cuda()\n",
    "    model.eval()\n",
    "    \n",
    "    for batch, label, mask in train_loader:\n",
    "        batch=batch.cuda().to(dtype=torch.float)\n",
    "        label=label.cuda()\n",
    "        if label.dtype == torch.int32:\n",
    "            label = label.to(dtype=torch.long)\n",
    "        elif label.dtype == torch.double:\n",
    "            label = label.to(dtype=torch.float)\n",
    "        mask=mask.cuda().to(dtype=torch.bool)\n",
    "        \n",
    "        batch = model.preprocess(batch, label, mask)\n",
    "        with torch.no_grad():\n",
    "            pred = model(batch, label, mask)\n",
    "        n += pred.shape[0]\n",
    "        c += torch.sum(pred, dim=0)\n",
    "    c /= n\n",
    "    \n",
    "    c[(abs(c) < eps) & (c<0)] = -eps\n",
    "    c[(abs(c) < eps) & (c>0)] = eps\n",
    "    \n",
    "    return c.unsqueeze(0)\n",
    "\n",
    "\n",
    "class MyModel(BaseModel):\n",
    "    def __init__(self, in_dim, c=None, train_loader=None, shift=0.0, scale=1.0, model_name='my_model'):\n",
    "        super().__init__(model_name=model_name)\n",
    "        self.enc1 = nn.Linear(in_dim, 256)\n",
    "        self.enc2 = nn.Linear(256,128)\n",
    "        self.enc3 = nn.Linear(128,HDIM)\n",
    "        self.relu = nn.ReLU()\n",
    "        self.shift = shift.to(device='cuda')\n",
    "        self.scale = scale.to(device='cuda')\n",
    "        if c is None:\n",
    "            self.c = init_c(self, train_loader)\n",
    "        else:\n",
    "            self.c = c\n",
    "        self.c = self.c.to(device='cuda')\n",
    "        \n",
    "    def forward(self, batch, label=None, mask=None):\n",
    "        x = self.enc1(batch)\n",
    "        x = self.relu(x)\n",
    "        x = self.enc2(x)\n",
    "        x = self.relu(x)\n",
    "        x = self.enc3(x)\n",
    "        return x\n",
    "    \n",
    "    def preprocess(self, batch, label=None, mask=None):\n",
    "        batch = (batch-self.shift) / self.scale\n",
    "        return batch.view(batch.size(0),-1)\n",
    "    \n",
    "    def criterion(self, pred=None, batch=None, label=None, mask=None):\n",
    "        #print(pred.shape, self.c.shape)\n",
    "        loss = nn.MSELoss()(pred, self.c.repeat(pred.shape[0],1))\n",
    "        return loss\n"
   ]
  },
  {
   "cell_type": "markdown",
   "id": "alpine-track",
   "metadata": {},
   "source": [
    "모델 생성 및 CUDA로 이동\n",
    "- !!! **train_loader 전달**"
   ]
  },
  {
   "cell_type": "code",
   "execution_count": 9,
   "id": "charming-dancing",
   "metadata": {},
   "outputs": [
    {
     "data": {
      "text/plain": [
       "MyModel(\n",
       "  (enc1): Linear(in_features=784, out_features=256, bias=True)\n",
       "  (enc2): Linear(in_features=256, out_features=128, bias=True)\n",
       "  (enc3): Linear(in_features=128, out_features=64, bias=True)\n",
       "  (relu): ReLU()\n",
       ")"
      ]
     },
     "execution_count": 9,
     "metadata": {},
     "output_type": "execute_result"
    }
   ],
   "source": [
    "model = MyModel(28*28, shift=positive_set_train.min(), scale=(positive_set_train.max()-positive_set_train.min()+1e-10), train_loader=train_loader)\n",
    "model.cuda()"
   ]
  },
  {
   "cell_type": "markdown",
   "id": "accompanied-jones",
   "metadata": {},
   "source": [
    "optimizer 생성\n",
    "- !!! **Weight Decay 설정**"
   ]
  },
  {
   "cell_type": "code",
   "execution_count": 10,
   "id": "dense-mirror",
   "metadata": {},
   "outputs": [],
   "source": [
    "import torch.optim as optim\n",
    "optimizer = optim.Adam(model.parameters(), LR, weight_decay=LAMBDA)"
   ]
  },
  {
   "cell_type": "markdown",
   "id": "realistic-reporter",
   "metadata": {},
   "source": [
    "#### ```train_model()``` method를 통해 모델 학습"
   ]
  },
  {
   "cell_type": "code",
   "execution_count": 11,
   "id": "desperate-chambers",
   "metadata": {},
   "outputs": [
    {
     "name": "stdout",
     "output_type": "stream",
     "text": [
      "(0.07s) [Epoch 1]\n",
      "\tTrain Loss : 0.0014202\tTrain Score : 0\n",
      "\tEval Loss : 0.00095347\tEval Score : 0\n",
      "(0.06s) [Epoch 11]\n",
      "\tTrain Loss : 0.00032104\tTrain Score : 0\n",
      "\tEval Loss : 0.00064182\tEval Score : 0\n",
      "(0.06s) [Epoch 21]\n",
      "\tTrain Loss : 0.00032062\tTrain Score : 0\n",
      "\tEval Loss : 0.0006486\tEval Score : 0\n",
      "(0.06s) [Epoch 31]\n",
      "\tTrain Loss : 0.00032018\tTrain Score : 0\n",
      "\tEval Loss : 0.00064114\tEval Score : 0\n",
      "(0.06s) [Epoch 41]\n",
      "\tTrain Loss : 0.00031976\tTrain Score : 0\n",
      "\tEval Loss : 0.00063462\tEval Score : 0\n",
      "(0.06s) [Epoch 51]\n",
      "\tTrain Loss : 0.00031794\tTrain Score : 0\n",
      "\tEval Loss : 0.00066365\tEval Score : 0\n",
      "(0.06s) [Epoch 61]\n",
      "\tTrain Loss : 0.00032079\tTrain Score : 0\n",
      "\tEval Loss : 0.00065631\tEval Score : 0\n",
      "(0.06s) [Epoch 71]\n",
      "\tTrain Loss : 0.00031803\tTrain Score : 0\n",
      "\tEval Loss : 0.00065928\tEval Score : 0\n",
      "(0.06s) [Epoch 81]\n",
      "\tTrain Loss : 0.00031906\tTrain Score : 0\n",
      "\tEval Loss : 0.00065137\tEval Score : 0\n",
      "(0.06s) [Epoch 91]\n",
      "\tTrain Loss : 0.00031771\tTrain Score : 0\n",
      "\tEval Loss : 0.0007243\tEval Score : 0\n"
     ]
    }
   ],
   "source": [
    "model.train_model(train_loader, test_loader, EPOCH, optimizer, report_intv=10)"
   ]
  },
  {
   "cell_type": "markdown",
   "id": "spread-increase",
   "metadata": {},
   "source": [
    "# 결과 분석"
   ]
  },
  {
   "cell_type": "code",
   "execution_count": 12,
   "id": "commercial-pharmacy",
   "metadata": {},
   "outputs": [],
   "source": [
    "def run_inference(model, dataloader):\n",
    "    model.eval()\n",
    "    losses = []\n",
    "    ys = []\n",
    "    criterion = nn.MSELoss(reduction='none')\n",
    "    for batch, label, mask in dataloader:\n",
    "        batch = batch.cuda().to(dtype=torch.float)\n",
    "        batch = model.preprocess(batch)\n",
    "        with torch.no_grad():\n",
    "            pred = model.forward(batch)\n",
    "        loss = criterion(pred, model.c.repeat(pred.shape[0],1)).view(pred.shape[0],-1).mean(-1)\n",
    "        losses.append(loss.cpu())\n",
    "        ys.append(label)\n",
    "    losses = torch.cat(losses, 0)\n",
    "    ys = torch.cat(ys, 0)\n",
    "    return losses, ys\n",
    "\n",
    "def find_thres(losses, sigma=3):\n",
    "    mean = losses.mean()\n",
    "    std = losses.std()\n",
    "    thres = mean+std*sigma\n",
    "    return thres.item()\n"
   ]
  },
  {
   "cell_type": "markdown",
   "id": "proud-basketball",
   "metadata": {},
   "source": [
    "#### 학습 데이터(정상 데이터)에 대해 loss계산"
   ]
  },
  {
   "cell_type": "code",
   "execution_count": 13,
   "id": "funky-sierra",
   "metadata": {},
   "outputs": [
    {
     "name": "stdout",
     "output_type": "stream",
     "text": [
      "torch.Size([5923])\n"
     ]
    }
   ],
   "source": [
    "losses_train, _ = run_inference(model, train_loader)\n",
    "\n",
    "print(losses_train.shape)"
   ]
  },
  {
   "cell_type": "markdown",
   "id": "ceramic-beijing",
   "metadata": {},
   "source": [
    "#### 학습 데이터(정상 데이터)의 loss 분포를 바탕으로 이상 수치 threshold 설정"
   ]
  },
  {
   "cell_type": "code",
   "execution_count": 14,
   "id": "simplified-sellers",
   "metadata": {},
   "outputs": [
    {
     "name": "stdout",
     "output_type": "stream",
     "text": [
      "0.0007385670905932784\n"
     ]
    }
   ],
   "source": [
    "thres = find_thres(losses_train, sigma=2)\n",
    "print(thres)"
   ]
  },
  {
   "cell_type": "markdown",
   "id": "static-blair",
   "metadata": {},
   "source": [
    "#### Test 데이터에 대해 loss 계산"
   ]
  },
  {
   "cell_type": "code",
   "execution_count": 15,
   "id": "double-street",
   "metadata": {},
   "outputs": [
    {
     "name": "stdout",
     "output_type": "stream",
     "text": [
      "torch.Size([980]) torch.Size([980])\n"
     ]
    }
   ],
   "source": [
    "losses, ys = run_inference(model, test_loader)\n",
    "\n",
    "losses_p = losses[ys==0]\n",
    "losses_n = losses[ys!=0]\n",
    "print(losses_p.shape, losses_n.shape)"
   ]
  },
  {
   "cell_type": "markdown",
   "id": "grave-policy",
   "metadata": {},
   "source": [
    "#### 결정된 threshold를 바탕으로, Test 데이터에 대한 Confusion matrix (TP/FP/FN/TN) 및 Accuracy, Precision, Recall 계산"
   ]
  },
  {
   "cell_type": "code",
   "execution_count": 16,
   "id": "independent-wheat",
   "metadata": {},
   "outputs": [
    {
     "name": "stdout",
     "output_type": "stream",
     "text": [
      "TP :   930,\tFP :   317\n",
      "FN :    50,\tTN :   663\n",
      "Accuracy : 0.81,\tPrecision : 0.75,\tRecall : 0.95\n"
     ]
    }
   ],
   "source": [
    "TP = len(losses_p[losses_p<thres])\n",
    "FN = len(losses_p[losses_p>thres])\n",
    "TN = len(losses_n[losses_n>thres])\n",
    "FP = len(losses_n[losses_n<thres])\n",
    "print('TP : %5d,\\tFP : %5d'%(TP, FP))\n",
    "print('FN : %5d,\\tTN : %5d'%(FN ,TN))\n",
    "print('Accuracy : %.2f,\\tPrecision : %.2f,\\tRecall : %.2f'%((TP+TN)/(TP+TN+FP+FN), (TP)/(TP+FP+1e-10), (TP)/(TP+FN)))"
   ]
  },
  {
   "cell_type": "markdown",
   "id": "finished-vienna",
   "metadata": {},
   "source": [
    "#### Test 데이터의 각 ground-truth label 별 loss 분포 확인"
   ]
  },
  {
   "cell_type": "code",
   "execution_count": 17,
   "id": "desperate-planet",
   "metadata": {},
   "outputs": [
    {
     "data": {
      "image/png": "[encoded data removed]",
      "text/plain": [
       "<Figure size 432x288 with 1 Axes>"
      ]
     },
     "metadata": {
      "needs_background": "light"
     },
     "output_type": "display_data"
    },
    {
     "name": "stdout",
     "output_type": "stream",
     "text": [
      "[Normal]\n",
      "Max : 0.0013\tMean : 0.0003\tMin : 0.0000\n",
      "\n"
     ]
    },
    {
     "data": {
      "image/png": "[encoded data removed]",
      "text/plain": [
       "<Figure size 432x288 with 1 Axes>"
      ]
     },
     "metadata": {
      "needs_background": "light"
     },
     "output_type": "display_data"
    },
    {
     "name": "stdout",
     "output_type": "stream",
     "text": [
      "[Anomaly 1]\n",
      "Max : 0.0017\tMean : 0.0014\tMin : 0.0008\n",
      "\n"
     ]
    },
    {
     "data": {
      "image/png": "[encoded data removed]",
      "text/plain": [
       "<Figure size 432x288 with 1 Axes>"
      ]
     },
     "metadata": {
      "needs_background": "light"
     },
     "output_type": "display_data"
    },
    {
     "name": "stdout",
     "output_type": "stream",
     "text": [
      "[Anomaly 2]\n",
      "Max : 0.0015\tMean : 0.0008\tMin : 0.0000\n",
      "\n"
     ]
    },
    {
     "data": {
      "image/png": "[encoded data removed]",
      "text/plain": [
       "<Figure size 432x288 with 1 Axes>"
      ]
     },
     "metadata": {
      "needs_background": "light"
     },
     "output_type": "display_data"
    },
    {
     "name": "stdout",
     "output_type": "stream",
     "text": [
      "[Anomaly 3]\n",
      "Max : 0.0017\tMean : 0.0008\tMin : 0.0000\n",
      "\n"
     ]
    },
    {
     "data": {
      "image/png": "[encoded data removed]",
      "text/plain": [
       "<Figure size 432x288 with 1 Axes>"
      ]
     },
     "metadata": {
      "needs_background": "light"
     },
     "output_type": "display_data"
    },
    {
     "name": "stdout",
     "output_type": "stream",
     "text": [
      "[Anomaly 4]\n",
      "Max : 0.0015\tMean : 0.0009\tMin : 0.0003\n",
      "\n"
     ]
    },
    {
     "data": {
      "image/png": "[encoded data removed]",
      "text/plain": [
       "<Figure size 432x288 with 1 Axes>"
      ]
     },
     "metadata": {
      "needs_background": "light"
     },
     "output_type": "display_data"
    },
    {
     "name": "stdout",
     "output_type": "stream",
     "text": [
      "[Anomaly 5]\n",
      "Max : 0.0014\tMean : 0.0007\tMin : 0.0001\n",
      "\n"
     ]
    },
    {
     "data": {
      "image/png": "[encoded data removed]",
      "text/plain": [
       "<Figure size 432x288 with 1 Axes>"
      ]
     },
     "metadata": {
      "needs_background": "light"
     },
     "output_type": "display_data"
    },
    {
     "name": "stdout",
     "output_type": "stream",
     "text": [
      "[Anomaly 6]\n",
      "Max : 0.0014\tMean : 0.0007\tMin : 0.0001\n",
      "\n"
     ]
    },
    {
     "data": {
      "image/png": "[encoded data removed]",
      "text/plain": [
       "<Figure size 432x288 with 1 Axes>"
      ]
     },
     "metadata": {
      "needs_background": "light"
     },
     "output_type": "display_data"
    },
    {
     "name": "stdout",
     "output_type": "stream",
     "text": [
      "[Anomaly 7]\n",
      "Max : 0.0016\tMean : 0.0010\tMin : 0.0004\n",
      "\n"
     ]
    },
    {
     "data": {
      "image/png": "[encoded data removed]",
      "text/plain": [
       "<Figure size 432x288 with 1 Axes>"
      ]
     },
     "metadata": {
      "needs_background": "light"
     },
     "output_type": "display_data"
    },
    {
     "name": "stdout",
     "output_type": "stream",
     "text": [
      "[Anomaly 8]\n",
      "Max : 0.0014\tMean : 0.0007\tMin : 0.0000\n",
      "\n"
     ]
    },
    {
     "data": {
      "image/png": "[encoded data removed]",
      "text/plain": [
       "<Figure size 432x288 with 1 Axes>"
      ]
     },
     "metadata": {
      "needs_background": "light"
     },
     "output_type": "display_data"
    },
    {
     "name": "stdout",
     "output_type": "stream",
     "text": [
      "[Anomaly 9]\n",
      "Max : 0.0013\tMean : 0.0009\tMin : 0.0003\n",
      "\n"
     ]
    },
    {
     "data": {
      "image/png": "[encoded data removed]",
      "text/plain": [
       "<Figure size 432x288 with 1 Axes>"
      ]
     },
     "metadata": {
      "needs_background": "light"
     },
     "output_type": "display_data"
    }
   ],
   "source": [
    "import matplotlib.pyplot as plt\n",
    "maxes=[]\n",
    "means=[]\n",
    "mins=[]\n",
    "lois = [losses[ys==i] for i in range(10)]\n",
    "for i in range(10):\n",
    "    loi = lois[i]\n",
    "    counts, bins = np.histogram(loi)\n",
    "    plt.hist(bins[:-1], bins, weights=counts)\n",
    "    plt.axvline(thres, c='r')\n",
    "    plt.tight_layout()\n",
    "    plt.show()\n",
    "    if i==0:\n",
    "        print('[Normal]')\n",
    "    else:\n",
    "        print('[Anomaly %d]'%i)\n",
    "    maxes.append(loi.max())\n",
    "    means.append(loi.mean())\n",
    "    mins.append(loi.min())\n",
    "    print('Max : %.4f\\tMean : %.4f\\tMin : %.4f\\n'%(maxes[-1], means[-1], mins[-1]))\n",
    "    \n",
    "plt.boxplot(lois)\n",
    "plt.axhline(thres, c='r')\n",
    "plt.show()"
   ]
  },
  {
   "cell_type": "markdown",
   "id": "waiting-phoenix",
   "metadata": {},
   "source": [
    "#### Test 데이터의 각 비정상 상태 label(우)에 대해, 정상 데이터(좌)와의 loss 분포 비교"
   ]
  },
  {
   "cell_type": "code",
   "execution_count": 18,
   "id": "respiratory-brazil",
   "metadata": {},
   "outputs": [
    {
     "data": {
      "image/png": "[encoded data removed]",
      "text/plain": [
       "<Figure size 432x288 with 1 Axes>"
      ]
     },
     "metadata": {
      "needs_background": "light"
     },
     "output_type": "display_data"
    },
    {
     "data": {
      "image/png": "[encoded data removed]",
      "text/plain": [
       "<Figure size 432x288 with 1 Axes>"
      ]
     },
     "metadata": {
      "needs_background": "light"
     },
     "output_type": "display_data"
    },
    {
     "data": {
      "image/png": "[encoded data removed]",
      "text/plain": [
       "<Figure size 432x288 with 1 Axes>"
      ]
     },
     "metadata": {
      "needs_background": "light"
     },
     "output_type": "display_data"
    },
    {
     "data": {
      "image/png": "[encoded data removed]",
      "text/plain": [
       "<Figure size 432x288 with 1 Axes>"
      ]
     },
     "metadata": {
      "needs_background": "light"
     },
     "output_type": "display_data"
    },
    {
     "data": {
      "image/png": "[encoded data removed]",
      "text/plain": [
       "<Figure size 432x288 with 1 Axes>"
      ]
     },
     "metadata": {
      "needs_background": "light"
     },
     "output_type": "display_data"
    },
    {
     "data": {
      "image/png": "[encoded data removed]",
      "text/plain": [
       "<Figure size 432x288 with 1 Axes>"
      ]
     },
     "metadata": {
      "needs_background": "light"
     },
     "output_type": "display_data"
    },
    {
     "data": {
      "image/png": "[encoded data removed]",
      "text/plain": [
       "<Figure size 432x288 with 1 Axes>"
      ]
     },
     "metadata": {
      "needs_background": "light"
     },
     "output_type": "display_data"
    },
    {
     "data": {
      "image/png": "[encoded data removed]",
      "text/plain": [
       "<Figure size 432x288 with 1 Axes>"
      ]
     },
     "metadata": {
      "needs_background": "light"
     },
     "output_type": "display_data"
    },
    {
     "data": {
      "image/png": "[encoded data removed]",
      "text/plain": [
       "<Figure size 432x288 with 1 Axes>"
      ]
     },
     "metadata": {
      "needs_background": "light"
     },
     "output_type": "display_data"
    }
   ],
   "source": [
    "for i in range(9):\n",
    "    plt.boxplot([lois[0],lois[i+1]])\n",
    "    plt.axhline(thres, c='r')\n",
    "    plt.show()"
   ]
  },
  {
   "cell_type": "markdown",
   "id": "interesting-senate",
   "metadata": {},
   "source": [
    "#### ROC 커브 확인"
   ]
  },
  {
   "cell_type": "code",
   "execution_count": 19,
   "id": "boring-oregon",
   "metadata": {},
   "outputs": [
    {
     "data": {
      "image/png": "[encoded data removed]",
      "text/plain": [
       "<Figure size 432x288 with 1 Axes>"
      ]
     },
     "metadata": {
      "needs_background": "light"
     },
     "output_type": "display_data"
    },
    {
     "name": "stdout",
     "output_type": "stream",
     "text": [
      "Thres : 1.0017e+00,\tFPR : 0.0000,\tTPR : 0.0000\n",
      "Thres : 1.7385e-03,\tFPR : 0.0000,\tTPR : 0.0010\n",
      "Thres : 1.3245e-03,\tFPR : 0.0000,\tTPR : 0.1480\n",
      "Thres : 1.3235e-03,\tFPR : 0.0000,\tTPR : 0.1500\n",
      "Thres : 1.2812e-03,\tFPR : 0.0000,\tTPR : 0.1694\n",
      "Thres : 1.2785e-03,\tFPR : 0.0010,\tTPR : 0.1694\n",
      "Thres : 1.1566e-03,\tFPR : 0.0010,\tTPR : 0.2561\n",
      "Thres : 1.1555e-03,\tFPR : 0.0020,\tTPR : 0.2561\n",
      "Thres : 1.0862e-03,\tFPR : 0.0020,\tTPR : 0.3255\n",
      "Thres : 1.0855e-03,\tFPR : 0.0031,\tTPR : 0.3255\n",
      "Thres : 1.0443e-03,\tFPR : 0.0031,\tTPR : 0.3663\n",
      "Thres : 1.0440e-03,\tFPR : 0.0041,\tTPR : 0.3663\n",
      "Thres : 1.0293e-03,\tFPR : 0.0041,\tTPR : 0.3776\n",
      "Thres : 1.0259e-03,\tFPR : 0.0051,\tTPR : 0.3776\n",
      "Thres : 1.0251e-03,\tFPR : 0.0051,\tTPR : 0.3796\n",
      "Thres : 1.0173e-03,\tFPR : 0.0051,\tTPR : 0.3878\n",
      "Thres : 1.0170e-03,\tFPR : 0.0051,\tTPR : 0.3898\n",
      "Thres : 9.7603e-04,\tFPR : 0.0051,\tTPR : 0.4347\n",
      "Thres : 9.7528e-04,\tFPR : 0.0061,\tTPR : 0.4347\n",
      "Thres : 9.6494e-04,\tFPR : 0.0061,\tTPR : 0.4531\n",
      "Thres : 9.6260e-04,\tFPR : 0.0071,\tTPR : 0.4531\n",
      "Thres : 9.5929e-04,\tFPR : 0.0071,\tTPR : 0.4571\n",
      "Thres : 9.5910e-04,\tFPR : 0.0082,\tTPR : 0.4571\n",
      "Thres : 9.4083e-04,\tFPR : 0.0082,\tTPR : 0.4724\n",
      "Thres : 9.3960e-04,\tFPR : 0.0092,\tTPR : 0.4724\n",
      "Thres : 9.1920e-04,\tFPR : 0.0092,\tTPR : 0.4847\n",
      "Thres : 9.1752e-04,\tFPR : 0.0102,\tTPR : 0.4847\n",
      "Thres : 9.1684e-04,\tFPR : 0.0102,\tTPR : 0.4857\n",
      "Thres : 9.1519e-04,\tFPR : 0.0112,\tTPR : 0.4857\n",
      "Thres : 8.9212e-04,\tFPR : 0.0112,\tTPR : 0.5092\n",
      "Thres : 8.9188e-04,\tFPR : 0.0122,\tTPR : 0.5092\n",
      "Thres : 8.8485e-04,\tFPR : 0.0122,\tTPR : 0.5143\n",
      "Thres : 8.8416e-04,\tFPR : 0.0133,\tTPR : 0.5143\n",
      "Thres : 8.7890e-04,\tFPR : 0.0133,\tTPR : 0.5255\n",
      "Thres : 8.7884e-04,\tFPR : 0.0143,\tTPR : 0.5255\n",
      "Thres : 8.7449e-04,\tFPR : 0.0143,\tTPR : 0.5296\n",
      "Thres : 8.7438e-04,\tFPR : 0.0153,\tTPR : 0.5296\n",
      "Thres : 8.7392e-04,\tFPR : 0.0153,\tTPR : 0.5337\n",
      "Thres : 8.7332e-04,\tFPR : 0.0163,\tTPR : 0.5337\n",
      "Thres : 8.5843e-04,\tFPR : 0.0163,\tTPR : 0.5520\n",
      "Thres : 8.5843e-04,\tFPR : 0.0173,\tTPR : 0.5520\n",
      "Thres : 8.5550e-04,\tFPR : 0.0173,\tTPR : 0.5541\n",
      "Thres : 8.5496e-04,\tFPR : 0.0184,\tTPR : 0.5541\n",
      "Thres : 8.5279e-04,\tFPR : 0.0184,\tTPR : 0.5582\n",
      "Thres : 8.5254e-04,\tFPR : 0.0194,\tTPR : 0.5582\n",
      "Thres : 8.5066e-04,\tFPR : 0.0194,\tTPR : 0.5602\n",
      "Thres : 8.4894e-04,\tFPR : 0.0204,\tTPR : 0.5602\n",
      "Thres : 8.4732e-04,\tFPR : 0.0204,\tTPR : 0.5633\n",
      "Thres : 8.4636e-04,\tFPR : 0.0214,\tTPR : 0.5633\n",
      "Thres : 8.4424e-04,\tFPR : 0.0214,\tTPR : 0.5663\n",
      "Thres : 8.4324e-04,\tFPR : 0.0235,\tTPR : 0.5663\n",
      "Thres : 8.3871e-04,\tFPR : 0.0235,\tTPR : 0.5704\n",
      "Thres : 8.3862e-04,\tFPR : 0.0245,\tTPR : 0.5704\n",
      "Thres : 8.3202e-04,\tFPR : 0.0245,\tTPR : 0.5755\n",
      "Thres : 8.3096e-04,\tFPR : 0.0255,\tTPR : 0.5755\n",
      "Thres : 8.2856e-04,\tFPR : 0.0255,\tTPR : 0.5796\n",
      "Thres : 8.2805e-04,\tFPR : 0.0265,\tTPR : 0.5796\n",
      "Thres : 8.2768e-04,\tFPR : 0.0265,\tTPR : 0.5806\n",
      "Thres : 8.2652e-04,\tFPR : 0.0276,\tTPR : 0.5806\n",
      "Thres : 8.2386e-04,\tFPR : 0.0276,\tTPR : 0.5847\n",
      "Thres : 8.2275e-04,\tFPR : 0.0286,\tTPR : 0.5847\n",
      "Thres : 8.1987e-04,\tFPR : 0.0286,\tTPR : 0.5878\n",
      "Thres : 8.1965e-04,\tFPR : 0.0296,\tTPR : 0.5878\n",
      "Thres : 8.1840e-04,\tFPR : 0.0296,\tTPR : 0.5918\n",
      "Thres : 8.1627e-04,\tFPR : 0.0306,\tTPR : 0.5918\n",
      "Thres : 8.1472e-04,\tFPR : 0.0306,\tTPR : 0.5939\n",
      "Thres : 8.1250e-04,\tFPR : 0.0316,\tTPR : 0.5939\n",
      "Thres : 8.1105e-04,\tFPR : 0.0316,\tTPR : 0.5969\n",
      "Thres : 8.0991e-04,\tFPR : 0.0327,\tTPR : 0.5969\n",
      "Thres : 8.0566e-04,\tFPR : 0.0327,\tTPR : 0.6051\n",
      "Thres : 8.0566e-04,\tFPR : 0.0337,\tTPR : 0.6051\n",
      "Thres : 7.9954e-04,\tFPR : 0.0337,\tTPR : 0.6153\n",
      "Thres : 7.9939e-04,\tFPR : 0.0347,\tTPR : 0.6153\n",
      "Thres : 7.9608e-04,\tFPR : 0.0347,\tTPR : 0.6224\n",
      "Thres : 7.9585e-04,\tFPR : 0.0357,\tTPR : 0.6224\n",
      "Thres : 7.9432e-04,\tFPR : 0.0357,\tTPR : 0.6235\n",
      "Thres : 7.9402e-04,\tFPR : 0.0367,\tTPR : 0.6235\n",
      "Thres : 7.8206e-04,\tFPR : 0.0367,\tTPR : 0.6306\n",
      "Thres : 7.8148e-04,\tFPR : 0.0378,\tTPR : 0.6306\n",
      "Thres : 7.7858e-04,\tFPR : 0.0378,\tTPR : 0.6337\n",
      "Thres : 7.7846e-04,\tFPR : 0.0378,\tTPR : 0.6357\n",
      "Thres : 7.7387e-04,\tFPR : 0.0378,\tTPR : 0.6408\n",
      "Thres : 7.7273e-04,\tFPR : 0.0388,\tTPR : 0.6408\n",
      "Thres : 7.7176e-04,\tFPR : 0.0388,\tTPR : 0.6418\n",
      "Thres : 7.7135e-04,\tFPR : 0.0408,\tTPR : 0.6418\n",
      "Thres : 7.6539e-04,\tFPR : 0.0408,\tTPR : 0.6490\n",
      "Thres : 7.6489e-04,\tFPR : 0.0408,\tTPR : 0.6510\n",
      "Thres : 7.6481e-04,\tFPR : 0.0418,\tTPR : 0.6510\n",
      "Thres : 7.5939e-04,\tFPR : 0.0418,\tTPR : 0.6612\n",
      "Thres : 7.5934e-04,\tFPR : 0.0429,\tTPR : 0.6612\n",
      "Thres : 7.5831e-04,\tFPR : 0.0429,\tTPR : 0.6633\n",
      "Thres : 7.5701e-04,\tFPR : 0.0449,\tTPR : 0.6633\n",
      "Thres : 7.5700e-04,\tFPR : 0.0449,\tTPR : 0.6643\n",
      "Thres : 7.5501e-04,\tFPR : 0.0459,\tTPR : 0.6643\n",
      "Thres : 7.5393e-04,\tFPR : 0.0459,\tTPR : 0.6673\n",
      "Thres : 7.5091e-04,\tFPR : 0.0469,\tTPR : 0.6673\n",
      "Thres : 7.4979e-04,\tFPR : 0.0469,\tTPR : 0.6694\n",
      "Thres : 7.4925e-04,\tFPR : 0.0480,\tTPR : 0.6694\n",
      "Thres : 7.4806e-04,\tFPR : 0.0480,\tTPR : 0.6704\n",
      "Thres : 7.4794e-04,\tFPR : 0.0490,\tTPR : 0.6704\n",
      "Thres : 7.4736e-04,\tFPR : 0.0490,\tTPR : 0.6714\n",
      "Thres : 7.4678e-04,\tFPR : 0.0500,\tTPR : 0.6714\n",
      "Thres : 7.4362e-04,\tFPR : 0.0500,\tTPR : 0.6755\n",
      "Thres : 7.3950e-04,\tFPR : 0.0510,\tTPR : 0.6755\n",
      "Thres : 7.3477e-04,\tFPR : 0.0510,\tTPR : 0.6847\n",
      "Thres : 7.3470e-04,\tFPR : 0.0520,\tTPR : 0.6847\n",
      "Thres : 7.2282e-04,\tFPR : 0.0520,\tTPR : 0.6908\n",
      "Thres : 7.2278e-04,\tFPR : 0.0531,\tTPR : 0.6908\n",
      "Thres : 7.1662e-04,\tFPR : 0.0531,\tTPR : 0.6969\n",
      "Thres : 7.1344e-04,\tFPR : 0.0561,\tTPR : 0.6969\n",
      "Thres : 7.0783e-04,\tFPR : 0.0561,\tTPR : 0.7051\n",
      "Thres : 7.0710e-04,\tFPR : 0.0582,\tTPR : 0.7051\n",
      "Thres : 7.0262e-04,\tFPR : 0.0582,\tTPR : 0.7153\n",
      "Thres : 7.0135e-04,\tFPR : 0.0602,\tTPR : 0.7153\n",
      "Thres : 6.9353e-04,\tFPR : 0.0602,\tTPR : 0.7276\n",
      "Thres : 6.9331e-04,\tFPR : 0.0612,\tTPR : 0.7276\n",
      "Thres : 6.9303e-04,\tFPR : 0.0612,\tTPR : 0.7286\n",
      "Thres : 6.9262e-04,\tFPR : 0.0622,\tTPR : 0.7286\n",
      "Thres : 6.8890e-04,\tFPR : 0.0622,\tTPR : 0.7316\n",
      "Thres : 6.8853e-04,\tFPR : 0.0633,\tTPR : 0.7316\n",
      "Thres : 6.8801e-04,\tFPR : 0.0633,\tTPR : 0.7327\n",
      "Thres : 6.8801e-04,\tFPR : 0.0643,\tTPR : 0.7327\n",
      "Thres : 6.8671e-04,\tFPR : 0.0643,\tTPR : 0.7357\n",
      "Thres : 6.8551e-04,\tFPR : 0.0663,\tTPR : 0.7357\n",
      "Thres : 6.8259e-04,\tFPR : 0.0663,\tTPR : 0.7388\n",
      "Thres : 6.8247e-04,\tFPR : 0.0673,\tTPR : 0.7388\n",
      "Thres : 6.8147e-04,\tFPR : 0.0673,\tTPR : 0.7418\n",
      "Thres : 6.8048e-04,\tFPR : 0.0684,\tTPR : 0.7418\n",
      "Thres : 6.8021e-04,\tFPR : 0.0684,\tTPR : 0.7429\n",
      "Thres : 6.8010e-04,\tFPR : 0.0694,\tTPR : 0.7429\n",
      "Thres : 6.7523e-04,\tFPR : 0.0694,\tTPR : 0.7449\n",
      "Thres : 6.7492e-04,\tFPR : 0.0714,\tTPR : 0.7449\n",
      "Thres : 6.7330e-04,\tFPR : 0.0714,\tTPR : 0.7459\n",
      "Thres : 6.7297e-04,\tFPR : 0.0724,\tTPR : 0.7459\n",
      "Thres : 6.7207e-04,\tFPR : 0.0724,\tTPR : 0.7469\n",
      "Thres : 6.7177e-04,\tFPR : 0.0735,\tTPR : 0.7469\n",
      "Thres : 6.7083e-04,\tFPR : 0.0735,\tTPR : 0.7490\n",
      "Thres : 6.7027e-04,\tFPR : 0.0745,\tTPR : 0.7490\n",
      "Thres : 6.6914e-04,\tFPR : 0.0745,\tTPR : 0.7520\n",
      "Thres : 6.6897e-04,\tFPR : 0.0755,\tTPR : 0.7520\n",
      "Thres : 6.6694e-04,\tFPR : 0.0755,\tTPR : 0.7561\n",
      "Thres : 6.6619e-04,\tFPR : 0.0776,\tTPR : 0.7561\n",
      "Thres : 6.5494e-04,\tFPR : 0.0776,\tTPR : 0.7663\n",
      "Thres : 6.5443e-04,\tFPR : 0.0786,\tTPR : 0.7663\n",
      "Thres : 6.5433e-04,\tFPR : 0.0786,\tTPR : 0.7673\n",
      "Thres : 6.5285e-04,\tFPR : 0.0796,\tTPR : 0.7673\n",
      "Thres : 6.4509e-04,\tFPR : 0.0796,\tTPR : 0.7755\n",
      "Thres : 6.4493e-04,\tFPR : 0.0806,\tTPR : 0.7755\n",
      "Thres : 6.3548e-04,\tFPR : 0.0806,\tTPR : 0.7867\n",
      "Thres : 6.3414e-04,\tFPR : 0.0816,\tTPR : 0.7867\n",
      "Thres : 6.3205e-04,\tFPR : 0.0816,\tTPR : 0.7898\n",
      "Thres : 6.3195e-04,\tFPR : 0.0827,\tTPR : 0.7898\n",
      "Thres : 6.3186e-04,\tFPR : 0.0827,\tTPR : 0.7908\n",
      "Thres : 6.3176e-04,\tFPR : 0.0837,\tTPR : 0.7908\n",
      "Thres : 6.3017e-04,\tFPR : 0.0837,\tTPR : 0.7929\n",
      "Thres : 6.2850e-04,\tFPR : 0.0847,\tTPR : 0.7929\n",
      "Thres : 6.2733e-04,\tFPR : 0.0847,\tTPR : 0.7939\n",
      "Thres : 6.2503e-04,\tFPR : 0.0857,\tTPR : 0.7939\n",
      "Thres : 6.2212e-04,\tFPR : 0.0857,\tTPR : 0.7959\n",
      "Thres : 6.2202e-04,\tFPR : 0.0867,\tTPR : 0.7959\n",
      "Thres : 6.2047e-04,\tFPR : 0.0867,\tTPR : 0.8010\n",
      "Thres : 6.1917e-04,\tFPR : 0.0908,\tTPR : 0.8010\n",
      "Thres : 6.1913e-04,\tFPR : 0.0908,\tTPR : 0.8020\n",
      "Thres : 6.1862e-04,\tFPR : 0.0918,\tTPR : 0.8020\n",
      "Thres : 6.1343e-04,\tFPR : 0.0918,\tTPR : 0.8041\n",
      "Thres : 6.1258e-04,\tFPR : 0.0959,\tTPR : 0.8041\n",
      "Thres : 6.1183e-04,\tFPR : 0.0959,\tTPR : 0.8061\n",
      "Thres : 6.0741e-04,\tFPR : 0.0990,\tTPR : 0.8061\n",
      "Thres : 6.0729e-04,\tFPR : 0.0990,\tTPR : 0.8071\n",
      "Thres : 6.0476e-04,\tFPR : 0.1010,\tTPR : 0.8071\n",
      "Thres : 6.0454e-04,\tFPR : 0.1010,\tTPR : 0.8082\n",
      "Thres : 6.0433e-04,\tFPR : 0.1020,\tTPR : 0.8082\n",
      "Thres : 6.0183e-04,\tFPR : 0.1020,\tTPR : 0.8102\n",
      "Thres : 6.0095e-04,\tFPR : 0.1031,\tTPR : 0.8102\n",
      "Thres : 6.0078e-04,\tFPR : 0.1031,\tTPR : 0.8112\n",
      "Thres : 5.9952e-04,\tFPR : 0.1051,\tTPR : 0.8112\n",
      "Thres : 5.9767e-04,\tFPR : 0.1051,\tTPR : 0.8133\n",
      "Thres : 5.9631e-04,\tFPR : 0.1071,\tTPR : 0.8133\n",
      "Thres : 5.9257e-04,\tFPR : 0.1071,\tTPR : 0.8163\n",
      "Thres : 5.9237e-04,\tFPR : 0.1082,\tTPR : 0.8163\n",
      "Thres : 5.9129e-04,\tFPR : 0.1082,\tTPR : 0.8184\n",
      "Thres : 5.9104e-04,\tFPR : 0.1092,\tTPR : 0.8184\n",
      "Thres : 5.9089e-04,\tFPR : 0.1092,\tTPR : 0.8194\n",
      "Thres : 5.9016e-04,\tFPR : 0.1102,\tTPR : 0.8194\n",
      "Thres : 5.8916e-04,\tFPR : 0.1102,\tTPR : 0.8224\n",
      "Thres : 5.8886e-04,\tFPR : 0.1112,\tTPR : 0.8224\n",
      "Thres : 5.8429e-04,\tFPR : 0.1112,\tTPR : 0.8235\n",
      "Thres : 5.8393e-04,\tFPR : 0.1122,\tTPR : 0.8235\n",
      "Thres : 5.8371e-04,\tFPR : 0.1122,\tTPR : 0.8245\n",
      "Thres : 5.8282e-04,\tFPR : 0.1143,\tTPR : 0.8245\n",
      "Thres : 5.8268e-04,\tFPR : 0.1143,\tTPR : 0.8255\n",
      "Thres : 5.7982e-04,\tFPR : 0.1163,\tTPR : 0.8255\n",
      "Thres : 5.7961e-04,\tFPR : 0.1163,\tTPR : 0.8265\n",
      "Thres : 5.7961e-04,\tFPR : 0.1173,\tTPR : 0.8265\n",
      "Thres : 5.7763e-04,\tFPR : 0.1173,\tTPR : 0.8276\n",
      "Thres : 5.7248e-04,\tFPR : 0.1214,\tTPR : 0.8276\n",
      "Thres : 5.7193e-04,\tFPR : 0.1214,\tTPR : 0.8286\n",
      "Thres : 5.6967e-04,\tFPR : 0.1245,\tTPR : 0.8286\n",
      "Thres : 5.6962e-04,\tFPR : 0.1245,\tTPR : 0.8296\n",
      "Thres : 5.6842e-04,\tFPR : 0.1255,\tTPR : 0.8296\n",
      "Thres : 5.6825e-04,\tFPR : 0.1255,\tTPR : 0.8316\n",
      "Thres : 5.6780e-04,\tFPR : 0.1265,\tTPR : 0.8316\n",
      "Thres : 5.6737e-04,\tFPR : 0.1265,\tTPR : 0.8327\n",
      "Thres : 5.6655e-04,\tFPR : 0.1286,\tTPR : 0.8327\n",
      "Thres : 5.6585e-04,\tFPR : 0.1286,\tTPR : 0.8337\n",
      "Thres : 5.6524e-04,\tFPR : 0.1296,\tTPR : 0.8337\n",
      "Thres : 5.6324e-04,\tFPR : 0.1296,\tTPR : 0.8367\n",
      "Thres : 5.6311e-04,\tFPR : 0.1306,\tTPR : 0.8367\n",
      "Thres : 5.6168e-04,\tFPR : 0.1306,\tTPR : 0.8398\n",
      "Thres : 5.6109e-04,\tFPR : 0.1316,\tTPR : 0.8398\n",
      "Thres : 5.6030e-04,\tFPR : 0.1316,\tTPR : 0.8408\n",
      "Thres : 5.6014e-04,\tFPR : 0.1327,\tTPR : 0.8408\n",
      "Thres : 5.5720e-04,\tFPR : 0.1327,\tTPR : 0.8429\n",
      "Thres : 5.5678e-04,\tFPR : 0.1347,\tTPR : 0.8429\n",
      "Thres : 5.5513e-04,\tFPR : 0.1347,\tTPR : 0.8439\n",
      "Thres : 5.5412e-04,\tFPR : 0.1357,\tTPR : 0.8439\n",
      "Thres : 5.4979e-04,\tFPR : 0.1357,\tTPR : 0.8480\n",
      "Thres : 5.4953e-04,\tFPR : 0.1367,\tTPR : 0.8480\n",
      "Thres : 5.4779e-04,\tFPR : 0.1367,\tTPR : 0.8490\n",
      "Thres : 5.4720e-04,\tFPR : 0.1388,\tTPR : 0.8490\n",
      "Thres : 5.4659e-04,\tFPR : 0.1388,\tTPR : 0.8510\n",
      "Thres : 5.4563e-04,\tFPR : 0.1418,\tTPR : 0.8510\n",
      "Thres : 5.4493e-04,\tFPR : 0.1418,\tTPR : 0.8520\n",
      "Thres : 5.4482e-04,\tFPR : 0.1429,\tTPR : 0.8520\n",
      "Thres : 5.4223e-04,\tFPR : 0.1429,\tTPR : 0.8531\n",
      "Thres : 5.3751e-04,\tFPR : 0.1459,\tTPR : 0.8531\n",
      "Thres : 5.3707e-04,\tFPR : 0.1459,\tTPR : 0.8541\n",
      "Thres : 5.3048e-04,\tFPR : 0.1541,\tTPR : 0.8541\n",
      "Thres : 5.2982e-04,\tFPR : 0.1541,\tTPR : 0.8551\n",
      "Thres : 5.2951e-04,\tFPR : 0.1551,\tTPR : 0.8551\n",
      "Thres : 5.2937e-04,\tFPR : 0.1551,\tTPR : 0.8561\n",
      "Thres : 5.2715e-04,\tFPR : 0.1561,\tTPR : 0.8561\n",
      "Thres : 5.2546e-04,\tFPR : 0.1561,\tTPR : 0.8582\n",
      "Thres : 5.2460e-04,\tFPR : 0.1592,\tTPR : 0.8582\n",
      "Thres : 5.2324e-04,\tFPR : 0.1592,\tTPR : 0.8612\n",
      "Thres : 5.2317e-04,\tFPR : 0.1602,\tTPR : 0.8612\n",
      "Thres : 5.2245e-04,\tFPR : 0.1602,\tTPR : 0.8643\n",
      "Thres : 5.1586e-04,\tFPR : 0.1673,\tTPR : 0.8643\n",
      "Thres : 5.1520e-04,\tFPR : 0.1673,\tTPR : 0.8653\n",
      "Thres : 5.1463e-04,\tFPR : 0.1684,\tTPR : 0.8653\n",
      "Thres : 5.1360e-04,\tFPR : 0.1684,\tTPR : 0.8673\n",
      "Thres : 5.1055e-04,\tFPR : 0.1704,\tTPR : 0.8673\n",
      "Thres : 5.0932e-04,\tFPR : 0.1704,\tTPR : 0.8704\n",
      "Thres : 5.0827e-04,\tFPR : 0.1714,\tTPR : 0.8704\n",
      "Thres : 5.0824e-04,\tFPR : 0.1714,\tTPR : 0.8714\n",
      "Thres : 5.0820e-04,\tFPR : 0.1724,\tTPR : 0.8714\n",
      "Thres : 5.0654e-04,\tFPR : 0.1724,\tTPR : 0.8735\n",
      "Thres : 5.0571e-04,\tFPR : 0.1745,\tTPR : 0.8735\n",
      "Thres : 5.0427e-04,\tFPR : 0.1745,\tTPR : 0.8745\n",
      "Thres : 5.0403e-04,\tFPR : 0.1755,\tTPR : 0.8745\n",
      "Thres : 5.0244e-04,\tFPR : 0.1755,\tTPR : 0.8765\n",
      "Thres : 5.0094e-04,\tFPR : 0.1796,\tTPR : 0.8765\n",
      "Thres : 5.0069e-04,\tFPR : 0.1796,\tTPR : 0.8776\n",
      "Thres : 4.9919e-04,\tFPR : 0.1816,\tTPR : 0.8776\n",
      "Thres : 4.9864e-04,\tFPR : 0.1816,\tTPR : 0.8786\n",
      "Thres : 4.9862e-04,\tFPR : 0.1827,\tTPR : 0.8786\n",
      "Thres : 4.9602e-04,\tFPR : 0.1827,\tTPR : 0.8827\n",
      "Thres : 4.9394e-04,\tFPR : 0.1888,\tTPR : 0.8827\n",
      "Thres : 4.9326e-04,\tFPR : 0.1888,\tTPR : 0.8847\n",
      "Thres : 4.8845e-04,\tFPR : 0.1969,\tTPR : 0.8847\n",
      "Thres : 4.8620e-04,\tFPR : 0.1969,\tTPR : 0.8867\n",
      "Thres : 4.8575e-04,\tFPR : 0.2000,\tTPR : 0.8867\n",
      "Thres : 4.8181e-04,\tFPR : 0.2000,\tTPR : 0.8908\n",
      "Thres : 4.7768e-04,\tFPR : 0.2082,\tTPR : 0.8908\n",
      "Thres : 4.7717e-04,\tFPR : 0.2082,\tTPR : 0.8929\n",
      "Thres : 4.7561e-04,\tFPR : 0.2102,\tTPR : 0.8929\n",
      "Thres : 4.7083e-04,\tFPR : 0.2102,\tTPR : 0.8959\n",
      "Thres : 4.7022e-04,\tFPR : 0.2112,\tTPR : 0.8959\n",
      "Thres : 4.7021e-04,\tFPR : 0.2112,\tTPR : 0.8969\n",
      "Thres : 4.6467e-04,\tFPR : 0.2214,\tTPR : 0.8969\n",
      "Thres : 4.6326e-04,\tFPR : 0.2214,\tTPR : 0.8980\n",
      "Thres : 4.5941e-04,\tFPR : 0.2265,\tTPR : 0.8980\n",
      "Thres : 4.5796e-04,\tFPR : 0.2265,\tTPR : 0.9000\n",
      "Thres : 4.5531e-04,\tFPR : 0.2316,\tTPR : 0.9000\n",
      "Thres : 4.5503e-04,\tFPR : 0.2316,\tTPR : 0.9020\n",
      "Thres : 4.5192e-04,\tFPR : 0.2378,\tTPR : 0.9020\n",
      "Thres : 4.5174e-04,\tFPR : 0.2378,\tTPR : 0.9031\n",
      "Thres : 4.4598e-04,\tFPR : 0.2408,\tTPR : 0.9031\n",
      "Thres : 4.4444e-04,\tFPR : 0.2408,\tTPR : 0.9041\n",
      "Thres : 4.4320e-04,\tFPR : 0.2429,\tTPR : 0.9041\n",
      "Thres : 4.4172e-04,\tFPR : 0.2429,\tTPR : 0.9071\n",
      "Thres : 4.4061e-04,\tFPR : 0.2439,\tTPR : 0.9071\n",
      "Thres : 4.3826e-04,\tFPR : 0.2439,\tTPR : 0.9082\n",
      "Thres : 4.3547e-04,\tFPR : 0.2490,\tTPR : 0.9082\n",
      "Thres : 4.3506e-04,\tFPR : 0.2490,\tTPR : 0.9092\n",
      "Thres : 4.3420e-04,\tFPR : 0.2510,\tTPR : 0.9092\n",
      "Thres : 4.3229e-04,\tFPR : 0.2510,\tTPR : 0.9112\n",
      "Thres : 4.3120e-04,\tFPR : 0.2541,\tTPR : 0.9112\n",
      "Thres : 4.2959e-04,\tFPR : 0.2541,\tTPR : 0.9143\n",
      "Thres : 4.2552e-04,\tFPR : 0.2551,\tTPR : 0.9143\n",
      "Thres : 4.2305e-04,\tFPR : 0.2551,\tTPR : 0.9153\n",
      "Thres : 4.2304e-04,\tFPR : 0.2561,\tTPR : 0.9153\n",
      "Thres : 4.2180e-04,\tFPR : 0.2561,\tTPR : 0.9173\n",
      "Thres : 4.1845e-04,\tFPR : 0.2592,\tTPR : 0.9173\n",
      "Thres : 4.1683e-04,\tFPR : 0.2592,\tTPR : 0.9184\n",
      "Thres : 4.1520e-04,\tFPR : 0.2612,\tTPR : 0.9184\n",
      "Thres : 4.1408e-04,\tFPR : 0.2612,\tTPR : 0.9194\n",
      "Thres : 3.9943e-04,\tFPR : 0.2816,\tTPR : 0.9194\n",
      "Thres : 3.9872e-04,\tFPR : 0.2816,\tTPR : 0.9204\n",
      "Thres : 3.9176e-04,\tFPR : 0.2959,\tTPR : 0.9204\n",
      "Thres : 3.9128e-04,\tFPR : 0.2959,\tTPR : 0.9224\n",
      "Thres : 3.9062e-04,\tFPR : 0.2980,\tTPR : 0.9224\n",
      "Thres : 3.9038e-04,\tFPR : 0.2980,\tTPR : 0.9235\n",
      "Thres : 3.8474e-04,\tFPR : 0.3031,\tTPR : 0.9235\n",
      "Thres : 3.8460e-04,\tFPR : 0.3031,\tTPR : 0.9245\n",
      "Thres : 3.8209e-04,\tFPR : 0.3071,\tTPR : 0.9245\n",
      "Thres : 3.8195e-04,\tFPR : 0.3071,\tTPR : 0.9255\n",
      "Thres : 3.8103e-04,\tFPR : 0.3092,\tTPR : 0.9255\n",
      "Thres : 3.8082e-04,\tFPR : 0.3092,\tTPR : 0.9265\n",
      "Thres : 3.8024e-04,\tFPR : 0.3102,\tTPR : 0.9265\n",
      "Thres : 3.7978e-04,\tFPR : 0.3102,\tTPR : 0.9296\n",
      "Thres : 3.7699e-04,\tFPR : 0.3143,\tTPR : 0.9296\n",
      "Thres : 3.7699e-04,\tFPR : 0.3143,\tTPR : 0.9306\n",
      "Thres : 3.7593e-04,\tFPR : 0.3173,\tTPR : 0.9306\n",
      "Thres : 3.7550e-04,\tFPR : 0.3173,\tTPR : 0.9316\n",
      "Thres : 3.7491e-04,\tFPR : 0.3194,\tTPR : 0.9316\n",
      "Thres : 3.7478e-04,\tFPR : 0.3194,\tTPR : 0.9327\n",
      "Thres : 3.7359e-04,\tFPR : 0.3235,\tTPR : 0.9327\n",
      "Thres : 3.7148e-04,\tFPR : 0.3235,\tTPR : 0.9347\n",
      "Thres : 3.6833e-04,\tFPR : 0.3306,\tTPR : 0.9347\n",
      "Thres : 3.6657e-04,\tFPR : 0.3306,\tTPR : 0.9357\n",
      "Thres : 3.6531e-04,\tFPR : 0.3327,\tTPR : 0.9357\n",
      "Thres : 3.6523e-04,\tFPR : 0.3327,\tTPR : 0.9367\n",
      "Thres : 3.6408e-04,\tFPR : 0.3347,\tTPR : 0.9367\n",
      "Thres : 3.6329e-04,\tFPR : 0.3347,\tTPR : 0.9378\n",
      "Thres : 3.6307e-04,\tFPR : 0.3357,\tTPR : 0.9378\n",
      "Thres : 3.6018e-04,\tFPR : 0.3357,\tTPR : 0.9388\n",
      "Thres : 3.6000e-04,\tFPR : 0.3378,\tTPR : 0.9388\n",
      "Thres : 3.5981e-04,\tFPR : 0.3378,\tTPR : 0.9398\n",
      "Thres : 3.5839e-04,\tFPR : 0.3388,\tTPR : 0.9398\n",
      "Thres : 3.5797e-04,\tFPR : 0.3388,\tTPR : 0.9408\n",
      "Thres : 3.5625e-04,\tFPR : 0.3449,\tTPR : 0.9408\n",
      "Thres : 3.5540e-04,\tFPR : 0.3449,\tTPR : 0.9429\n",
      "Thres : 3.5537e-04,\tFPR : 0.3459,\tTPR : 0.9429\n",
      "Thres : 3.5434e-04,\tFPR : 0.3459,\tTPR : 0.9439\n",
      "Thres : 3.5391e-04,\tFPR : 0.3469,\tTPR : 0.9439\n",
      "Thres : 3.5252e-04,\tFPR : 0.3469,\tTPR : 0.9449\n",
      "Thres : 3.5032e-04,\tFPR : 0.3510,\tTPR : 0.9449\n",
      "Thres : 3.4929e-04,\tFPR : 0.3510,\tTPR : 0.9459\n",
      "Thres : 3.4929e-04,\tFPR : 0.3520,\tTPR : 0.9459\n",
      "Thres : 3.4915e-04,\tFPR : 0.3520,\tTPR : 0.9480\n",
      "Thres : 3.4749e-04,\tFPR : 0.3541,\tTPR : 0.9480\n",
      "Thres : 3.4705e-04,\tFPR : 0.3541,\tTPR : 0.9490\n",
      "Thres : 3.4611e-04,\tFPR : 0.3561,\tTPR : 0.9490\n",
      "Thres : 3.4550e-04,\tFPR : 0.3561,\tTPR : 0.9500\n",
      "Thres : 3.4515e-04,\tFPR : 0.3571,\tTPR : 0.9500\n",
      "Thres : 3.4505e-04,\tFPR : 0.3571,\tTPR : 0.9510\n",
      "Thres : 3.4237e-04,\tFPR : 0.3622,\tTPR : 0.9510\n",
      "Thres : 3.4156e-04,\tFPR : 0.3622,\tTPR : 0.9520\n",
      "Thres : 3.4055e-04,\tFPR : 0.3633,\tTPR : 0.9520\n",
      "Thres : 3.4011e-04,\tFPR : 0.3633,\tTPR : 0.9531\n",
      "Thres : 3.3712e-04,\tFPR : 0.3694,\tTPR : 0.9531\n",
      "Thres : 3.3698e-04,\tFPR : 0.3694,\tTPR : 0.9541\n",
      "Thres : 3.3584e-04,\tFPR : 0.3755,\tTPR : 0.9541\n",
      "Thres : 3.3584e-04,\tFPR : 0.3755,\tTPR : 0.9551\n",
      "Thres : 3.3526e-04,\tFPR : 0.3765,\tTPR : 0.9551\n",
      "Thres : 3.3440e-04,\tFPR : 0.3765,\tTPR : 0.9561\n",
      "Thres : 3.2637e-04,\tFPR : 0.3867,\tTPR : 0.9561\n",
      "Thres : 3.2623e-04,\tFPR : 0.3867,\tTPR : 0.9571\n",
      "Thres : 3.2142e-04,\tFPR : 0.3918,\tTPR : 0.9571\n",
      "Thres : 3.2010e-04,\tFPR : 0.3918,\tTPR : 0.9602\n",
      "Thres : 3.1413e-04,\tFPR : 0.3990,\tTPR : 0.9602\n",
      "Thres : 3.1410e-04,\tFPR : 0.3990,\tTPR : 0.9612\n",
      "Thres : 3.1152e-04,\tFPR : 0.4051,\tTPR : 0.9612\n",
      "Thres : 3.1114e-04,\tFPR : 0.4051,\tTPR : 0.9622\n",
      "Thres : 3.1031e-04,\tFPR : 0.4061,\tTPR : 0.9622\n",
      "Thres : 3.0986e-04,\tFPR : 0.4061,\tTPR : 0.9633\n",
      "Thres : 3.0952e-04,\tFPR : 0.4071,\tTPR : 0.9633\n",
      "Thres : 3.0922e-04,\tFPR : 0.4071,\tTPR : 0.9643\n",
      "Thres : 3.0298e-04,\tFPR : 0.4163,\tTPR : 0.9643\n",
      "Thres : 3.0285e-04,\tFPR : 0.4163,\tTPR : 0.9653\n",
      "Thres : 2.9900e-04,\tFPR : 0.4214,\tTPR : 0.9653\n",
      "Thres : 2.9835e-04,\tFPR : 0.4214,\tTPR : 0.9663\n",
      "Thres : 2.8324e-04,\tFPR : 0.4429,\tTPR : 0.9663\n",
      "Thres : 2.8322e-04,\tFPR : 0.4429,\tTPR : 0.9673\n",
      "Thres : 2.8286e-04,\tFPR : 0.4459,\tTPR : 0.9673\n",
      "Thres : 2.8264e-04,\tFPR : 0.4459,\tTPR : 0.9694\n",
      "Thres : 2.8085e-04,\tFPR : 0.4490,\tTPR : 0.9694\n",
      "Thres : 2.7934e-04,\tFPR : 0.4490,\tTPR : 0.9714\n",
      "Thres : 2.7573e-04,\tFPR : 0.4541,\tTPR : 0.9714\n",
      "Thres : 2.7543e-04,\tFPR : 0.4541,\tTPR : 0.9724\n",
      "Thres : 2.6864e-04,\tFPR : 0.4612,\tTPR : 0.9724\n",
      "Thres : 2.6822e-04,\tFPR : 0.4612,\tTPR : 0.9735\n",
      "Thres : 2.6104e-04,\tFPR : 0.4745,\tTPR : 0.9735\n",
      "Thres : 2.6047e-04,\tFPR : 0.4755,\tTPR : 0.9745\n",
      "Thres : 2.5948e-04,\tFPR : 0.4776,\tTPR : 0.9745\n",
      "Thres : 2.5876e-04,\tFPR : 0.4776,\tTPR : 0.9765\n",
      "Thres : 2.3778e-04,\tFPR : 0.5102,\tTPR : 0.9765\n",
      "Thres : 2.3777e-04,\tFPR : 0.5102,\tTPR : 0.9776\n",
      "Thres : 2.3694e-04,\tFPR : 0.5112,\tTPR : 0.9776\n",
      "Thres : 2.3670e-04,\tFPR : 0.5112,\tTPR : 0.9786\n",
      "Thres : 2.3000e-04,\tFPR : 0.5204,\tTPR : 0.9786\n",
      "Thres : 2.2978e-04,\tFPR : 0.5204,\tTPR : 0.9796\n",
      "Thres : 2.2071e-04,\tFPR : 0.5429,\tTPR : 0.9796\n",
      "Thres : 2.1991e-04,\tFPR : 0.5429,\tTPR : 0.9816\n",
      "Thres : 2.1926e-04,\tFPR : 0.5480,\tTPR : 0.9816\n",
      "Thres : 2.1884e-04,\tFPR : 0.5480,\tTPR : 0.9827\n",
      "Thres : 2.1514e-04,\tFPR : 0.5561,\tTPR : 0.9827\n",
      "Thres : 2.1505e-04,\tFPR : 0.5561,\tTPR : 0.9837\n",
      "Thres : 2.1198e-04,\tFPR : 0.5612,\tTPR : 0.9837\n",
      "Thres : 2.1133e-04,\tFPR : 0.5612,\tTPR : 0.9847\n",
      "Thres : 2.0974e-04,\tFPR : 0.5643,\tTPR : 0.9847\n",
      "Thres : 2.0957e-04,\tFPR : 0.5643,\tTPR : 0.9857\n",
      "Thres : 1.9613e-04,\tFPR : 0.5888,\tTPR : 0.9857\n",
      "Thres : 1.9585e-04,\tFPR : 0.5888,\tTPR : 0.9867\n",
      "Thres : 1.9197e-04,\tFPR : 0.5939,\tTPR : 0.9867\n",
      "Thres : 1.9148e-04,\tFPR : 0.5939,\tTPR : 0.9878\n",
      "Thres : 1.7703e-04,\tFPR : 0.6163,\tTPR : 0.9878\n",
      "Thres : 1.7671e-04,\tFPR : 0.6163,\tTPR : 0.9888\n",
      "Thres : 1.4668e-04,\tFPR : 0.6684,\tTPR : 0.9888\n",
      "Thres : 1.4640e-04,\tFPR : 0.6684,\tTPR : 0.9898\n",
      "Thres : 1.4120e-04,\tFPR : 0.6765,\tTPR : 0.9898\n",
      "Thres : 1.4091e-04,\tFPR : 0.6765,\tTPR : 0.9908\n",
      "Thres : 1.2498e-04,\tFPR : 0.6990,\tTPR : 0.9908\n",
      "Thres : 1.2493e-04,\tFPR : 0.6990,\tTPR : 0.9918\n",
      "Thres : 1.1445e-04,\tFPR : 0.7224,\tTPR : 0.9918\n",
      "Thres : 1.1414e-04,\tFPR : 0.7224,\tTPR : 0.9929\n",
      "Thres : 1.0107e-04,\tFPR : 0.7459,\tTPR : 0.9929\n",
      "Thres : 1.0042e-04,\tFPR : 0.7459,\tTPR : 0.9939\n",
      "Thres : 9.5105e-05,\tFPR : 0.7592,\tTPR : 0.9939\n",
      "Thres : 9.5010e-05,\tFPR : 0.7592,\tTPR : 0.9949\n",
      "Thres : 8.6062e-05,\tFPR : 0.7765,\tTPR : 0.9949\n",
      "Thres : 8.5274e-05,\tFPR : 0.7786,\tTPR : 0.9949\n",
      "Thres : 6.5250e-05,\tFPR : 0.8214,\tTPR : 0.9949\n",
      "Thres : 6.3700e-05,\tFPR : 0.8214,\tTPR : 0.9959\n",
      "Thres : 6.0846e-05,\tFPR : 0.8265,\tTPR : 0.9959\n",
      "Thres : 6.0390e-05,\tFPR : 0.8286,\tTPR : 0.9959\n",
      "Thres : 5.9500e-05,\tFPR : 0.8296,\tTPR : 0.9959\n",
      "Thres : 5.8991e-05,\tFPR : 0.8296,\tTPR : 0.9969\n",
      "Thres : 4.6930e-05,\tFPR : 0.8592,\tTPR : 0.9969\n",
      "Thres : 4.6231e-05,\tFPR : 0.8592,\tTPR : 0.9980\n",
      "Thres : 3.9391e-05,\tFPR : 0.8735,\tTPR : 0.9980\n",
      "Thres : 3.9365e-05,\tFPR : 0.8735,\tTPR : 0.9990\n",
      "Thres : 3.6011e-05,\tFPR : 0.8857,\tTPR : 0.9990\n",
      "Thres : 3.5725e-05,\tFPR : 0.8857,\tTPR : 1.0000\n",
      "Thres : 1.4424e-08,\tFPR : 1.0000,\tTPR : 1.0000\n"
     ]
    }
   ],
   "source": [
    "from sklearn.metrics import roc_curve\n",
    "\n",
    "\n",
    "fpr, tpr, thresholds = roc_curve([0]*losses[ys==0].shape[0]+[1]*losses[ys!=0].shape[0], losses.flatten())\n",
    "def plot_roc_curve(fper, tper):\n",
    "    plt.plot(fper, tper, color='red', label='ROC')\n",
    "    plt.plot([0, 1], [0, 1], color='green', linestyle='--')\n",
    "    plt.xlabel('False Positive Rate')\n",
    "    plt.ylabel('True Positive Rate')\n",
    "    plt.title('Receiver Operating Characteristic Curve')\n",
    "    plt.legend()\n",
    "    plt.show()\n",
    "plot_roc_curve(fpr,tpr)\n",
    "for i in range(len(fpr)):\n",
    "    print(\"Thres : %.4e,\\tFPR : %.4f,\\tTPR : %.4f\"%(thresholds[i],fpr[i],tpr[i]))\n",
    "#print(fpr,tpr,thres)"
   ]
  },
  {
   "cell_type": "markdown",
   "id": "dietary-restoration",
   "metadata": {},
   "source": [
    "#### 임의의 THRESHOLD에 대한 결과 지표 확인"
   ]
  },
  {
   "cell_type": "code",
   "execution_count": 20,
   "id": "funky-story",
   "metadata": {},
   "outputs": [
    {
     "name": "stdout",
     "output_type": "stream",
     "text": [
      "TP :   896,\tFP :   201\n",
      "FN :    84,\tTN :   779\n",
      "Accuracy : 0.85,\tPrecision : 0.82,\tRecall : 0.91\n"
     ]
    }
   ],
   "source": [
    "THRESHOLD = 6.2215e-04\n",
    "TP = len(losses_p[losses_p<THRESHOLD])\n",
    "FN = len(losses_p[losses_p>THRESHOLD])\n",
    "TN = len(losses_n[losses_n>THRESHOLD])\n",
    "FP = len(losses_n[losses_n<THRESHOLD])\n",
    "print('TP : %5d,\\tFP : %5d'%(TP, FP))\n",
    "print('FN : %5d,\\tTN : %5d'%(FN ,TN))\n",
    "print('Accuracy : %.2f,\\tPrecision : %.2f,\\tRecall : %.2f'%((TP+TN)/(TP+TN+FP+FN), (TP)/(TP+FP), (TP)/(TP+FN)))"
   ]
  },
  {
   "cell_type": "code",
   "execution_count": null,
   "id": "destroyed-green",
   "metadata": {},
   "outputs": [],
   "source": []
  },
  {
   "cell_type": "code",
   "execution_count": null,
   "id": "later-appreciation",
   "metadata": {},
   "outputs": [],
   "source": []
  },
  {
   "cell_type": "code",
   "execution_count": null,
   "id": "catholic-myanmar",
   "metadata": {},
   "outputs": [],
   "source": []
  }
 ],
 "metadata": {
  "kernelspec": {
   "display_name": "Python 3",
   "language": "python",
   "name": "python3"
  },
  "language_info": {
   "codemirror_mode": {
    "name": "ipython",
    "version": 3
   },
   "file_extension": ".py",
   "mimetype": "text/x-python",
   "name": "python",
   "nbconvert_exporter": "python",
   "pygments_lexer": "ipython3",
   "version": "3.8.3"
  }
 },
 "nbformat": 4,
 "nbformat_minor": 5
}
