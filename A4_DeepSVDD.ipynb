{
 "cells": [
  {
   "cell_type": "markdown",
   "id": "quarterly-steps",
   "metadata": {},
   "source": [
    "# Deep SVDD"
   ]
  },
  {
   "cell_type": "code",
   "execution_count": 1,
   "id": "encouraging-failing",
   "metadata": {},
   "outputs": [],
   "source": [
    "from src.skeleton import BaseModel"
   ]
  },
  {
   "cell_type": "markdown",
   "id": "atomic-scene",
   "metadata": {},
   "source": [
    "### 실험 데이터셋 로드 (MNIST) : A3과 동일\n",
    "- 정상 데이터 : digit 0\n",
    "- 비정상 데이터 : 그 외 digit"
   ]
  },
  {
   "cell_type": "code",
   "execution_count": 2,
   "id": "atlantic-render",
   "metadata": {},
   "outputs": [],
   "source": [
    "from torchvision.datasets import MNIST\n",
    "import torchvision.transforms as transforms\n",
    "import torch"
   ]
  },
  {
   "cell_type": "code",
   "execution_count": 3,
   "id": "working-criticism",
   "metadata": {},
   "outputs": [
    {
     "name": "stdout",
     "output_type": "stream",
     "text": [
      "60000 10000\n"
     ]
    }
   ],
   "source": [
    "mnist_train_dataset = MNIST('./datasets', download=True, train=True, transform=transforms.ToTensor())\n",
    "mnist_test_dataset = MNIST('./datasets', download=True, train=False, transform=transforms.ToTensor())\n",
    "print(len(mnist_train_dataset), len(mnist_test_dataset))"
   ]
  },
  {
   "cell_type": "code",
   "execution_count": 4,
   "id": "floral-supervisor",
   "metadata": {},
   "outputs": [
    {
     "name": "stdout",
     "output_type": "stream",
     "text": [
      "torch.Size([5923, 28, 28]) torch.Size([980, 28, 28]) torch.Size([980, 28, 28])\n"
     ]
    }
   ],
   "source": [
    "#print(mnist_train_dataset)\n",
    "#print(mnist_train_dataset.targets.shape)\n",
    "#print(mnist_train_dataset.data.shape)\n",
    "positive_set_train = mnist_train_dataset.data[mnist_train_dataset.targets==0]\n",
    "positive_set_test = mnist_test_dataset.data[mnist_test_dataset.targets==0]\n",
    "negative_set_test = mnist_test_dataset.data[mnist_test_dataset.targets!=0][:positive_set_test.shape[0]]\n",
    "print(positive_set_train.shape, positive_set_test.shape,negative_set_test.shape)"
   ]
  },
  {
   "cell_type": "code",
   "execution_count": 5,
   "id": "colonial-registrar",
   "metadata": {},
   "outputs": [
    {
     "name": "stdout",
     "output_type": "stream",
     "text": [
      "5923 980 980 1960\n"
     ]
    }
   ],
   "source": [
    "from torch.utils.data import Dataset, DataLoader, ConcatDataset\n",
    "import numpy as np\n",
    "class MNIST_Anomaly(Dataset):\n",
    "    def __init__(self, dataset, y):\n",
    "        self.dataset = dataset\n",
    "        self.y = y\n",
    "    def __len__(self):\n",
    "        return len(self.dataset)\n",
    "    def __getitem__(self, index):\n",
    "        X = self.dataset[index]\n",
    "        y = self.y[index]\n",
    "        return X,y,True\n",
    "    \n",
    "dataset_train = MNIST_Anomaly(positive_set_train, [torch.tensor(0.0)]*len(positive_set_train))\n",
    "dataset_p_test = MNIST_Anomaly(positive_set_test, [torch.tensor(0.0)]*len(positive_set_test))\n",
    "dataset_n_test = MNIST_Anomaly(negative_set_test, mnist_test_dataset.targets[mnist_test_dataset.targets!=0])\n",
    "dataset_test = ConcatDataset([dataset_p_test, dataset_n_test])\n",
    "print(len(dataset_train), len(dataset_p_test), len(dataset_n_test), len(dataset_test))"
   ]
  },
  {
   "cell_type": "markdown",
   "id": "polished-belief",
   "metadata": {},
   "source": [
    "#### 배치 사이즈 (BATCH), 에폭 수 (EPOCH), learning rate (LR)정의\n",
    "#### !!! lambda 정의"
   ]
  },
  {
   "cell_type": "code",
   "execution_count": 6,
   "id": "adjacent-electronics",
   "metadata": {},
   "outputs": [],
   "source": [
    "BATCH = 256\n",
    "EPOCH = 100\n",
    "LR = 1e-3\n",
    "LAMBDA = 1e-2"
   ]
  },
  {
   "cell_type": "markdown",
   "id": "physical-principle",
   "metadata": {},
   "source": [
    "train, test DataLoader 생성 (train DataLoader만 shuffle)"
   ]
  },
  {
   "cell_type": "code",
   "execution_count": 7,
   "id": "suited-pittsburgh",
   "metadata": {},
   "outputs": [],
   "source": [
    "train_loader = DataLoader(dataset_train, batch_size=BATCH, shuffle=True)\n",
    "test_loader = DataLoader(dataset_test, batch_size=BATCH)"
   ]
  },
  {
   "cell_type": "markdown",
   "id": "sacred-constraint",
   "metadata": {},
   "source": [
    "## !!! Deep SVDD 모델 생성\n",
    "- ```__init__()``` method에서 모델의 layer 정의\n",
    "    - !!! input으로 train_loader를 받아, **c**값 도출 (```init_c``` 함수 사용)\n",
    "- ```forward()``` method에서 모델의 forward pass 정의\n",
    "    - !!! output 형태 : (batch, **latent dimension**)\n",
    "- !!! ```criterion()``` method에서 모델의 loss 함수 정의"
   ]
  },
  {
   "cell_type": "code",
   "execution_count": 8,
   "id": "cubic-insulin",
   "metadata": {},
   "outputs": [],
   "source": [
    "import torch.nn as nn\n",
    "\n",
    "HDIM = 64\n",
    "\n",
    "def init_c(model, train_loader, eps=0.1):\n",
    "    n = 0\n",
    "    c = torch.zeros(HDIM)\n",
    "    \n",
    "    model.eval()\n",
    "    \n",
    "    for batch, label, mask in train_loader:\n",
    "        batch=batch.to(dtype=torch.float)\n",
    "        if label.dtype == torch.int32:\n",
    "            label = label.to(dtype=torch.long)\n",
    "        elif label.dtype == torch.double:\n",
    "            label = label.to(dtype=torch.float)\n",
    "        mask=mask.to(dtype=torch.bool)\n",
    "        \n",
    "        batch = model.preprocess(batch, label, mask)\n",
    "        with torch.no_grad():\n",
    "            pred = model(batch, label, mask)\n",
    "        n += pred.shape[0]\n",
    "        c += torch.sum(pred, dim=0)\n",
    "    c /= n\n",
    "    \n",
    "    c[(abs(c) < eps) & (c<0)] = -eps\n",
    "    c[(abs(c) < eps) & (c>0)] = eps\n",
    "    \n",
    "    return c.unsqueeze(0)\n",
    "\n",
    "\n",
    "class MyModel(BaseModel):\n",
    "    def __init__(self, in_dim, c=None, train_loader=None, shift=0.0, scale=1.0, model_name='my_model'):\n",
    "        super().__init__(model_name=model_name)\n",
    "        self.enc1 = nn.Linear(in_dim, 256)\n",
    "        self.enc2 = nn.Linear(256,128)\n",
    "        self.enc3 = nn.Linear(128,HDIM)\n",
    "        self.relu = nn.ReLU()\n",
    "        self.shift = shift\n",
    "        self.scale = scale\n",
    "        if c is None:\n",
    "            self.c = init_c(self, train_loader)\n",
    "        else:\n",
    "            self.c = c\n",
    "        self.c = self.c.to(device='cuda')\n",
    "        \n",
    "    def forward(self, batch, label=None, mask=None):\n",
    "        x = self.enc1(batch)\n",
    "        x = self.relu(x)\n",
    "        x = self.enc2(x)\n",
    "        x = self.relu(x)\n",
    "        x = self.enc3(x)\n",
    "        return x\n",
    "    \n",
    "    def preprocess(self, batch, label=None, mask=None):\n",
    "        batch = (batch-self.shift) / self.scale\n",
    "        return batch.view(batch.size(0),-1)\n",
    "    \n",
    "    def criterion(self, pred=None, batch=None, label=None, mask=None):\n",
    "        #print(pred.shape, self.c.shape)\n",
    "        loss = nn.MSELoss()(pred, self.c.repeat(pred.shape[0],1))\n",
    "        return loss\n"
   ]
  },
  {
   "cell_type": "markdown",
   "id": "similar-angola",
   "metadata": {},
   "source": [
    "모델 생성 및 CUDA로 이동\n",
    "- !!! **train_loader 전달**"
   ]
  },
  {
   "cell_type": "code",
   "execution_count": 9,
   "id": "republican-softball",
   "metadata": {},
   "outputs": [
    {
     "data": {
      "text/plain": [
       "MyModel(\n",
       "  (enc1): Linear(in_features=784, out_features=256, bias=True)\n",
       "  (enc2): Linear(in_features=256, out_features=128, bias=True)\n",
       "  (enc3): Linear(in_features=128, out_features=64, bias=True)\n",
       "  (relu): ReLU()\n",
       ")"
      ]
     },
     "execution_count": 9,
     "metadata": {},
     "output_type": "execute_result"
    }
   ],
   "source": [
    "model = MyModel(28*28, shift=positive_set_train.min(), scale=(positive_set_train.max()-positive_set_train.min()+1e-10), train_loader=train_loader)\n",
    "model.cuda()"
   ]
  },
  {
   "cell_type": "markdown",
   "id": "sudden-injection",
   "metadata": {},
   "source": [
    "optimizer 생성\n",
    "- !!! **Weight Decay 설정**"
   ]
  },
  {
   "cell_type": "code",
   "execution_count": 10,
   "id": "organic-header",
   "metadata": {},
   "outputs": [],
   "source": [
    "import torch.optim as optim\n",
    "optimizer = optim.Adam(model.parameters(), LR, weight_decay=LAMBDA)"
   ]
  },
  {
   "cell_type": "markdown",
   "id": "skilled-apple",
   "metadata": {},
   "source": [
    "#### ```train_model()``` method를 통해 모델 학습"
   ]
  },
  {
   "cell_type": "code",
   "execution_count": 11,
   "id": "racial-flood",
   "metadata": {},
   "outputs": [
    {
     "name": "stdout",
     "output_type": "stream",
     "text": [
      "(0.34s) [Epoch 1]\n",
      "\tTrain Loss : 1.1397e-03\tTrain Score : 0.0000\n",
      "\tEval Loss : 9.1969e-04\tEval Score : 0.0000\n",
      "(0.06s) [Epoch 11]\n",
      "\tTrain Loss : 3.2027e-04\tTrain Score : 0.0000\n",
      "\tEval Loss : 6.3030e-04\tEval Score : 0.0000\n",
      "(0.06s) [Epoch 21]\n",
      "\tTrain Loss : 3.2108e-04\tTrain Score : 0.0000\n",
      "\tEval Loss : 6.1850e-04\tEval Score : 0.0000\n",
      "(0.06s) [Epoch 31]\n",
      "\tTrain Loss : 3.1893e-04\tTrain Score : 0.0000\n",
      "\tEval Loss : 6.3425e-04\tEval Score : 0.0000\n",
      "(0.06s) [Epoch 41]\n",
      "\tTrain Loss : 3.1935e-04\tTrain Score : 0.0000\n",
      "\tEval Loss : 6.4746e-04\tEval Score : 0.0000\n",
      "(0.06s) [Epoch 51]\n",
      "\tTrain Loss : 3.2015e-04\tTrain Score : 0.0000\n",
      "\tEval Loss : 6.2652e-04\tEval Score : 0.0000\n",
      "(0.06s) [Epoch 61]\n",
      "\tTrain Loss : 3.2147e-04\tTrain Score : 0.0000\n",
      "\tEval Loss : 6.0960e-04\tEval Score : 0.0000\n",
      "(0.06s) [Epoch 71]\n",
      "\tTrain Loss : 3.1866e-04\tTrain Score : 0.0000\n",
      "\tEval Loss : 6.9224e-04\tEval Score : 0.0000\n",
      "(0.06s) [Epoch 81]\n",
      "\tTrain Loss : 3.1824e-04\tTrain Score : 0.0000\n",
      "\tEval Loss : 6.1625e-04\tEval Score : 0.0000\n",
      "(0.06s) [Epoch 91]\n",
      "\tTrain Loss : 3.1991e-04\tTrain Score : 0.0000\n",
      "\tEval Loss : 6.2636e-04\tEval Score : 0.0000\n"
     ]
    }
   ],
   "source": [
    "model.train_model(train_loader, test_loader, EPOCH, optimizer, report_intv=10)"
   ]
  },
  {
   "cell_type": "markdown",
   "id": "different-association",
   "metadata": {},
   "source": [
    "# 결과 분석"
   ]
  },
  {
   "cell_type": "code",
   "execution_count": 12,
   "id": "local-yorkshire",
   "metadata": {},
   "outputs": [],
   "source": [
    "def run_inference(model, dataloader):\n",
    "    model.eval()\n",
    "    losses = []\n",
    "    ys = []\n",
    "    criterion = nn.MSELoss(reduction='none')\n",
    "    for batch, label, mask in dataloader:\n",
    "        batch = batch.cuda().to(dtype=torch.float)\n",
    "        batch = model.preprocess(batch)\n",
    "        with torch.no_grad():\n",
    "            pred = model.forward(batch)\n",
    "        loss = criterion(pred, model.c.repeat(pred.shape[0],1)).view(pred.shape[0],-1).mean(-1)\n",
    "        losses.append(loss.cpu())\n",
    "        ys.append(label)\n",
    "    losses = torch.cat(losses, 0)\n",
    "    ys = torch.cat(ys, 0)\n",
    "    return losses, ys\n",
    "\n",
    "def find_thres(losses, sigma=3):\n",
    "    mean = losses.mean()\n",
    "    std = losses.std()\n",
    "    thres = mean+std*sigma\n",
    "    return thres.item()\n"
   ]
  },
  {
   "cell_type": "markdown",
   "id": "employed-respect",
   "metadata": {},
   "source": [
    "#### 학습 데이터(정상 데이터)에 대해 loss계산"
   ]
  },
  {
   "cell_type": "code",
   "execution_count": 13,
   "id": "periodic-miller",
   "metadata": {},
   "outputs": [
    {
     "name": "stdout",
     "output_type": "stream",
     "text": [
      "torch.Size([5923])\n"
     ]
    }
   ],
   "source": [
    "losses_train, _ = run_inference(model, train_loader)\n",
    "\n",
    "print(losses_train.shape)"
   ]
  },
  {
   "cell_type": "markdown",
   "id": "canadian-compilation",
   "metadata": {},
   "source": [
    "#### 학습 데이터(정상 데이터)의 loss 분포를 바탕으로 이상 수치 threshold 설정"
   ]
  },
  {
   "cell_type": "code",
   "execution_count": 14,
   "id": "underlying-billy",
   "metadata": {},
   "outputs": [
    {
     "name": "stdout",
     "output_type": "stream",
     "text": [
      "0.0007702667498961091\n"
     ]
    }
   ],
   "source": [
    "thres = find_thres(losses_train, sigma=2)\n",
    "print(thres)"
   ]
  },
  {
   "cell_type": "markdown",
   "id": "medical-mouth",
   "metadata": {},
   "source": [
    "#### Test 데이터에 대해 loss 계산"
   ]
  },
  {
   "cell_type": "code",
   "execution_count": 15,
   "id": "connected-cancellation",
   "metadata": {},
   "outputs": [
    {
     "name": "stdout",
     "output_type": "stream",
     "text": [
      "torch.Size([980]) torch.Size([980])\n"
     ]
    }
   ],
   "source": [
    "losses, ys = run_inference(model, test_loader)\n",
    "\n",
    "losses_p = losses[ys==0]\n",
    "losses_n = losses[ys!=0]\n",
    "print(losses_p.shape, losses_n.shape)"
   ]
  },
  {
   "cell_type": "markdown",
   "id": "palestinian-venture",
   "metadata": {},
   "source": [
    "#### 결정된 threshold를 바탕으로, Test 데이터에 대한 Confusion matrix (TP/FP/FN/TN) 및 Accuracy, Precision, Recall 계산"
   ]
  },
  {
   "cell_type": "code",
   "execution_count": 16,
   "id": "rural-buffer",
   "metadata": {},
   "outputs": [
    {
     "name": "stdout",
     "output_type": "stream",
     "text": [
      "TP :   932,\tFP :   329\n",
      "FN :    48,\tTN :   651\n",
      "Accuracy : 0.81,\tPrecision : 0.74,\tRecall : 0.95\n"
     ]
    }
   ],
   "source": [
    "TP = len(losses_p[losses_p<thres])\n",
    "FN = len(losses_p[losses_p>thres])\n",
    "TN = len(losses_n[losses_n>thres])\n",
    "FP = len(losses_n[losses_n<thres])\n",
    "print('TP : %5d,\\tFP : %5d'%(TP, FP))\n",
    "print('FN : %5d,\\tTN : %5d'%(FN ,TN))\n",
    "print('Accuracy : %.2f,\\tPrecision : %.2f,\\tRecall : %.2f'%((TP+TN)/(TP+TN+FP+FN), (TP)/(TP+FP+1e-10), (TP)/(TP+FN)))"
   ]
  },
  {
   "cell_type": "markdown",
   "id": "familiar-footage",
   "metadata": {},
   "source": [
    "#### Test 데이터의 각 ground-truth label 별 loss 분포 확인"
   ]
  },
  {
   "cell_type": "code",
   "execution_count": 17,
   "id": "mathematical-shore",
   "metadata": {},
   "outputs": [
    {
     "data": {
      "image/png": "[encoded data removed]",
      "text/plain": [
       "<Figure size 432x288 with 1 Axes>"
      ]
     },
     "metadata": {
      "needs_background": "light"
     },
     "output_type": "display_data"
    },
    {
     "name": "stdout",
     "output_type": "stream",
     "text": [
      "[Normal]\n",
      "Max : 0.0012\tMean : 0.0003\tMin : 0.0000\n",
      "\n"
     ]
    },
    {
     "data": {
      "image/png": "[encoded data removed]",
      "text/plain": [
       "<Figure size 432x288 with 1 Axes>"
      ]
     },
     "metadata": {
      "needs_background": "light"
     },
     "output_type": "display_data"
    },
    {
     "name": "stdout",
     "output_type": "stream",
     "text": [
      "[Anomaly 1]\n",
      "Max : 0.0017\tMean : 0.0014\tMin : 0.0008\n",
      "\n"
     ]
    },
    {
     "data": {
      "image/png": "[encoded data removed]",
      "text/plain": [
       "<Figure size 432x288 with 1 Axes>"
      ]
     },
     "metadata": {
      "needs_background": "light"
     },
     "output_type": "display_data"
    },
    {
     "name": "stdout",
     "output_type": "stream",
     "text": [
      "[Anomaly 2]\n",
      "Max : 0.0014\tMean : 0.0008\tMin : 0.0001\n",
      "\n"
     ]
    },
    {
     "data": {
      "image/png": "[encoded data removed]",
      "text/plain": [
       "<Figure size 432x288 with 1 Axes>"
      ]
     },
     "metadata": {
      "needs_background": "light"
     },
     "output_type": "display_data"
    },
    {
     "name": "stdout",
     "output_type": "stream",
     "text": [
      "[Anomaly 3]\n",
      "Max : 0.0016\tMean : 0.0008\tMin : 0.0001\n",
      "\n"
     ]
    },
    {
     "data": {
      "image/png": "[encoded data removed]",
      "text/plain": [
       "<Figure size 432x288 with 1 Axes>"
      ]
     },
     "metadata": {
      "needs_background": "light"
     },
     "output_type": "display_data"
    },
    {
     "name": "stdout",
     "output_type": "stream",
     "text": [
      "[Anomaly 4]\n",
      "Max : 0.0014\tMean : 0.0009\tMin : 0.0003\n",
      "\n"
     ]
    },
    {
     "data": {
      "image/png": "[encoded data removed]",
      "text/plain": [
       "<Figure size 432x288 with 1 Axes>"
      ]
     },
     "metadata": {
      "needs_background": "light"
     },
     "output_type": "display_data"
    },
    {
     "name": "stdout",
     "output_type": "stream",
     "text": [
      "[Anomaly 5]\n",
      "Max : 0.0013\tMean : 0.0007\tMin : 0.0001\n",
      "\n"
     ]
    },
    {
     "data": {
      "image/png": "[encoded data removed]",
      "text/plain": [
       "<Figure size 432x288 with 1 Axes>"
      ]
     },
     "metadata": {
      "needs_background": "light"
     },
     "output_type": "display_data"
    },
    {
     "name": "stdout",
     "output_type": "stream",
     "text": [
      "[Anomaly 6]\n",
      "Max : 0.0014\tMean : 0.0007\tMin : 0.0001\n",
      "\n"
     ]
    },
    {
     "data": {
      "image/png": "[encoded data removed]",
      "text/plain": [
       "<Figure size 432x288 with 1 Axes>"
      ]
     },
     "metadata": {
      "needs_background": "light"
     },
     "output_type": "display_data"
    },
    {
     "name": "stdout",
     "output_type": "stream",
     "text": [
      "[Anomaly 7]\n",
      "Max : 0.0016\tMean : 0.0010\tMin : 0.0004\n",
      "\n"
     ]
    },
    {
     "data": {
      "image/png": "[encoded data removed]",
      "text/plain": [
       "<Figure size 432x288 with 1 Axes>"
      ]
     },
     "metadata": {
      "needs_background": "light"
     },
     "output_type": "display_data"
    },
    {
     "name": "stdout",
     "output_type": "stream",
     "text": [
      "[Anomaly 8]\n",
      "Max : 0.0014\tMean : 0.0007\tMin : 0.0001\n",
      "\n"
     ]
    },
    {
     "data": {
      "image/png": "[encoded data removed]",
      "text/plain": [
       "<Figure size 432x288 with 1 Axes>"
      ]
     },
     "metadata": {
      "needs_background": "light"
     },
     "output_type": "display_data"
    },
    {
     "name": "stdout",
     "output_type": "stream",
     "text": [
      "[Anomaly 9]\n",
      "Max : 0.0013\tMean : 0.0009\tMin : 0.0004\n",
      "\n"
     ]
    },
    {
     "data": {
      "image/png": "[encoded data removed]",
      "text/plain": [
       "<Figure size 432x288 with 1 Axes>"
      ]
     },
     "metadata": {
      "needs_background": "light"
     },
     "output_type": "display_data"
    }
   ],
   "source": [
    "import matplotlib.pyplot as plt\n",
    "maxes=[]\n",
    "means=[]\n",
    "mins=[]\n",
    "lois = [losses[ys==i] for i in range(10)]\n",
    "for i in range(10):\n",
    "    loi = lois[i]\n",
    "    counts, bins = np.histogram(loi)\n",
    "    plt.hist(bins[:-1], bins, weights=counts)\n",
    "    plt.axvline(thres, c='r')\n",
    "    plt.tight_layout()\n",
    "    plt.show()\n",
    "    if i==0:\n",
    "        print('[Normal]')\n",
    "    else:\n",
    "        print('[Anomaly %d]'%i)\n",
    "    maxes.append(loi.max())\n",
    "    means.append(loi.mean())\n",
    "    mins.append(loi.min())\n",
    "    print('Max : %.4f\\tMean : %.4f\\tMin : %.4f\\n'%(maxes[-1], means[-1], mins[-1]))\n",
    "    \n",
    "plt.boxplot(lois)\n",
    "plt.axhline(thres, c='r')\n",
    "plt.show()"
   ]
  },
  {
   "cell_type": "markdown",
   "id": "visible-spanking",
   "metadata": {},
   "source": [
    "#### Test 데이터의 각 비정상 상태 label(우)에 대해, 정상 데이터(좌)와의 loss 분포 비교"
   ]
  },
  {
   "cell_type": "code",
   "execution_count": 18,
   "id": "comparable-framing",
   "metadata": {},
   "outputs": [
    {
     "data": {
      "image/png": "[encoded data removed]",
      "text/plain": [
       "<Figure size 432x288 with 1 Axes>"
      ]
     },
     "metadata": {
      "needs_background": "light"
     },
     "output_type": "display_data"
    },
    {
     "data": {
      "image/png": "[encoded data removed]",
      "text/plain": [
       "<Figure size 432x288 with 1 Axes>"
      ]
     },
     "metadata": {
      "needs_background": "light"
     },
     "output_type": "display_data"
    },
    {
     "data": {
      "image/png": "[encoded data removed]",
      "text/plain": [
       "<Figure size 432x288 with 1 Axes>"
      ]
     },
     "metadata": {
      "needs_background": "light"
     },
     "output_type": "display_data"
    },
    {
     "data": {
      "image/png": "[encoded data removed]",
      "text/plain": [
       "<Figure size 432x288 with 1 Axes>"
      ]
     },
     "metadata": {
      "needs_background": "light"
     },
     "output_type": "display_data"
    },
    {
     "data": {
      "image/png": "[encoded data removed]",
      "text/plain": [
       "<Figure size 432x288 with 1 Axes>"
      ]
     },
     "metadata": {
      "needs_background": "light"
     },
     "output_type": "display_data"
    },
    {
     "data": {
      "image/png": "[encoded data removed]",
      "text/plain": [
       "<Figure size 432x288 with 1 Axes>"
      ]
     },
     "metadata": {
      "needs_background": "light"
     },
     "output_type": "display_data"
    },
    {
     "data": {
      "image/png": "[encoded data removed]",
      "text/plain": [
       "<Figure size 432x288 with 1 Axes>"
      ]
     },
     "metadata": {
      "needs_background": "light"
     },
     "output_type": "display_data"
    },
    {
     "data": {
      "image/png": "[encoded data removed]",
      "text/plain": [
       "<Figure size 432x288 with 1 Axes>"
      ]
     },
     "metadata": {
      "needs_background": "light"
     },
     "output_type": "display_data"
    },
    {
     "data": {
      "image/png": "[encoded data removed]",
      "text/plain": [
       "<Figure size 432x288 with 1 Axes>"
      ]
     },
     "metadata": {
      "needs_background": "light"
     },
     "output_type": "display_data"
    }
   ],
   "source": [
    "for i in range(9):\n",
    "    plt.boxplot([lois[0],lois[i+1]])\n",
    "    plt.axhline(thres, c='r')\n",
    "    plt.show()"
   ]
  },
  {
   "cell_type": "markdown",
   "id": "instrumental-abortion",
   "metadata": {},
   "source": [
    "#### ROC 커브 확인"
   ]
  },
  {
   "cell_type": "code",
   "execution_count": 19,
   "id": "present-usage",
   "metadata": {},
   "outputs": [
    {
     "data": {
      "image/png": "[encoded data removed]",
      "text/plain": [
       "<Figure size 432x288 with 1 Axes>"
      ]
     },
     "metadata": {
      "needs_background": "light"
     },
     "output_type": "display_data"
    },
    {
     "name": "stdout",
     "output_type": "stream",
     "text": [
      "Thres : 1.0017e+00,\tFPR : 0.0000,\tTPR : 0.0000\n",
      "Thres : 1.6641e-03,\tFPR : 0.0000,\tTPR : 0.0010\n",
      "Thres : 1.3471e-03,\tFPR : 0.0000,\tTPR : 0.1102\n",
      "Thres : 1.3466e-03,\tFPR : 0.0000,\tTPR : 0.1122\n",
      "Thres : 1.2365e-03,\tFPR : 0.0000,\tTPR : 0.1735\n",
      "Thres : 1.2333e-03,\tFPR : 0.0010,\tTPR : 0.1735\n",
      "Thres : 1.1472e-03,\tFPR : 0.0010,\tTPR : 0.2418\n",
      "Thres : 1.1466e-03,\tFPR : 0.0020,\tTPR : 0.2418\n",
      "Thres : 1.0865e-03,\tFPR : 0.0020,\tTPR : 0.3051\n",
      "Thres : 1.0860e-03,\tFPR : 0.0031,\tTPR : 0.3051\n",
      "Thres : 1.0557e-03,\tFPR : 0.0031,\tTPR : 0.3439\n",
      "Thres : 1.0554e-03,\tFPR : 0.0031,\tTPR : 0.3459\n",
      "Thres : 1.0462e-03,\tFPR : 0.0031,\tTPR : 0.3582\n",
      "Thres : 1.0450e-03,\tFPR : 0.0041,\tTPR : 0.3582\n",
      "Thres : 1.0042e-03,\tFPR : 0.0041,\tTPR : 0.3929\n",
      "Thres : 1.0028e-03,\tFPR : 0.0051,\tTPR : 0.3929\n",
      "Thres : 9.9588e-04,\tFPR : 0.0051,\tTPR : 0.4041\n",
      "Thres : 9.9531e-04,\tFPR : 0.0061,\tTPR : 0.4041\n",
      "Thres : 9.8712e-04,\tFPR : 0.0061,\tTPR : 0.4122\n",
      "Thres : 9.8653e-04,\tFPR : 0.0061,\tTPR : 0.4143\n",
      "Thres : 9.7290e-04,\tFPR : 0.0061,\tTPR : 0.4347\n",
      "Thres : 9.7136e-04,\tFPR : 0.0082,\tTPR : 0.4347\n",
      "Thres : 9.6352e-04,\tFPR : 0.0082,\tTPR : 0.4429\n",
      "Thres : 9.6343e-04,\tFPR : 0.0082,\tTPR : 0.4449\n",
      "Thres : 9.6334e-04,\tFPR : 0.0082,\tTPR : 0.4459\n",
      "Thres : 9.6118e-04,\tFPR : 0.0092,\tTPR : 0.4459\n",
      "Thres : 9.5207e-04,\tFPR : 0.0092,\tTPR : 0.4582\n",
      "Thres : 9.5160e-04,\tFPR : 0.0102,\tTPR : 0.4582\n",
      "Thres : 9.5068e-04,\tFPR : 0.0102,\tTPR : 0.4592\n",
      "Thres : 9.4693e-04,\tFPR : 0.0102,\tTPR : 0.4612\n",
      "Thres : 9.3388e-04,\tFPR : 0.0102,\tTPR : 0.4745\n",
      "Thres : 9.2909e-04,\tFPR : 0.0112,\tTPR : 0.4745\n",
      "Thres : 9.0394e-04,\tFPR : 0.0112,\tTPR : 0.4980\n",
      "Thres : 9.0323e-04,\tFPR : 0.0133,\tTPR : 0.4980\n",
      "Thres : 8.9817e-04,\tFPR : 0.0133,\tTPR : 0.5061\n",
      "Thres : 8.9810e-04,\tFPR : 0.0143,\tTPR : 0.5061\n",
      "Thres : 8.9225e-04,\tFPR : 0.0143,\tTPR : 0.5122\n",
      "Thres : 8.9221e-04,\tFPR : 0.0153,\tTPR : 0.5122\n",
      "Thres : 8.8408e-04,\tFPR : 0.0153,\tTPR : 0.5245\n",
      "Thres : 8.8377e-04,\tFPR : 0.0163,\tTPR : 0.5245\n",
      "Thres : 8.8140e-04,\tFPR : 0.0163,\tTPR : 0.5276\n",
      "Thres : 8.8140e-04,\tFPR : 0.0173,\tTPR : 0.5276\n",
      "Thres : 8.8092e-04,\tFPR : 0.0173,\tTPR : 0.5296\n",
      "Thres : 8.8019e-04,\tFPR : 0.0184,\tTPR : 0.5296\n",
      "Thres : 8.7550e-04,\tFPR : 0.0184,\tTPR : 0.5367\n",
      "Thres : 8.7515e-04,\tFPR : 0.0194,\tTPR : 0.5367\n",
      "Thres : 8.7085e-04,\tFPR : 0.0194,\tTPR : 0.5459\n",
      "Thres : 8.6874e-04,\tFPR : 0.0214,\tTPR : 0.5459\n",
      "Thres : 8.6784e-04,\tFPR : 0.0214,\tTPR : 0.5469\n",
      "Thres : 8.6684e-04,\tFPR : 0.0224,\tTPR : 0.5469\n",
      "Thres : 8.5144e-04,\tFPR : 0.0224,\tTPR : 0.5684\n",
      "Thres : 8.5139e-04,\tFPR : 0.0235,\tTPR : 0.5684\n",
      "Thres : 8.4969e-04,\tFPR : 0.0235,\tTPR : 0.5704\n",
      "Thres : 8.4919e-04,\tFPR : 0.0245,\tTPR : 0.5704\n",
      "Thres : 8.4897e-04,\tFPR : 0.0245,\tTPR : 0.5714\n",
      "Thres : 8.4827e-04,\tFPR : 0.0255,\tTPR : 0.5714\n",
      "Thres : 8.3946e-04,\tFPR : 0.0255,\tTPR : 0.5796\n",
      "Thres : 8.3870e-04,\tFPR : 0.0265,\tTPR : 0.5796\n",
      "Thres : 8.3833e-04,\tFPR : 0.0265,\tTPR : 0.5806\n",
      "Thres : 8.3826e-04,\tFPR : 0.0276,\tTPR : 0.5806\n",
      "Thres : 8.3815e-04,\tFPR : 0.0276,\tTPR : 0.5816\n",
      "Thres : 8.3807e-04,\tFPR : 0.0286,\tTPR : 0.5816\n",
      "Thres : 8.3563e-04,\tFPR : 0.0286,\tTPR : 0.5827\n",
      "Thres : 8.3513e-04,\tFPR : 0.0296,\tTPR : 0.5827\n",
      "Thres : 8.2937e-04,\tFPR : 0.0296,\tTPR : 0.5888\n",
      "Thres : 8.2823e-04,\tFPR : 0.0306,\tTPR : 0.5888\n",
      "Thres : 8.2715e-04,\tFPR : 0.0306,\tTPR : 0.5929\n",
      "Thres : 8.2692e-04,\tFPR : 0.0316,\tTPR : 0.5929\n",
      "Thres : 8.2686e-04,\tFPR : 0.0316,\tTPR : 0.5939\n",
      "Thres : 8.2524e-04,\tFPR : 0.0347,\tTPR : 0.5939\n",
      "Thres : 8.0806e-04,\tFPR : 0.0347,\tTPR : 0.6194\n",
      "Thres : 8.0755e-04,\tFPR : 0.0357,\tTPR : 0.6194\n",
      "Thres : 8.0646e-04,\tFPR : 0.0357,\tTPR : 0.6214\n",
      "Thres : 8.0520e-04,\tFPR : 0.0378,\tTPR : 0.6214\n",
      "Thres : 8.0215e-04,\tFPR : 0.0378,\tTPR : 0.6235\n",
      "Thres : 8.0176e-04,\tFPR : 0.0388,\tTPR : 0.6235\n",
      "Thres : 8.0047e-04,\tFPR : 0.0388,\tTPR : 0.6255\n",
      "Thres : 8.0018e-04,\tFPR : 0.0398,\tTPR : 0.6255\n",
      "Thres : 8.0017e-04,\tFPR : 0.0398,\tTPR : 0.6265\n",
      "Thres : 8.0004e-04,\tFPR : 0.0408,\tTPR : 0.6265\n",
      "Thres : 7.9969e-04,\tFPR : 0.0408,\tTPR : 0.6276\n",
      "Thres : 7.9928e-04,\tFPR : 0.0418,\tTPR : 0.6276\n",
      "Thres : 7.9818e-04,\tFPR : 0.0418,\tTPR : 0.6296\n",
      "Thres : 7.9618e-04,\tFPR : 0.0439,\tTPR : 0.6296\n",
      "Thres : 7.9439e-04,\tFPR : 0.0439,\tTPR : 0.6327\n",
      "Thres : 7.9389e-04,\tFPR : 0.0449,\tTPR : 0.6327\n",
      "Thres : 7.8922e-04,\tFPR : 0.0449,\tTPR : 0.6388\n",
      "Thres : 7.8914e-04,\tFPR : 0.0459,\tTPR : 0.6388\n",
      "Thres : 7.8578e-04,\tFPR : 0.0459,\tTPR : 0.6449\n",
      "Thres : 7.8570e-04,\tFPR : 0.0469,\tTPR : 0.6449\n",
      "Thres : 7.8182e-04,\tFPR : 0.0469,\tTPR : 0.6490\n",
      "Thres : 7.8153e-04,\tFPR : 0.0480,\tTPR : 0.6490\n",
      "Thres : 7.7648e-04,\tFPR : 0.0480,\tTPR : 0.6531\n",
      "Thres : 7.7642e-04,\tFPR : 0.0490,\tTPR : 0.6531\n",
      "Thres : 7.7478e-04,\tFPR : 0.0490,\tTPR : 0.6551\n",
      "Thres : 7.7411e-04,\tFPR : 0.0490,\tTPR : 0.6571\n",
      "Thres : 7.5626e-04,\tFPR : 0.0490,\tTPR : 0.6786\n",
      "Thres : 7.5582e-04,\tFPR : 0.0500,\tTPR : 0.6786\n",
      "Thres : 7.5217e-04,\tFPR : 0.0500,\tTPR : 0.6827\n",
      "Thres : 7.5215e-04,\tFPR : 0.0510,\tTPR : 0.6827\n",
      "Thres : 7.5132e-04,\tFPR : 0.0510,\tTPR : 0.6837\n",
      "Thres : 7.5071e-04,\tFPR : 0.0520,\tTPR : 0.6837\n",
      "Thres : 7.4744e-04,\tFPR : 0.0520,\tTPR : 0.6867\n",
      "Thres : 7.4721e-04,\tFPR : 0.0531,\tTPR : 0.6867\n",
      "Thres : 7.3891e-04,\tFPR : 0.0531,\tTPR : 0.6959\n",
      "Thres : 7.3726e-04,\tFPR : 0.0541,\tTPR : 0.6959\n",
      "Thres : 7.3601e-04,\tFPR : 0.0541,\tTPR : 0.6969\n",
      "Thres : 7.3422e-04,\tFPR : 0.0561,\tTPR : 0.6969\n",
      "Thres : 7.3185e-04,\tFPR : 0.0561,\tTPR : 0.7000\n",
      "Thres : 7.3094e-04,\tFPR : 0.0571,\tTPR : 0.7000\n",
      "Thres : 7.2828e-04,\tFPR : 0.0571,\tTPR : 0.7061\n",
      "Thres : 7.2773e-04,\tFPR : 0.0592,\tTPR : 0.7061\n",
      "Thres : 7.2581e-04,\tFPR : 0.0592,\tTPR : 0.7102\n",
      "Thres : 7.2507e-04,\tFPR : 0.0602,\tTPR : 0.7102\n",
      "Thres : 7.2433e-04,\tFPR : 0.0602,\tTPR : 0.7122\n",
      "Thres : 7.2418e-04,\tFPR : 0.0612,\tTPR : 0.7122\n",
      "Thres : 7.2204e-04,\tFPR : 0.0612,\tTPR : 0.7163\n",
      "Thres : 7.2000e-04,\tFPR : 0.0622,\tTPR : 0.7163\n",
      "Thres : 7.1827e-04,\tFPR : 0.0622,\tTPR : 0.7194\n",
      "Thres : 7.1741e-04,\tFPR : 0.0633,\tTPR : 0.7194\n",
      "Thres : 7.1469e-04,\tFPR : 0.0633,\tTPR : 0.7224\n",
      "Thres : 7.1361e-04,\tFPR : 0.0653,\tTPR : 0.7224\n",
      "Thres : 7.1107e-04,\tFPR : 0.0653,\tTPR : 0.7276\n",
      "Thres : 7.0968e-04,\tFPR : 0.0663,\tTPR : 0.7276\n",
      "Thres : 7.0203e-04,\tFPR : 0.0663,\tTPR : 0.7388\n",
      "Thres : 7.0136e-04,\tFPR : 0.0684,\tTPR : 0.7388\n",
      "Thres : 6.9483e-04,\tFPR : 0.0684,\tTPR : 0.7490\n",
      "Thres : 6.9380e-04,\tFPR : 0.0694,\tTPR : 0.7490\n",
      "Thres : 6.9322e-04,\tFPR : 0.0694,\tTPR : 0.7500\n",
      "Thres : 6.9295e-04,\tFPR : 0.0704,\tTPR : 0.7500\n",
      "Thres : 6.9247e-04,\tFPR : 0.0704,\tTPR : 0.7510\n",
      "Thres : 6.9230e-04,\tFPR : 0.0714,\tTPR : 0.7510\n",
      "Thres : 6.9174e-04,\tFPR : 0.0714,\tTPR : 0.7531\n",
      "Thres : 6.9159e-04,\tFPR : 0.0724,\tTPR : 0.7531\n",
      "Thres : 6.9036e-04,\tFPR : 0.0724,\tTPR : 0.7541\n",
      "Thres : 6.8976e-04,\tFPR : 0.0745,\tTPR : 0.7541\n",
      "Thres : 6.8952e-04,\tFPR : 0.0745,\tTPR : 0.7551\n",
      "Thres : 6.8719e-04,\tFPR : 0.0755,\tTPR : 0.7551\n",
      "Thres : 6.8615e-04,\tFPR : 0.0755,\tTPR : 0.7571\n",
      "Thres : 6.8600e-04,\tFPR : 0.0765,\tTPR : 0.7571\n",
      "Thres : 6.8497e-04,\tFPR : 0.0765,\tTPR : 0.7602\n",
      "Thres : 6.8398e-04,\tFPR : 0.0776,\tTPR : 0.7602\n",
      "Thres : 6.8246e-04,\tFPR : 0.0776,\tTPR : 0.7622\n",
      "Thres : 6.8213e-04,\tFPR : 0.0786,\tTPR : 0.7622\n",
      "Thres : 6.8015e-04,\tFPR : 0.0786,\tTPR : 0.7673\n",
      "Thres : 6.7992e-04,\tFPR : 0.0796,\tTPR : 0.7673\n",
      "Thres : 6.7690e-04,\tFPR : 0.0796,\tTPR : 0.7735\n",
      "Thres : 6.7176e-04,\tFPR : 0.0837,\tTPR : 0.7735\n",
      "Thres : 6.6518e-04,\tFPR : 0.0837,\tTPR : 0.7806\n",
      "Thres : 6.6400e-04,\tFPR : 0.0847,\tTPR : 0.7806\n",
      "Thres : 6.6231e-04,\tFPR : 0.0847,\tTPR : 0.7816\n",
      "Thres : 6.6200e-04,\tFPR : 0.0857,\tTPR : 0.7816\n",
      "Thres : 6.6088e-04,\tFPR : 0.0857,\tTPR : 0.7837\n",
      "Thres : 6.6029e-04,\tFPR : 0.0867,\tTPR : 0.7837\n",
      "Thres : 6.5454e-04,\tFPR : 0.0867,\tTPR : 0.7918\n",
      "Thres : 6.5417e-04,\tFPR : 0.0878,\tTPR : 0.7918\n",
      "Thres : 6.5398e-04,\tFPR : 0.0878,\tTPR : 0.7929\n",
      "Thres : 6.5332e-04,\tFPR : 0.0888,\tTPR : 0.7929\n",
      "Thres : 6.5236e-04,\tFPR : 0.0888,\tTPR : 0.7949\n",
      "Thres : 6.5082e-04,\tFPR : 0.0908,\tTPR : 0.7949\n",
      "Thres : 6.4915e-04,\tFPR : 0.0908,\tTPR : 0.7969\n",
      "Thres : 6.4677e-04,\tFPR : 0.0929,\tTPR : 0.7969\n",
      "Thres : 6.4613e-04,\tFPR : 0.0929,\tTPR : 0.7980\n",
      "Thres : 6.4504e-04,\tFPR : 0.0969,\tTPR : 0.7980\n",
      "Thres : 6.4487e-04,\tFPR : 0.0969,\tTPR : 0.7990\n",
      "Thres : 6.4220e-04,\tFPR : 0.1000,\tTPR : 0.7990\n",
      "Thres : 6.4154e-04,\tFPR : 0.1000,\tTPR : 0.8041\n",
      "Thres : 6.3972e-04,\tFPR : 0.1031,\tTPR : 0.8041\n",
      "Thres : 6.3692e-04,\tFPR : 0.1031,\tTPR : 0.8051\n",
      "Thres : 6.3069e-04,\tFPR : 0.1051,\tTPR : 0.8051\n",
      "Thres : 6.2815e-04,\tFPR : 0.1051,\tTPR : 0.8071\n",
      "Thres : 6.2777e-04,\tFPR : 0.1061,\tTPR : 0.8071\n",
      "Thres : 6.2764e-04,\tFPR : 0.1061,\tTPR : 0.8082\n",
      "Thres : 6.2695e-04,\tFPR : 0.1092,\tTPR : 0.8082\n",
      "Thres : 6.2476e-04,\tFPR : 0.1092,\tTPR : 0.8133\n",
      "Thres : 6.2373e-04,\tFPR : 0.1102,\tTPR : 0.8133\n",
      "Thres : 6.2219e-04,\tFPR : 0.1102,\tTPR : 0.8153\n",
      "Thres : 6.2111e-04,\tFPR : 0.1133,\tTPR : 0.8153\n",
      "Thres : 6.2095e-04,\tFPR : 0.1133,\tTPR : 0.8163\n",
      "Thres : 6.2011e-04,\tFPR : 0.1163,\tTPR : 0.8163\n",
      "Thres : 6.1954e-04,\tFPR : 0.1163,\tTPR : 0.8173\n",
      "Thres : 6.1936e-04,\tFPR : 0.1173,\tTPR : 0.8173\n",
      "Thres : 6.1857e-04,\tFPR : 0.1173,\tTPR : 0.8194\n",
      "Thres : 6.1763e-04,\tFPR : 0.1184,\tTPR : 0.8194\n",
      "Thres : 6.1747e-04,\tFPR : 0.1184,\tTPR : 0.8204\n",
      "Thres : 6.1650e-04,\tFPR : 0.1194,\tTPR : 0.8204\n",
      "Thres : 6.1634e-04,\tFPR : 0.1204,\tTPR : 0.8214\n",
      "Thres : 6.1468e-04,\tFPR : 0.1204,\tTPR : 0.8224\n",
      "Thres : 6.1190e-04,\tFPR : 0.1224,\tTPR : 0.8224\n",
      "Thres : 6.0885e-04,\tFPR : 0.1224,\tTPR : 0.8255\n",
      "Thres : 6.0485e-04,\tFPR : 0.1245,\tTPR : 0.8255\n",
      "Thres : 6.0457e-04,\tFPR : 0.1245,\tTPR : 0.8265\n",
      "Thres : 6.0106e-04,\tFPR : 0.1265,\tTPR : 0.8265\n",
      "Thres : 6.0052e-04,\tFPR : 0.1265,\tTPR : 0.8286\n",
      "Thres : 5.9978e-04,\tFPR : 0.1286,\tTPR : 0.8286\n",
      "Thres : 5.9526e-04,\tFPR : 0.1286,\tTPR : 0.8378\n",
      "Thres : 5.9346e-04,\tFPR : 0.1337,\tTPR : 0.8378\n",
      "Thres : 5.8598e-04,\tFPR : 0.1337,\tTPR : 0.8439\n",
      "Thres : 5.8472e-04,\tFPR : 0.1357,\tTPR : 0.8439\n",
      "Thres : 5.8438e-04,\tFPR : 0.1357,\tTPR : 0.8459\n",
      "Thres : 5.8417e-04,\tFPR : 0.1367,\tTPR : 0.8459\n",
      "Thres : 5.8369e-04,\tFPR : 0.1388,\tTPR : 0.8459\n",
      "Thres : 5.8264e-04,\tFPR : 0.1398,\tTPR : 0.8459\n",
      "Thres : 5.8254e-04,\tFPR : 0.1398,\tTPR : 0.8469\n",
      "Thres : 5.8105e-04,\tFPR : 0.1429,\tTPR : 0.8469\n",
      "Thres : 5.7980e-04,\tFPR : 0.1429,\tTPR : 0.8490\n",
      "Thres : 5.7909e-04,\tFPR : 0.1449,\tTPR : 0.8490\n",
      "Thres : 5.7799e-04,\tFPR : 0.1449,\tTPR : 0.8500\n",
      "Thres : 5.7798e-04,\tFPR : 0.1459,\tTPR : 0.8500\n",
      "Thres : 5.7774e-04,\tFPR : 0.1459,\tTPR : 0.8510\n",
      "Thres : 5.7740e-04,\tFPR : 0.1469,\tTPR : 0.8510\n",
      "Thres : 5.7672e-04,\tFPR : 0.1469,\tTPR : 0.8520\n",
      "Thres : 5.7275e-04,\tFPR : 0.1490,\tTPR : 0.8520\n",
      "Thres : 5.7162e-04,\tFPR : 0.1490,\tTPR : 0.8531\n",
      "Thres : 5.7002e-04,\tFPR : 0.1510,\tTPR : 0.8531\n",
      "Thres : 5.7001e-04,\tFPR : 0.1510,\tTPR : 0.8541\n",
      "Thres : 5.6983e-04,\tFPR : 0.1520,\tTPR : 0.8541\n",
      "Thres : 5.6927e-04,\tFPR : 0.1520,\tTPR : 0.8551\n",
      "Thres : 5.6480e-04,\tFPR : 0.1571,\tTPR : 0.8551\n",
      "Thres : 5.5985e-04,\tFPR : 0.1571,\tTPR : 0.8592\n",
      "Thres : 5.5608e-04,\tFPR : 0.1612,\tTPR : 0.8592\n",
      "Thres : 5.5515e-04,\tFPR : 0.1612,\tTPR : 0.8612\n",
      "Thres : 5.5473e-04,\tFPR : 0.1622,\tTPR : 0.8612\n",
      "Thres : 5.5299e-04,\tFPR : 0.1622,\tTPR : 0.8643\n",
      "Thres : 5.5198e-04,\tFPR : 0.1653,\tTPR : 0.8643\n",
      "Thres : 5.5138e-04,\tFPR : 0.1653,\tTPR : 0.8673\n",
      "Thres : 5.4717e-04,\tFPR : 0.1704,\tTPR : 0.8673\n",
      "Thres : 5.4708e-04,\tFPR : 0.1704,\tTPR : 0.8684\n",
      "Thres : 5.4335e-04,\tFPR : 0.1745,\tTPR : 0.8684\n",
      "Thres : 5.4330e-04,\tFPR : 0.1745,\tTPR : 0.8694\n",
      "Thres : 5.4173e-04,\tFPR : 0.1765,\tTPR : 0.8694\n",
      "Thres : 5.4032e-04,\tFPR : 0.1765,\tTPR : 0.8704\n",
      "Thres : 5.3886e-04,\tFPR : 0.1806,\tTPR : 0.8704\n",
      "Thres : 5.3590e-04,\tFPR : 0.1806,\tTPR : 0.8755\n",
      "Thres : 5.3574e-04,\tFPR : 0.1816,\tTPR : 0.8755\n",
      "Thres : 5.3555e-04,\tFPR : 0.1816,\tTPR : 0.8765\n",
      "Thres : 5.3527e-04,\tFPR : 0.1837,\tTPR : 0.8765\n",
      "Thres : 5.3514e-04,\tFPR : 0.1837,\tTPR : 0.8776\n",
      "Thres : 5.3274e-04,\tFPR : 0.1878,\tTPR : 0.8776\n",
      "Thres : 5.3097e-04,\tFPR : 0.1878,\tTPR : 0.8806\n",
      "Thres : 5.2995e-04,\tFPR : 0.1918,\tTPR : 0.8806\n",
      "Thres : 5.2707e-04,\tFPR : 0.1918,\tTPR : 0.8847\n",
      "Thres : 5.2628e-04,\tFPR : 0.1939,\tTPR : 0.8847\n",
      "Thres : 5.2617e-04,\tFPR : 0.1939,\tTPR : 0.8867\n",
      "Thres : 5.2488e-04,\tFPR : 0.1980,\tTPR : 0.8867\n",
      "Thres : 5.2349e-04,\tFPR : 0.1980,\tTPR : 0.8878\n",
      "Thres : 5.2232e-04,\tFPR : 0.1990,\tTPR : 0.8878\n",
      "Thres : 5.2177e-04,\tFPR : 0.1990,\tTPR : 0.8888\n",
      "Thres : 5.1903e-04,\tFPR : 0.2010,\tTPR : 0.8888\n",
      "Thres : 5.1867e-04,\tFPR : 0.2010,\tTPR : 0.8908\n",
      "Thres : 5.1664e-04,\tFPR : 0.2031,\tTPR : 0.8908\n",
      "Thres : 5.1662e-04,\tFPR : 0.2031,\tTPR : 0.8918\n",
      "Thres : 5.1600e-04,\tFPR : 0.2041,\tTPR : 0.8918\n",
      "Thres : 5.1504e-04,\tFPR : 0.2041,\tTPR : 0.8939\n",
      "Thres : 5.1451e-04,\tFPR : 0.2061,\tTPR : 0.8939\n",
      "Thres : 5.1191e-04,\tFPR : 0.2061,\tTPR : 0.8949\n",
      "Thres : 5.0795e-04,\tFPR : 0.2112,\tTPR : 0.8949\n",
      "Thres : 5.0688e-04,\tFPR : 0.2112,\tTPR : 0.8969\n",
      "Thres : 5.0018e-04,\tFPR : 0.2184,\tTPR : 0.8969\n",
      "Thres : 4.9904e-04,\tFPR : 0.2184,\tTPR : 0.8990\n",
      "Thres : 4.9849e-04,\tFPR : 0.2204,\tTPR : 0.8990\n",
      "Thres : 4.9511e-04,\tFPR : 0.2204,\tTPR : 0.9010\n",
      "Thres : 4.9224e-04,\tFPR : 0.2235,\tTPR : 0.9010\n",
      "Thres : 4.9218e-04,\tFPR : 0.2235,\tTPR : 0.9020\n",
      "Thres : 4.9141e-04,\tFPR : 0.2245,\tTPR : 0.9020\n",
      "Thres : 4.9093e-04,\tFPR : 0.2245,\tTPR : 0.9031\n",
      "Thres : 4.9021e-04,\tFPR : 0.2255,\tTPR : 0.9031\n",
      "Thres : 4.8990e-04,\tFPR : 0.2255,\tTPR : 0.9041\n",
      "Thres : 4.8961e-04,\tFPR : 0.2265,\tTPR : 0.9041\n",
      "Thres : 4.8918e-04,\tFPR : 0.2265,\tTPR : 0.9051\n",
      "Thres : 4.8770e-04,\tFPR : 0.2286,\tTPR : 0.9051\n",
      "Thres : 4.8624e-04,\tFPR : 0.2286,\tTPR : 0.9071\n",
      "Thres : 4.8467e-04,\tFPR : 0.2296,\tTPR : 0.9071\n",
      "Thres : 4.8403e-04,\tFPR : 0.2296,\tTPR : 0.9082\n",
      "Thres : 4.8113e-04,\tFPR : 0.2357,\tTPR : 0.9082\n",
      "Thres : 4.8082e-04,\tFPR : 0.2357,\tTPR : 0.9092\n",
      "Thres : 4.7212e-04,\tFPR : 0.2500,\tTPR : 0.9092\n",
      "Thres : 4.7120e-04,\tFPR : 0.2500,\tTPR : 0.9102\n",
      "Thres : 4.7032e-04,\tFPR : 0.2531,\tTPR : 0.9102\n",
      "Thres : 4.6964e-04,\tFPR : 0.2531,\tTPR : 0.9112\n",
      "Thres : 4.6667e-04,\tFPR : 0.2561,\tTPR : 0.9112\n",
      "Thres : 4.6647e-04,\tFPR : 0.2561,\tTPR : 0.9122\n",
      "Thres : 4.6464e-04,\tFPR : 0.2571,\tTPR : 0.9122\n",
      "Thres : 4.6438e-04,\tFPR : 0.2571,\tTPR : 0.9133\n",
      "Thres : 4.6227e-04,\tFPR : 0.2592,\tTPR : 0.9133\n",
      "Thres : 4.6163e-04,\tFPR : 0.2592,\tTPR : 0.9153\n",
      "Thres : 4.6013e-04,\tFPR : 0.2622,\tTPR : 0.9153\n",
      "Thres : 4.5946e-04,\tFPR : 0.2622,\tTPR : 0.9173\n",
      "Thres : 4.5816e-04,\tFPR : 0.2643,\tTPR : 0.9173\n",
      "Thres : 4.5353e-04,\tFPR : 0.2684,\tTPR : 0.9173\n",
      "Thres : 4.5108e-04,\tFPR : 0.2684,\tTPR : 0.9184\n",
      "Thres : 4.4829e-04,\tFPR : 0.2694,\tTPR : 0.9184\n",
      "Thres : 4.4492e-04,\tFPR : 0.2694,\tTPR : 0.9194\n",
      "Thres : 4.3827e-04,\tFPR : 0.2796,\tTPR : 0.9194\n",
      "Thres : 4.3804e-04,\tFPR : 0.2796,\tTPR : 0.9204\n",
      "Thres : 4.2846e-04,\tFPR : 0.3020,\tTPR : 0.9204\n",
      "Thres : 4.2658e-04,\tFPR : 0.3020,\tTPR : 0.9224\n",
      "Thres : 4.2650e-04,\tFPR : 0.3031,\tTPR : 0.9224\n",
      "Thres : 4.2635e-04,\tFPR : 0.3031,\tTPR : 0.9235\n",
      "Thres : 4.2635e-04,\tFPR : 0.3041,\tTPR : 0.9235\n",
      "Thres : 4.2609e-04,\tFPR : 0.3041,\tTPR : 0.9245\n",
      "Thres : 4.2499e-04,\tFPR : 0.3061,\tTPR : 0.9245\n",
      "Thres : 4.2499e-04,\tFPR : 0.3061,\tTPR : 0.9255\n",
      "Thres : 4.2415e-04,\tFPR : 0.3102,\tTPR : 0.9255\n",
      "Thres : 4.2393e-04,\tFPR : 0.3102,\tTPR : 0.9265\n",
      "Thres : 4.2258e-04,\tFPR : 0.3122,\tTPR : 0.9265\n",
      "Thres : 4.2189e-04,\tFPR : 0.3122,\tTPR : 0.9276\n",
      "Thres : 4.1966e-04,\tFPR : 0.3143,\tTPR : 0.9276\n",
      "Thres : 4.1943e-04,\tFPR : 0.3143,\tTPR : 0.9286\n",
      "Thres : 4.1796e-04,\tFPR : 0.3163,\tTPR : 0.9286\n",
      "Thres : 4.1794e-04,\tFPR : 0.3163,\tTPR : 0.9296\n",
      "Thres : 4.1412e-04,\tFPR : 0.3214,\tTPR : 0.9296\n",
      "Thres : 4.1412e-04,\tFPR : 0.3214,\tTPR : 0.9306\n",
      "Thres : 4.1287e-04,\tFPR : 0.3235,\tTPR : 0.9306\n",
      "Thres : 4.1193e-04,\tFPR : 0.3235,\tTPR : 0.9316\n",
      "Thres : 4.1179e-04,\tFPR : 0.3245,\tTPR : 0.9316\n",
      "Thres : 4.1130e-04,\tFPR : 0.3245,\tTPR : 0.9327\n",
      "Thres : 4.1114e-04,\tFPR : 0.3265,\tTPR : 0.9327\n",
      "Thres : 4.0931e-04,\tFPR : 0.3265,\tTPR : 0.9337\n",
      "Thres : 4.0904e-04,\tFPR : 0.3276,\tTPR : 0.9337\n",
      "Thres : 4.0898e-04,\tFPR : 0.3276,\tTPR : 0.9347\n",
      "Thres : 4.0585e-04,\tFPR : 0.3337,\tTPR : 0.9347\n",
      "Thres : 4.0502e-04,\tFPR : 0.3337,\tTPR : 0.9378\n",
      "Thres : 3.9809e-04,\tFPR : 0.3429,\tTPR : 0.9378\n",
      "Thres : 3.9741e-04,\tFPR : 0.3429,\tTPR : 0.9408\n",
      "Thres : 3.9201e-04,\tFPR : 0.3551,\tTPR : 0.9408\n",
      "Thres : 3.9181e-04,\tFPR : 0.3551,\tTPR : 0.9429\n",
      "Thres : 3.9168e-04,\tFPR : 0.3561,\tTPR : 0.9429\n",
      "Thres : 3.9108e-04,\tFPR : 0.3561,\tTPR : 0.9439\n",
      "Thres : 3.8916e-04,\tFPR : 0.3592,\tTPR : 0.9439\n",
      "Thres : 3.8849e-04,\tFPR : 0.3592,\tTPR : 0.9449\n",
      "Thres : 3.8815e-04,\tFPR : 0.3602,\tTPR : 0.9449\n",
      "Thres : 3.8745e-04,\tFPR : 0.3602,\tTPR : 0.9480\n",
      "Thres : 3.8547e-04,\tFPR : 0.3643,\tTPR : 0.9480\n",
      "Thres : 3.8534e-04,\tFPR : 0.3643,\tTPR : 0.9490\n",
      "Thres : 3.8321e-04,\tFPR : 0.3684,\tTPR : 0.9490\n",
      "Thres : 3.8271e-04,\tFPR : 0.3704,\tTPR : 0.9490\n",
      "Thres : 3.8117e-04,\tFPR : 0.3714,\tTPR : 0.9490\n",
      "Thres : 3.8074e-04,\tFPR : 0.3714,\tTPR : 0.9500\n",
      "Thres : 3.7927e-04,\tFPR : 0.3755,\tTPR : 0.9500\n",
      "Thres : 3.7852e-04,\tFPR : 0.3755,\tTPR : 0.9520\n",
      "Thres : 3.7559e-04,\tFPR : 0.3837,\tTPR : 0.9520\n",
      "Thres : 3.7539e-04,\tFPR : 0.3837,\tTPR : 0.9531\n",
      "Thres : 3.7216e-04,\tFPR : 0.3939,\tTPR : 0.9531\n",
      "Thres : 3.7142e-04,\tFPR : 0.3939,\tTPR : 0.9541\n",
      "Thres : 3.6965e-04,\tFPR : 0.3959,\tTPR : 0.9541\n",
      "Thres : 3.6922e-04,\tFPR : 0.3959,\tTPR : 0.9551\n",
      "Thres : 3.6816e-04,\tFPR : 0.3990,\tTPR : 0.9551\n",
      "Thres : 3.6799e-04,\tFPR : 0.3990,\tTPR : 0.9571\n",
      "Thres : 3.6720e-04,\tFPR : 0.4000,\tTPR : 0.9571\n",
      "Thres : 3.6699e-04,\tFPR : 0.4000,\tTPR : 0.9582\n",
      "Thres : 3.6529e-04,\tFPR : 0.4031,\tTPR : 0.9582\n",
      "Thres : 3.6502e-04,\tFPR : 0.4031,\tTPR : 0.9592\n",
      "Thres : 3.6328e-04,\tFPR : 0.4041,\tTPR : 0.9592\n",
      "Thres : 3.6298e-04,\tFPR : 0.4041,\tTPR : 0.9602\n",
      "Thres : 3.6224e-04,\tFPR : 0.4061,\tTPR : 0.9602\n",
      "Thres : 3.6050e-04,\tFPR : 0.4061,\tTPR : 0.9612\n",
      "Thres : 3.5804e-04,\tFPR : 0.4082,\tTPR : 0.9612\n",
      "Thres : 3.5662e-04,\tFPR : 0.4082,\tTPR : 0.9622\n",
      "Thres : 3.5652e-04,\tFPR : 0.4092,\tTPR : 0.9622\n",
      "Thres : 3.5588e-04,\tFPR : 0.4112,\tTPR : 0.9622\n",
      "Thres : 3.5007e-04,\tFPR : 0.4184,\tTPR : 0.9622\n",
      "Thres : 3.4738e-04,\tFPR : 0.4184,\tTPR : 0.9633\n",
      "Thres : 3.4545e-04,\tFPR : 0.4224,\tTPR : 0.9633\n",
      "Thres : 3.4467e-04,\tFPR : 0.4224,\tTPR : 0.9643\n",
      "Thres : 3.4041e-04,\tFPR : 0.4327,\tTPR : 0.9643\n",
      "Thres : 3.4028e-04,\tFPR : 0.4327,\tTPR : 0.9653\n",
      "Thres : 3.3979e-04,\tFPR : 0.4367,\tTPR : 0.9653\n",
      "Thres : 3.3962e-04,\tFPR : 0.4367,\tTPR : 0.9663\n",
      "Thres : 3.2770e-04,\tFPR : 0.4510,\tTPR : 0.9663\n",
      "Thres : 3.2735e-04,\tFPR : 0.4510,\tTPR : 0.9673\n",
      "Thres : 3.2648e-04,\tFPR : 0.4541,\tTPR : 0.9673\n",
      "Thres : 3.2507e-04,\tFPR : 0.4541,\tTPR : 0.9684\n",
      "Thres : 3.2317e-04,\tFPR : 0.4582,\tTPR : 0.9684\n",
      "Thres : 3.2194e-04,\tFPR : 0.4582,\tTPR : 0.9694\n",
      "Thres : 3.1967e-04,\tFPR : 0.4612,\tTPR : 0.9694\n",
      "Thres : 3.1657e-04,\tFPR : 0.4612,\tTPR : 0.9704\n",
      "Thres : 3.1311e-04,\tFPR : 0.4663,\tTPR : 0.9704\n",
      "Thres : 3.1164e-04,\tFPR : 0.4663,\tTPR : 0.9714\n",
      "Thres : 3.1160e-04,\tFPR : 0.4673,\tTPR : 0.9714\n",
      "Thres : 3.1125e-04,\tFPR : 0.4673,\tTPR : 0.9724\n",
      "Thres : 3.0931e-04,\tFPR : 0.4724,\tTPR : 0.9724\n",
      "Thres : 3.0911e-04,\tFPR : 0.4724,\tTPR : 0.9735\n",
      "Thres : 3.0348e-04,\tFPR : 0.4796,\tTPR : 0.9735\n",
      "Thres : 3.0335e-04,\tFPR : 0.4796,\tTPR : 0.9755\n",
      "Thres : 3.0087e-04,\tFPR : 0.4878,\tTPR : 0.9755\n",
      "Thres : 2.9988e-04,\tFPR : 0.4878,\tTPR : 0.9765\n",
      "Thres : 2.8965e-04,\tFPR : 0.5020,\tTPR : 0.9765\n",
      "Thres : 2.8942e-04,\tFPR : 0.5041,\tTPR : 0.9765\n",
      "Thres : 2.8710e-04,\tFPR : 0.5061,\tTPR : 0.9765\n",
      "Thres : 2.8671e-04,\tFPR : 0.5061,\tTPR : 0.9776\n",
      "Thres : 2.8567e-04,\tFPR : 0.5071,\tTPR : 0.9776\n",
      "Thres : 2.8566e-04,\tFPR : 0.5071,\tTPR : 0.9786\n",
      "Thres : 2.7627e-04,\tFPR : 0.5265,\tTPR : 0.9786\n",
      "Thres : 2.7570e-04,\tFPR : 0.5265,\tTPR : 0.9796\n",
      "Thres : 2.7103e-04,\tFPR : 0.5367,\tTPR : 0.9796\n",
      "Thres : 2.7018e-04,\tFPR : 0.5367,\tTPR : 0.9806\n",
      "Thres : 2.6753e-04,\tFPR : 0.5398,\tTPR : 0.9806\n",
      "Thres : 2.6693e-04,\tFPR : 0.5398,\tTPR : 0.9816\n",
      "Thres : 2.6669e-04,\tFPR : 0.5408,\tTPR : 0.9816\n",
      "Thres : 2.6647e-04,\tFPR : 0.5408,\tTPR : 0.9827\n",
      "Thres : 2.5489e-04,\tFPR : 0.5663,\tTPR : 0.9827\n",
      "Thres : 2.5385e-04,\tFPR : 0.5663,\tTPR : 0.9837\n",
      "Thres : 2.5134e-04,\tFPR : 0.5714,\tTPR : 0.9837\n",
      "Thres : 2.4948e-04,\tFPR : 0.5714,\tTPR : 0.9857\n",
      "Thres : 2.4380e-04,\tFPR : 0.5806,\tTPR : 0.9857\n",
      "Thres : 2.4261e-04,\tFPR : 0.5806,\tTPR : 0.9867\n",
      "Thres : 2.3674e-04,\tFPR : 0.5929,\tTPR : 0.9867\n",
      "Thres : 2.3671e-04,\tFPR : 0.5929,\tTPR : 0.9878\n",
      "Thres : 2.2024e-04,\tFPR : 0.6163,\tTPR : 0.9878\n",
      "Thres : 2.1985e-04,\tFPR : 0.6163,\tTPR : 0.9888\n",
      "Thres : 1.9972e-04,\tFPR : 0.6551,\tTPR : 0.9888\n",
      "Thres : 1.9904e-04,\tFPR : 0.6571,\tTPR : 0.9888\n",
      "Thres : 1.9267e-04,\tFPR : 0.6673,\tTPR : 0.9888\n",
      "Thres : 1.9247e-04,\tFPR : 0.6673,\tTPR : 0.9898\n",
      "Thres : 1.8380e-04,\tFPR : 0.6786,\tTPR : 0.9898\n",
      "Thres : 1.8371e-04,\tFPR : 0.6786,\tTPR : 0.9908\n",
      "Thres : 1.5872e-04,\tFPR : 0.7122,\tTPR : 0.9908\n",
      "Thres : 1.5845e-04,\tFPR : 0.7122,\tTPR : 0.9918\n",
      "Thres : 1.5810e-04,\tFPR : 0.7133,\tTPR : 0.9918\n",
      "Thres : 1.5753e-04,\tFPR : 0.7133,\tTPR : 0.9929\n",
      "Thres : 1.4113e-04,\tFPR : 0.7490,\tTPR : 0.9929\n",
      "Thres : 1.4102e-04,\tFPR : 0.7490,\tTPR : 0.9939\n",
      "Thres : 1.3752e-04,\tFPR : 0.7561,\tTPR : 0.9939\n",
      "Thres : 1.3644e-04,\tFPR : 0.7561,\tTPR : 0.9949\n",
      "Thres : 1.0095e-04,\tFPR : 0.8265,\tTPR : 0.9949\n",
      "Thres : 1.0083e-04,\tFPR : 0.8265,\tTPR : 0.9959\n",
      "Thres : 8.8552e-05,\tFPR : 0.8459,\tTPR : 0.9959\n",
      "Thres : 8.7889e-05,\tFPR : 0.8459,\tTPR : 0.9969\n",
      "Thres : 7.5831e-05,\tFPR : 0.8633,\tTPR : 0.9969\n",
      "Thres : 7.5545e-05,\tFPR : 0.8633,\tTPR : 0.9980\n",
      "Thres : 6.8804e-05,\tFPR : 0.8765,\tTPR : 0.9980\n",
      "Thres : 6.8444e-05,\tFPR : 0.8765,\tTPR : 0.9990\n",
      "Thres : 6.1487e-05,\tFPR : 0.8898,\tTPR : 0.9990\n",
      "Thres : 6.1296e-05,\tFPR : 0.8898,\tTPR : 1.0000\n",
      "Thres : 4.3261e-05,\tFPR : 0.9204,\tTPR : 1.0000\n",
      "Thres : 4.2101e-05,\tFPR : 0.9224,\tTPR : 1.0000\n",
      "Thres : 7.1721e-09,\tFPR : 1.0000,\tTPR : 1.0000\n"
     ]
    }
   ],
   "source": [
    "from sklearn.metrics import roc_curve\n",
    "\n",
    "\n",
    "fpr, tpr, thresholds = roc_curve([0]*losses[ys==0].shape[0]+[1]*losses[ys!=0].shape[0], losses.flatten())\n",
    "def plot_roc_curve(fper, tper):\n",
    "    plt.plot(fper, tper, color='red', label='ROC')\n",
    "    plt.plot([0, 1], [0, 1], color='green', linestyle='--')\n",
    "    plt.xlabel('False Positive Rate')\n",
    "    plt.ylabel('True Positive Rate')\n",
    "    plt.title('Receiver Operating Characteristic Curve')\n",
    "    plt.legend()\n",
    "    plt.show()\n",
    "plot_roc_curve(fpr,tpr)\n",
    "for i in range(len(fpr)):\n",
    "    print(\"Thres : %.4e,\\tFPR : %.4f,\\tTPR : %.4f\"%(thresholds[i],fpr[i],tpr[i]))\n",
    "#print(fpr,tpr,thres)"
   ]
  },
  {
   "cell_type": "markdown",
   "id": "designing-indication",
   "metadata": {},
   "source": [
    "#### 임의의 THRESHOLD에 대한 결과 지표 확인"
   ]
  },
  {
   "cell_type": "code",
   "execution_count": 20,
   "id": "married-bennett",
   "metadata": {},
   "outputs": [
    {
     "name": "stdout",
     "output_type": "stream",
     "text": [
      "TP :   872,\tFP :   181\n",
      "FN :   108,\tTN :   799\n",
      "Accuracy : 0.85,\tPrecision : 0.83,\tRecall : 0.89\n"
     ]
    }
   ],
   "source": [
    "THRESHOLD = 6.2215e-04\n",
    "TP = len(losses_p[losses_p<THRESHOLD])\n",
    "FN = len(losses_p[losses_p>THRESHOLD])\n",
    "TN = len(losses_n[losses_n>THRESHOLD])\n",
    "FP = len(losses_n[losses_n<THRESHOLD])\n",
    "print('TP : %5d,\\tFP : %5d'%(TP, FP))\n",
    "print('FN : %5d,\\tTN : %5d'%(FN ,TN))\n",
    "print('Accuracy : %.2f,\\tPrecision : %.2f,\\tRecall : %.2f'%((TP+TN)/(TP+TN+FP+FN), (TP)/(TP+FP), (TP)/(TP+FN)))"
   ]
  },
  {
   "cell_type": "code",
   "execution_count": null,
   "id": "formed-diabetes",
   "metadata": {},
   "outputs": [],
   "source": []
  },
  {
   "cell_type": "code",
   "execution_count": null,
   "id": "organized-democracy",
   "metadata": {},
   "outputs": [],
   "source": []
  },
  {
   "cell_type": "code",
   "execution_count": null,
   "id": "liquid-punch",
   "metadata": {},
   "outputs": [],
   "source": []
  }
 ],
 "metadata": {
  "kernelspec": {
   "display_name": "Python 3",
   "language": "python",
   "name": "python3"
  },
  "language_info": {
   "codemirror_mode": {
    "name": "ipython",
    "version": 3
   },
   "file_extension": ".py",
   "mimetype": "text/x-python",
   "name": "python",
   "nbconvert_exporter": "python",
   "pygments_lexer": "ipython3",
   "version": "3.8.3"
  }
 },
 "nbformat": 4,
 "nbformat_minor": 5
}
