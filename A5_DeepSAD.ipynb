{
 "cells": [
  {
   "cell_type": "markdown",
   "id": "widespread-julian",
   "metadata": {},
   "source": [
    "# Deep SAD"
   ]
  },
  {
   "cell_type": "code",
   "execution_count": 1,
   "id": "retained-worship",
   "metadata": {},
   "outputs": [],
   "source": [
    "from src.skeleton import BaseModel"
   ]
  },
  {
   "cell_type": "code",
   "execution_count": 2,
   "id": "fundamental-thermal",
   "metadata": {},
   "outputs": [],
   "source": [
    "from torchvision.datasets import MNIST\n",
    "import torchvision.transforms as transforms\n",
    "import torch"
   ]
  },
  {
   "cell_type": "markdown",
   "id": "instructional-found",
   "metadata": {},
   "source": [
    "### 실험 데이터셋 로드 (MNIST) : A3과 동일\n",
    "- 정상 데이터 : digit 0\n",
    "- 비정상 데이터 : 그 외 digit"
   ]
  },
  {
   "cell_type": "code",
   "execution_count": 3,
   "id": "double-technology",
   "metadata": {},
   "outputs": [
    {
     "name": "stdout",
     "output_type": "stream",
     "text": [
      "60000 10000\n"
     ]
    }
   ],
   "source": [
    "mnist_train_dataset = MNIST('./datasets', download=True, train=True, transform=transforms.ToTensor())\n",
    "mnist_test_dataset = MNIST('./datasets', download=True, train=False, transform=transforms.ToTensor())\n",
    "print(len(mnist_train_dataset), len(mnist_test_dataset))"
   ]
  },
  {
   "cell_type": "markdown",
   "id": "english-wagner",
   "metadata": {},
   "source": [
    "### Partially-labeled 데이터셋 생성"
   ]
  },
  {
   "cell_type": "code",
   "execution_count": 4,
   "id": "automotive-soundtrack",
   "metadata": {},
   "outputs": [
    {
     "name": "stdout",
     "output_type": "stream",
     "text": [
      "torch.Size([5923, 28, 28]) torch.Size([1000, 28, 28]) torch.Size([980, 28, 28]) torch.Size([980, 28, 28])\n"
     ]
    }
   ],
   "source": [
    "#print(mnist_train_dataset)\n",
    "#print(mnist_train_dataset.targets.shape)\n",
    "#print(mnist_train_dataset.data.shape)\n",
    "N_NEGATIVE = 1000\n",
    "P=0.2\n",
    "positive_set_train = mnist_train_dataset.data[mnist_train_dataset.targets==0]\n",
    "negative_set_train = mnist_train_dataset.data[mnist_train_dataset.targets!=0][:N_NEGATIVE]\n",
    "positive_set_test = mnist_test_dataset.data[mnist_test_dataset.targets==0]\n",
    "negative_set_test = mnist_test_dataset.data[mnist_test_dataset.targets!=0][:positive_set_test.shape[0]]\n",
    "print(positive_set_train.shape, negative_set_train.shape,positive_set_test.shape,negative_set_test.shape)"
   ]
  },
  {
   "cell_type": "code",
   "execution_count": 5,
   "id": "following-optimum",
   "metadata": {},
   "outputs": [
    {
     "name": "stdout",
     "output_type": "stream",
     "text": [
      "6923 1960\n",
      "5923 1000 980 980\n"
     ]
    }
   ],
   "source": [
    "from torch.utils.data import Dataset, DataLoader, ConcatDataset\n",
    "import numpy as np\n",
    "class MNIST_Anomaly(Dataset):\n",
    "    def __init__(self, dataset, y, p = None):\n",
    "        self.dataset = dataset\n",
    "        self.y = y\n",
    "        if p is None:\n",
    "            self.mask = [True] * len(dataset)\n",
    "        else:\n",
    "            self.mask = np.random.choice(len(dataset), len(dataset), replace=False) < p*len(dataset)\n",
    "    def __len__(self):\n",
    "        return len(self.dataset)\n",
    "    def __getitem__(self, index):\n",
    "        X = self.dataset[index]\n",
    "        y = self.y[index]\n",
    "        M = self.mask[index]\n",
    "        return X,y,M\n",
    "    \n",
    "dataset_p_train = MNIST_Anomaly(positive_set_train, [torch.tensor(0.0)]*len(positive_set_train), p=P)\n",
    "dataset_n_train = MNIST_Anomaly(negative_set_train, mnist_train_dataset.targets[mnist_train_dataset.targets!=0], p=P)\n",
    "dataset_p_test = MNIST_Anomaly(positive_set_test, [torch.tensor(0.0)]*len(positive_set_test))\n",
    "dataset_n_test = MNIST_Anomaly(negative_set_test, mnist_test_dataset.targets[mnist_test_dataset.targets!=0])\n",
    "train_dataset = ConcatDataset([dataset_p_train, dataset_n_train])\n",
    "test_dataset = ConcatDataset([dataset_p_test, dataset_n_test])\n",
    "print(len(train_dataset), len(test_dataset))\n",
    "print(len(dataset_p_train), len(dataset_n_train), len(dataset_p_test), len(dataset_n_test))"
   ]
  },
  {
   "cell_type": "markdown",
   "id": "through-contributor",
   "metadata": {},
   "source": [
    "#### 배치 사이즈 (BATCH), 에폭 수 (EPOCH), learning rate (LR)정의\n",
    "#### !!! lambda 정의\n",
    "#### !!! eta 정의"
   ]
  },
  {
   "cell_type": "code",
   "execution_count": 6,
   "id": "advisory-filling",
   "metadata": {},
   "outputs": [],
   "source": [
    "BATCH = 256\n",
    "EPOCH = 100\n",
    "LR = 1e-3\n",
    "LAMBDA = 1e-2\n",
    "ETA = 1.0"
   ]
  },
  {
   "cell_type": "markdown",
   "id": "black-courage",
   "metadata": {},
   "source": [
    "train, test DataLoader 생성 (train DataLoader만 shuffle)"
   ]
  },
  {
   "cell_type": "code",
   "execution_count": 7,
   "id": "ordinary-ridge",
   "metadata": {},
   "outputs": [],
   "source": [
    "train_loader = DataLoader(train_dataset, batch_size=BATCH, shuffle=True)\n",
    "test_loader = DataLoader(test_dataset, batch_size=BATCH)"
   ]
  },
  {
   "cell_type": "markdown",
   "id": "entitled-california",
   "metadata": {},
   "source": [
    "## !!! Deep SAD 모델 생성\n",
    "- ```__init__()``` method에서 모델의 layer 정의\n",
    "    - !!! input으로 train_loader를 받아, **c**값 도출 (```init_c``` 함수 사용) : Deep SVDD와 동일\n",
    "- ```forward()``` method에서 모델의 forward pass 정의\n",
    "    - !!! output 형태 : (batch, **latent dimension**) : Deep SVDD와 동일\n",
    "- !!! ```criterion()``` method에서 모델의 loss 함수 정의"
   ]
  },
  {
   "cell_type": "code",
   "execution_count": 8,
   "id": "humanitarian-class",
   "metadata": {},
   "outputs": [],
   "source": [
    "import torch.nn as nn\n",
    "\n",
    "HDIM = 64\n",
    "\n",
    "def init_c(model, train_loader, eps=0.1):\n",
    "    n = 0\n",
    "    c = torch.zeros(HDIM).to(device='cuda')\n",
    "    \n",
    "    model.cuda()\n",
    "    model.eval()\n",
    "    \n",
    "    for batch, label, mask in train_loader:\n",
    "        batch=batch.cuda().to(dtype=torch.float)\n",
    "        label=label.cuda()\n",
    "        if label.dtype == torch.int32:\n",
    "            label = label.to(dtype=torch.long)\n",
    "        elif label.dtype == torch.double:\n",
    "            label = label.to(dtype=torch.float)\n",
    "        mask=mask.cuda().to(dtype=torch.bool)\n",
    "        \n",
    "        batch = model.preprocess(batch, label, mask)\n",
    "        with torch.no_grad():\n",
    "            pred = model(batch, label, mask)\n",
    "        n += pred.shape[0]\n",
    "        c += torch.sum(pred, dim=0)\n",
    "    c /= n\n",
    "    \n",
    "    c[(abs(c) < eps) & (c<0)] = -eps\n",
    "    c[(abs(c) < eps) & (c>0)] = eps\n",
    "    \n",
    "    return c.unsqueeze(0)\n",
    "\n",
    "\n",
    "\n",
    "class MyModel(BaseModel):\n",
    "    def __init__(self, in_dim, c=None, train_loader=None, shift=0.0, scale=1.0, model_name='my_model'):\n",
    "        super().__init__(model_name=model_name)\n",
    "        self.enc1 = nn.Linear(in_dim, 256)\n",
    "        self.enc2 = nn.Linear(256,128)\n",
    "        self.enc3 = nn.Linear(128,HDIM)\n",
    "        self.relu = nn.ReLU()\n",
    "        self.shift = shift.to(device='cuda')\n",
    "        self.scale = scale.to(device='cuda')\n",
    "        if c is None:\n",
    "            self.c = init_c(self, train_loader)\n",
    "        else:\n",
    "            self.c = c\n",
    "        self.c = self.c.to(device='cuda')\n",
    "        \n",
    "    def forward(self, batch, label=None, mask=None):\n",
    "        x = self.enc1(batch)\n",
    "        x = self.relu(x)\n",
    "        x = self.enc2(x)\n",
    "        x = self.relu(x)\n",
    "        x = self.enc3(x)\n",
    "        return x\n",
    "    \n",
    "    def preprocess(self, batch, label=None, mask=None):\n",
    "        batch = (batch-self.shift) / self.scale\n",
    "        return batch.view(batch.size(0),-1)\n",
    "    \n",
    "    def criterion(self, pred=None, batch=None, label=None, mask=None):\n",
    "        #print(pred.shape, self.c.shape)\n",
    "        #print(pred[~mask].shape, (~mask).sum(), (mask&(label==0)).sum(), (mask&(label!=0)).sum())\n",
    "        loss = nn.MSELoss(reduction='none')(pred[~mask], self.c.repeat((~mask).sum(),1)).mean(-1)\n",
    "        loss_positive = nn.MSELoss(reduction='none')(pred[mask&(label==0)], self.c.repeat((mask&(label==0)).sum(),1)).mean(-1)\n",
    "        loss_negative = nn.MSELoss(reduction='none')(pred[mask&(label!=0)], self.c.repeat((mask&(label!=0)).sum(),1)).mean(-1)\n",
    "        loss = (loss.sum() + ETA*(loss_positive.sum() + (1/(loss_negative+1e-10)).sum())) / (loss.shape[0]+loss_positive.shape[0]+loss_negative.shape[0])\n",
    "        return loss\n"
   ]
  },
  {
   "cell_type": "markdown",
   "id": "serial-heater",
   "metadata": {},
   "source": [
    "모델 생성 및 CUDA로 이동\n",
    "- !!! **train_loader 전달**"
   ]
  },
  {
   "cell_type": "code",
   "execution_count": 9,
   "id": "impressed-reproduction",
   "metadata": {},
   "outputs": [
    {
     "data": {
      "text/plain": [
       "MyModel(\n",
       "  (enc1): Linear(in_features=784, out_features=256, bias=True)\n",
       "  (enc2): Linear(in_features=256, out_features=128, bias=True)\n",
       "  (enc3): Linear(in_features=128, out_features=64, bias=True)\n",
       "  (relu): ReLU()\n",
       ")"
      ]
     },
     "execution_count": 9,
     "metadata": {},
     "output_type": "execute_result"
    }
   ],
   "source": [
    "model = MyModel(28*28, shift=positive_set_train.min(), scale=(positive_set_train.max()-positive_set_train.min()+1e-10), train_loader=train_loader)\n",
    "model.cuda()"
   ]
  },
  {
   "cell_type": "markdown",
   "id": "auburn-stylus",
   "metadata": {},
   "source": [
    "optimizer 생성\n",
    "- !!! **Weight Decay 설정**"
   ]
  },
  {
   "cell_type": "code",
   "execution_count": 10,
   "id": "random-orlando",
   "metadata": {},
   "outputs": [],
   "source": [
    "import torch.optim as optim\n",
    "optimizer = optim.Adam(model.parameters(), LR, weight_decay=LAMBDA)"
   ]
  },
  {
   "cell_type": "markdown",
   "id": "aware-apartment",
   "metadata": {},
   "source": [
    "#### ```train_model()``` method를 통해 모델 학습"
   ]
  },
  {
   "cell_type": "code",
   "execution_count": 11,
   "id": "downtown-czech",
   "metadata": {},
   "outputs": [
    {
     "name": "stdout",
     "output_type": "stream",
     "text": [
      "(0.15s) [Epoch 1]\n",
      "\tTrain Loss : 0.77266\tTrain Score : 0\n",
      "\tEval Loss : 3.3578\tEval Score : 0\n",
      "(0.13s) [Epoch 11]\n",
      "\tTrain Loss : 0.1329\tTrain Score : 0\n",
      "\tEval Loss : 3.7516\tEval Score : 0\n",
      "(0.13s) [Epoch 21]\n",
      "\tTrain Loss : 0.13205\tTrain Score : 0\n",
      "\tEval Loss : 9.858\tEval Score : 0\n",
      "(0.13s) [Epoch 31]\n",
      "\tTrain Loss : 0.12019\tTrain Score : 0\n",
      "\tEval Loss : 1.9677\tEval Score : 0\n",
      "(0.13s) [Epoch 41]\n",
      "\tTrain Loss : 0.11725\tTrain Score : 0\n",
      "\tEval Loss : 4.7924\tEval Score : 0\n",
      "(0.13s) [Epoch 51]\n",
      "\tTrain Loss : 0.11611\tTrain Score : 0\n",
      "\tEval Loss : 2.3718\tEval Score : 0\n",
      "(0.13s) [Epoch 61]\n",
      "\tTrain Loss : 0.11473\tTrain Score : 0\n",
      "\tEval Loss : 3.1358\tEval Score : 0\n",
      "(0.12s) [Epoch 71]\n",
      "\tTrain Loss : 0.11233\tTrain Score : 0\n",
      "\tEval Loss : 3.5577\tEval Score : 0\n",
      "(0.13s) [Epoch 81]\n",
      "\tTrain Loss : 0.11172\tTrain Score : 0\n",
      "\tEval Loss : 4.6529\tEval Score : 0\n",
      "(0.13s) [Epoch 91]\n",
      "\tTrain Loss : 0.1099\tTrain Score : 0\n",
      "\tEval Loss : 3.5018\tEval Score : 0\n"
     ]
    }
   ],
   "source": [
    "model.train_model(train_loader, test_loader, EPOCH, optimizer, report_intv=10)"
   ]
  },
  {
   "cell_type": "markdown",
   "id": "answering-arabic",
   "metadata": {},
   "source": [
    "# 결과 분석"
   ]
  },
  {
   "cell_type": "code",
   "execution_count": 12,
   "id": "congressional-adaptation",
   "metadata": {},
   "outputs": [],
   "source": [
    "def run_inference(model, dataloader):\n",
    "    model.eval()\n",
    "    losses = []\n",
    "    ys = []\n",
    "    criterion = nn.MSELoss(reduction='none')\n",
    "    for batch, label, mask in dataloader:\n",
    "        batch = batch.cuda().to(dtype=torch.float)\n",
    "        batch = model.preprocess(batch)\n",
    "        with torch.no_grad():\n",
    "            pred = model.forward(batch)\n",
    "        loss = criterion(pred, model.c.repeat(pred.shape[0],1)).view(pred.shape[0],-1).mean(-1)\n",
    "        losses.append(loss.cpu())\n",
    "        label[~mask] = -1\n",
    "        ys.append(label)\n",
    "    losses = torch.cat(losses, 0)\n",
    "    ys = torch.cat(ys, 0)\n",
    "    return losses, ys\n",
    "\n",
    "def find_thres(losses, sigma=3):\n",
    "    mean = losses.mean()\n",
    "    std = losses.std()\n",
    "    thres = mean+std*sigma\n",
    "    return thres.item()\n"
   ]
  },
  {
   "cell_type": "markdown",
   "id": "regulation-gathering",
   "metadata": {},
   "source": [
    "#### 학습 데이터(정상 데이터)에 대해 loss 계산 및 ground-truth label 추출"
   ]
  },
  {
   "cell_type": "code",
   "execution_count": 13,
   "id": "powered-birmingham",
   "metadata": {},
   "outputs": [
    {
     "name": "stdout",
     "output_type": "stream",
     "text": [
      "torch.Size([6923])\n"
     ]
    }
   ],
   "source": [
    "train_loader_noshuffle =  DataLoader(train_dataset, batch_size=BATCH, shuffle=False)\n",
    "losses_train, ys_train = run_inference(model, train_loader_noshuffle)\n",
    "\n",
    "print(losses_train.shape)"
   ]
  },
  {
   "cell_type": "markdown",
   "id": "advanced-cooking",
   "metadata": {},
   "source": [
    "### 학습 데이터 중 Labeled 데이터(mask>=0)에 대해 생성된 loss값 분포를 바탕으로, 이상 수치 threshold 결정"
   ]
  },
  {
   "cell_type": "code",
   "execution_count": 14,
   "id": "acute-scale",
   "metadata": {},
   "outputs": [],
   "source": [
    "from sklearn.metrics import roc_curve\n",
    "import matplotlib.pyplot as plt\n",
    "\n",
    "def plot_roc_curve(fper, tper):\n",
    "    plt.plot(fper, tper, color='red', label='ROC')\n",
    "    plt.plot([0, 1], [0, 1], color='green', linestyle='--')\n",
    "    plt.xlabel('False Positive Rate')\n",
    "    plt.ylabel('True Positive Rate')\n",
    "    plt.title('Receiver Operating Characteristic Curve')\n",
    "    plt.legend()\n",
    "    plt.show()\n",
    "    "
   ]
  },
  {
   "cell_type": "code",
   "execution_count": 15,
   "id": "acquired-private",
   "metadata": {},
   "outputs": [
    {
     "name": "stdout",
     "output_type": "stream",
     "text": [
      "tensor(1185) tensor(200) tensor(5538)\n"
     ]
    },
    {
     "data": {
      "image/png": "[encoded data removed]",
      "text/plain": [
       "<Figure size 432x288 with 1 Axes>"
      ]
     },
     "metadata": {
      "needs_background": "light"
     },
     "output_type": "display_data"
    },
    {
     "name": "stdout",
     "output_type": "stream",
     "text": [
      "Thres : 2.0806e+00,\tFPR : 0.0000,\tTPR : 0.0000\n",
      "Thres : 1.0806e+00,\tFPR : 0.0000,\tTPR : 0.0050\n",
      "Thres : 7.8033e-01,\tFPR : 0.0000,\tTPR : 0.0800\n",
      "Thres : 7.7787e-01,\tFPR : 0.0008,\tTPR : 0.0800\n",
      "Thres : 2.3368e-01,\tFPR : 0.0008,\tTPR : 1.0000\n",
      "Thres : 1.3513e-06,\tFPR : 1.0000,\tTPR : 1.0000\n",
      "Best Thres : 2.3368e-01\n"
     ]
    }
   ],
   "source": [
    "print((ys_train==0).sum(), (ys_train>0).sum(), (ys_train<0).sum())\n",
    "fpr, tpr, thresholds = roc_curve([0]*losses_train[ys_train==0].shape[0]+[1]*losses_train[ys_train>0].shape[0], losses_train[ys_train>=0].flatten())\n",
    "\n",
    "plot_roc_curve(fpr,tpr)\n",
    "thres = 0.0\n",
    "best_score = 0.0\n",
    "for i in range(len(fpr)):\n",
    "    score = tpr[i]+1-fpr[i]\n",
    "    if score > best_score:\n",
    "        best_score = score\n",
    "        thres = thresholds[i]\n",
    "    print(\"Thres : %.4e,\\tFPR : %.4f,\\tTPR : %.4f\"%(thresholds[i],fpr[i],tpr[i]))\n",
    "#print(fpr,tpr,thres)\n",
    "print('Best Thres : %.4e'%thres)"
   ]
  },
  {
   "cell_type": "markdown",
   "id": "growing-result",
   "metadata": {},
   "source": [
    "#### Test 데이터에 대해 loss 계산"
   ]
  },
  {
   "cell_type": "code",
   "execution_count": 16,
   "id": "constant-disclaimer",
   "metadata": {},
   "outputs": [
    {
     "name": "stdout",
     "output_type": "stream",
     "text": [
      "torch.Size([980]) torch.Size([980])\n"
     ]
    }
   ],
   "source": [
    "losses, ys = run_inference(model, test_loader)\n",
    "\n",
    "losses_p = losses[ys==0]\n",
    "losses_n = losses[ys!=0]\n",
    "print(losses_p.shape, losses_n.shape)"
   ]
  },
  {
   "cell_type": "markdown",
   "id": "severe-learning",
   "metadata": {},
   "source": [
    "#### 결정된 threshold를 바탕으로, Test 데이터에 대한 Confusion matrix (TP/FP/FN/TN) 및 Accuracy, Precision, Recall 계산"
   ]
  },
  {
   "cell_type": "code",
   "execution_count": 17,
   "id": "royal-stadium",
   "metadata": {},
   "outputs": [
    {
     "name": "stdout",
     "output_type": "stream",
     "text": [
      "TP :   980,\tFP :   207\n",
      "FN :     0,\tTN :   773\n",
      "Accuracy : 0.89,\tPrecision : 0.83,\tRecall : 1.00\n"
     ]
    }
   ],
   "source": [
    "TP = len(losses_p[losses_p<thres])\n",
    "FN = len(losses_p[losses_p>thres])\n",
    "TN = len(losses_n[losses_n>thres])\n",
    "FP = len(losses_n[losses_n<thres])\n",
    "print('TP : %5d,\\tFP : %5d'%(TP, FP))\n",
    "print('FN : %5d,\\tTN : %5d'%(FN ,TN))\n",
    "print('Accuracy : %.2f,\\tPrecision : %.2f,\\tRecall : %.2f'%((TP+TN)/(TP+TN+FP+FN), (TP)/(TP+FP+1e-10), (TP)/(TP+FN)))"
   ]
  },
  {
   "cell_type": "markdown",
   "id": "developing-picking",
   "metadata": {},
   "source": [
    "#### Test 데이터의 각 ground-truth label 별 loss 분포 확인"
   ]
  },
  {
   "cell_type": "code",
   "execution_count": 18,
   "id": "behind-printing",
   "metadata": {},
   "outputs": [
    {
     "data": {
      "image/png": "[encoded data removed]",
      "text/plain": [
       "<Figure size 432x288 with 1 Axes>"
      ]
     },
     "metadata": {
      "needs_background": "light"
     },
     "output_type": "display_data"
    },
    {
     "name": "stdout",
     "output_type": "stream",
     "text": [
      "[Normal]\n",
      "Max : 0.1317\tMean : 0.0026\tMin : 0.0000\n",
      "\n"
     ]
    },
    {
     "data": {
      "image/png": "[encoded data removed]",
      "text/plain": [
       "<Figure size 432x288 with 1 Axes>"
      ]
     },
     "metadata": {
      "needs_background": "light"
     },
     "output_type": "display_data"
    },
    {
     "name": "stdout",
     "output_type": "stream",
     "text": [
      "[Anomaly 1]\n",
      "Max : 1.5380\tMean : 0.5324\tMin : 0.1321\n",
      "\n"
     ]
    },
    {
     "data": {
      "image/png": "[encoded data removed]",
      "text/plain": [
       "<Figure size 432x288 with 1 Axes>"
      ]
     },
     "metadata": {
      "needs_background": "light"
     },
     "output_type": "display_data"
    },
    {
     "name": "stdout",
     "output_type": "stream",
     "text": [
      "[Anomaly 2]\n",
      "Max : 0.8630\tMean : 0.3411\tMin : 0.0074\n",
      "\n"
     ]
    },
    {
     "data": {
      "image/png": "[encoded data removed]",
      "text/plain": [
       "<Figure size 432x288 with 1 Axes>"
      ]
     },
     "metadata": {
      "needs_background": "light"
     },
     "output_type": "display_data"
    },
    {
     "name": "stdout",
     "output_type": "stream",
     "text": [
      "[Anomaly 3]\n",
      "Max : 1.2122\tMean : 0.4511\tMin : 0.0200\n",
      "\n"
     ]
    },
    {
     "data": {
      "image/png": "[encoded data removed]",
      "text/plain": [
       "<Figure size 432x288 with 1 Axes>"
      ]
     },
     "metadata": {
      "needs_background": "light"
     },
     "output_type": "display_data"
    },
    {
     "name": "stdout",
     "output_type": "stream",
     "text": [
      "[Anomaly 4]\n",
      "Max : 1.1099\tMean : 0.4721\tMin : 0.0866\n",
      "\n"
     ]
    },
    {
     "data": {
      "image/png": "[encoded data removed]",
      "text/plain": [
       "<Figure size 432x288 with 1 Axes>"
      ]
     },
     "metadata": {
      "needs_background": "light"
     },
     "output_type": "display_data"
    },
    {
     "name": "stdout",
     "output_type": "stream",
     "text": [
      "[Anomaly 5]\n",
      "Max : 1.0457\tMean : 0.3473\tMin : 0.0016\n",
      "\n"
     ]
    },
    {
     "data": {
      "image/png": "[encoded data removed]",
      "text/plain": [
       "<Figure size 432x288 with 1 Axes>"
      ]
     },
     "metadata": {
      "needs_background": "light"
     },
     "output_type": "display_data"
    },
    {
     "name": "stdout",
     "output_type": "stream",
     "text": [
      "[Anomaly 6]\n",
      "Max : 0.8019\tMean : 0.2680\tMin : 0.0006\n",
      "\n"
     ]
    },
    {
     "data": {
      "image/png": "[encoded data removed]",
      "text/plain": [
       "<Figure size 432x288 with 1 Axes>"
      ]
     },
     "metadata": {
      "needs_background": "light"
     },
     "output_type": "display_data"
    },
    {
     "name": "stdout",
     "output_type": "stream",
     "text": [
      "[Anomaly 7]\n",
      "Max : 1.4368\tMean : 0.4150\tMin : 0.0722\n",
      "\n"
     ]
    },
    {
     "data": {
      "image/png": "[encoded data removed]",
      "text/plain": [
       "<Figure size 432x288 with 1 Axes>"
      ]
     },
     "metadata": {
      "needs_background": "light"
     },
     "output_type": "display_data"
    },
    {
     "name": "stdout",
     "output_type": "stream",
     "text": [
      "[Anomaly 8]\n",
      "Max : 1.0969\tMean : 0.4129\tMin : 0.0241\n",
      "\n"
     ]
    },
    {
     "data": {
      "image/png": "[encoded data removed]",
      "text/plain": [
       "<Figure size 432x288 with 1 Axes>"
      ]
     },
     "metadata": {
      "needs_background": "light"
     },
     "output_type": "display_data"
    },
    {
     "name": "stdout",
     "output_type": "stream",
     "text": [
      "[Anomaly 9]\n",
      "Max : 0.9338\tMean : 0.4371\tMin : 0.1423\n",
      "\n"
     ]
    },
    {
     "data": {
      "image/png": "[encoded data removed]",
      "text/plain": [
       "<Figure size 432x288 with 1 Axes>"
      ]
     },
     "metadata": {
      "needs_background": "light"
     },
     "output_type": "display_data"
    }
   ],
   "source": [
    "import matplotlib.pyplot as plt\n",
    "maxes=[]\n",
    "means=[]\n",
    "mins=[]\n",
    "lois = [losses[ys==i] for i in range(10)]\n",
    "for i in range(10):\n",
    "    loi = lois[i]\n",
    "    counts, bins = np.histogram(loi)\n",
    "    plt.hist(bins[:-1], bins, weights=counts)\n",
    "    plt.axvline(thres, c='r')\n",
    "    plt.tight_layout()\n",
    "    plt.show()\n",
    "    if i==0:\n",
    "        print('[Normal]')\n",
    "    else:\n",
    "        print('[Anomaly %d]'%i)\n",
    "    maxes.append(loi.max())\n",
    "    means.append(loi.mean())\n",
    "    mins.append(loi.min())\n",
    "    print('Max : %.4f\\tMean : %.4f\\tMin : %.4f\\n'%(maxes[-1], means[-1], mins[-1]))\n",
    "    \n",
    "plt.boxplot(lois)\n",
    "plt.axhline(thres, c='r')\n",
    "plt.show()"
   ]
  },
  {
   "cell_type": "markdown",
   "id": "cellular-province",
   "metadata": {},
   "source": [
    "#### Test 데이터의 각 비정상 상태 label(우)에 대해, 정상 데이터(좌)와의 loss 분포 비교"
   ]
  },
  {
   "cell_type": "code",
   "execution_count": 19,
   "id": "adjusted-watson",
   "metadata": {},
   "outputs": [
    {
     "data": {
      "image/png": "[encoded data removed]",
      "text/plain": [
       "<Figure size 432x288 with 1 Axes>"
      ]
     },
     "metadata": {
      "needs_background": "light"
     },
     "output_type": "display_data"
    },
    {
     "data": {
      "image/png": "[encoded data removed]",
      "text/plain": [
       "<Figure size 432x288 with 1 Axes>"
      ]
     },
     "metadata": {
      "needs_background": "light"
     },
     "output_type": "display_data"
    },
    {
     "data": {
      "image/png": "[encoded data removed]",
      "text/plain": [
       "<Figure size 432x288 with 1 Axes>"
      ]
     },
     "metadata": {
      "needs_background": "light"
     },
     "output_type": "display_data"
    },
    {
     "data": {
      "image/png": "[encoded data removed]",
      "text/plain": [
       "<Figure size 432x288 with 1 Axes>"
      ]
     },
     "metadata": {
      "needs_background": "light"
     },
     "output_type": "display_data"
    },
    {
     "data": {
      "image/png": "[encoded data removed]",
      "text/plain": [
       "<Figure size 432x288 with 1 Axes>"
      ]
     },
     "metadata": {
      "needs_background": "light"
     },
     "output_type": "display_data"
    },
    {
     "data": {
      "image/png": "[encoded data removed]",
      "text/plain": [
       "<Figure size 432x288 with 1 Axes>"
      ]
     },
     "metadata": {
      "needs_background": "light"
     },
     "output_type": "display_data"
    },
    {
     "data": {
      "image/png": "[encoded data removed]",
      "text/plain": [
       "<Figure size 432x288 with 1 Axes>"
      ]
     },
     "metadata": {
      "needs_background": "light"
     },
     "output_type": "display_data"
    },
    {
     "data": {
      "image/png": "[encoded data removed]",
      "text/plain": [
       "<Figure size 432x288 with 1 Axes>"
      ]
     },
     "metadata": {
      "needs_background": "light"
     },
     "output_type": "display_data"
    },
    {
     "data": {
      "image/png": "[encoded data removed]",
      "text/plain": [
       "<Figure size 432x288 with 1 Axes>"
      ]
     },
     "metadata": {
      "needs_background": "light"
     },
     "output_type": "display_data"
    }
   ],
   "source": [
    "for i in range(9):\n",
    "    plt.boxplot([lois[0],lois[i+1]])\n",
    "    plt.axhline(thres, c='r')\n",
    "    plt.show()"
   ]
  },
  {
   "cell_type": "markdown",
   "id": "authorized-winter",
   "metadata": {},
   "source": [
    "#### ROC 커브 확인"
   ]
  },
  {
   "cell_type": "code",
   "execution_count": 20,
   "id": "great-animation",
   "metadata": {},
   "outputs": [
    {
     "data": {
      "image/png": "[encoded data removed]",
      "text/plain": [
       "<Figure size 432x288 with 1 Axes>"
      ]
     },
     "metadata": {
      "needs_background": "light"
     },
     "output_type": "display_data"
    },
    {
     "name": "stdout",
     "output_type": "stream",
     "text": [
      "Thres : 2.5380e+00,\tFPR : 0.0000,\tTPR : 0.0000\n",
      "Thres : 1.5380e+00,\tFPR : 0.0000,\tTPR : 0.0010\n",
      "Thres : 1.3213e-01,\tFPR : 0.0000,\tTPR : 0.9255\n",
      "Thres : 1.3168e-01,\tFPR : 0.0010,\tTPR : 0.9255\n",
      "Thres : 1.3088e-01,\tFPR : 0.0010,\tTPR : 0.9265\n",
      "Thres : 1.3018e-01,\tFPR : 0.0020,\tTPR : 0.9265\n",
      "Thres : 1.1148e-01,\tFPR : 0.0020,\tTPR : 0.9429\n",
      "Thres : 1.0951e-01,\tFPR : 0.0031,\tTPR : 0.9429\n",
      "Thres : 8.0965e-02,\tFPR : 0.0031,\tTPR : 0.9684\n",
      "Thres : 8.0046e-02,\tFPR : 0.0041,\tTPR : 0.9684\n",
      "Thres : 7.8586e-02,\tFPR : 0.0041,\tTPR : 0.9704\n",
      "Thres : 7.7834e-02,\tFPR : 0.0061,\tTPR : 0.9704\n",
      "Thres : 7.4553e-02,\tFPR : 0.0061,\tTPR : 0.9724\n",
      "Thres : 7.2915e-02,\tFPR : 0.0071,\tTPR : 0.9724\n",
      "Thres : 7.2061e-02,\tFPR : 0.0071,\tTPR : 0.9745\n",
      "Thres : 7.0200e-02,\tFPR : 0.0082,\tTPR : 0.9745\n",
      "Thres : 6.3950e-02,\tFPR : 0.0082,\tTPR : 0.9786\n",
      "Thres : 6.2132e-02,\tFPR : 0.0092,\tTPR : 0.9786\n",
      "Thres : 5.9094e-02,\tFPR : 0.0092,\tTPR : 0.9796\n",
      "Thres : 5.8004e-02,\tFPR : 0.0102,\tTPR : 0.9796\n",
      "Thres : 5.3602e-02,\tFPR : 0.0102,\tTPR : 0.9837\n",
      "Thres : 4.5172e-02,\tFPR : 0.0122,\tTPR : 0.9837\n",
      "Thres : 4.5128e-02,\tFPR : 0.0122,\tTPR : 0.9847\n",
      "Thres : 3.9979e-02,\tFPR : 0.0143,\tTPR : 0.9847\n",
      "Thres : 3.9370e-02,\tFPR : 0.0143,\tTPR : 0.9857\n",
      "Thres : 3.8152e-02,\tFPR : 0.0163,\tTPR : 0.9857\n",
      "Thres : 3.5973e-02,\tFPR : 0.0163,\tTPR : 0.9878\n",
      "Thres : 2.8312e-02,\tFPR : 0.0224,\tTPR : 0.9878\n",
      "Thres : 2.8177e-02,\tFPR : 0.0224,\tTPR : 0.9888\n",
      "Thres : 2.4456e-02,\tFPR : 0.0276,\tTPR : 0.9888\n",
      "Thres : 2.4078e-02,\tFPR : 0.0276,\tTPR : 0.9898\n",
      "Thres : 2.3335e-02,\tFPR : 0.0296,\tTPR : 0.9898\n",
      "Thres : 2.2848e-02,\tFPR : 0.0296,\tTPR : 0.9908\n",
      "Thres : 2.1748e-02,\tFPR : 0.0316,\tTPR : 0.9908\n",
      "Thres : 2.1225e-02,\tFPR : 0.0316,\tTPR : 0.9918\n",
      "Thres : 1.9999e-02,\tFPR : 0.0337,\tTPR : 0.9918\n",
      "Thres : 1.9953e-02,\tFPR : 0.0337,\tTPR : 0.9929\n",
      "Thres : 8.3950e-03,\tFPR : 0.0643,\tTPR : 0.9929\n",
      "Thres : 8.0882e-03,\tFPR : 0.0643,\tTPR : 0.9939\n",
      "Thres : 7.4230e-03,\tFPR : 0.0673,\tTPR : 0.9939\n",
      "Thres : 7.3787e-03,\tFPR : 0.0673,\tTPR : 0.9949\n",
      "Thres : 1.5895e-03,\tFPR : 0.1500,\tTPR : 0.9949\n",
      "Thres : 1.5844e-03,\tFPR : 0.1500,\tTPR : 0.9959\n",
      "Thres : 1.5683e-03,\tFPR : 0.1520,\tTPR : 0.9959\n",
      "Thres : 1.5525e-03,\tFPR : 0.1520,\tTPR : 0.9969\n",
      "Thres : 1.1708e-03,\tFPR : 0.2255,\tTPR : 0.9969\n",
      "Thres : 1.1660e-03,\tFPR : 0.2255,\tTPR : 0.9980\n",
      "Thres : 6.4168e-04,\tFPR : 0.3694,\tTPR : 0.9980\n",
      "Thres : 6.3762e-04,\tFPR : 0.3694,\tTPR : 0.9990\n",
      "Thres : 5.5391e-04,\tFPR : 0.3949,\tTPR : 0.9990\n",
      "Thres : 5.5036e-04,\tFPR : 0.3949,\tTPR : 1.0000\n",
      "Thres : 1.3525e-06,\tFPR : 1.0000,\tTPR : 1.0000\n"
     ]
    }
   ],
   "source": [
    "fpr, tpr, thresholds = roc_curve([0]*losses[ys==0].shape[0]+[1]*losses[ys!=0].shape[0], losses.flatten())\n",
    "\n",
    "plot_roc_curve(fpr,tpr)\n",
    "for i in range(len(fpr)):\n",
    "    print(\"Thres : %.4e,\\tFPR : %.4f,\\tTPR : %.4f\"%(thresholds[i],fpr[i],tpr[i]))\n",
    "#print(fpr,tpr,thres)"
   ]
  },
  {
   "cell_type": "code",
   "execution_count": 21,
   "id": "manufactured-cradle",
   "metadata": {},
   "outputs": [
    {
     "name": "stdout",
     "output_type": "stream",
     "text": [
      "TP :   915,\tFP :     6\n",
      "FN :    65,\tTN :   974\n",
      "Accuracy : 0.96,\tPrecision : 0.99,\tRecall : 0.93\n"
     ]
    }
   ],
   "source": [
    "THRESHOLD = 7.4378e-03\n",
    "TP = len(losses_p[losses_p<THRESHOLD])\n",
    "FN = len(losses_p[losses_p>THRESHOLD])\n",
    "TN = len(losses_n[losses_n>THRESHOLD])\n",
    "FP = len(losses_n[losses_n<THRESHOLD])\n",
    "print('TP : %5d,\\tFP : %5d'%(TP, FP))\n",
    "print('FN : %5d,\\tTN : %5d'%(FN ,TN))\n",
    "print('Accuracy : %.2f,\\tPrecision : %.2f,\\tRecall : %.2f'%((TP+TN)/(TP+TN+FP+FN), (TP)/(TP+FP+1e-10), (TP)/(TP+FN)))"
   ]
  },
  {
   "cell_type": "code",
   "execution_count": null,
   "id": "sophisticated-airport",
   "metadata": {},
   "outputs": [],
   "source": []
  },
  {
   "cell_type": "code",
   "execution_count": null,
   "id": "verified-water",
   "metadata": {},
   "outputs": [],
   "source": []
  },
  {
   "cell_type": "markdown",
   "id": "fresh-array",
   "metadata": {},
   "source": [
    "# Deep SVDD"
   ]
  }
 ],
 "metadata": {
  "kernelspec": {
   "display_name": "Python 3",
   "language": "python",
   "name": "python3"
  },
  "language_info": {
   "codemirror_mode": {
    "name": "ipython",
    "version": 3
   },
   "file_extension": ".py",
   "mimetype": "text/x-python",
   "name": "python",
   "nbconvert_exporter": "python",
   "pygments_lexer": "ipython3",
   "version": "3.8.3"
  }
 },
 "nbformat": 4,
 "nbformat_minor": 5
}
