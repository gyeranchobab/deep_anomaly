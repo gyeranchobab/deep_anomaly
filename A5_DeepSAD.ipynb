{
 "cells": [
  {
   "cell_type": "code",
   "execution_count": 1,
   "id": "excessive-sierra",
   "metadata": {},
   "outputs": [],
   "source": [
    "from src.skeleton import BaseModel"
   ]
  },
  {
   "cell_type": "code",
   "execution_count": 2,
   "id": "loving-atlas",
   "metadata": {},
   "outputs": [],
   "source": [
    "from torchvision.datasets import MNIST\n",
    "import torchvision.transforms as transforms\n",
    "import torch"
   ]
  },
  {
   "cell_type": "code",
   "execution_count": 3,
   "id": "editorial-comedy",
   "metadata": {},
   "outputs": [
    {
     "name": "stdout",
     "output_type": "stream",
     "text": [
      "Downloading http://yann.lecun.com/exdb/mnist/train-images-idx3-ubyte.gz to ./datasets/MNIST/raw/train-images-idx3-ubyte.gz\n"
     ]
    },
    {
     "data": {
      "application/vnd.jupyter.widget-view+json": {
       "model_id": "ede041f31a754baf8733b842c1c25fb2",
       "version_major": 2,
       "version_minor": 0
      },
      "text/plain": [
       "  0%|          | 0/9912422 [00:00<?, ?it/s]"
      ]
     },
     "metadata": {},
     "output_type": "display_data"
    },
    {
     "name": "stdout",
     "output_type": "stream",
     "text": [
      "Extracting ./datasets/MNIST/raw/train-images-idx3-ubyte.gz to ./datasets/MNIST/raw\n",
      "Downloading http://yann.lecun.com/exdb/mnist/train-labels-idx1-ubyte.gz to ./datasets/MNIST/raw/train-labels-idx1-ubyte.gz\n"
     ]
    },
    {
     "data": {
      "application/vnd.jupyter.widget-view+json": {
       "model_id": "eb9c388317c64820acf1b8fb8ce43c0a",
       "version_major": 2,
       "version_minor": 0
      },
      "text/plain": [
       "  0%|          | 0/28881 [00:00<?, ?it/s]"
      ]
     },
     "metadata": {},
     "output_type": "display_data"
    },
    {
     "name": "stdout",
     "output_type": "stream",
     "text": [
      "Extracting ./datasets/MNIST/raw/train-labels-idx1-ubyte.gz to ./datasets/MNIST/raw\n",
      "Downloading http://yann.lecun.com/exdb/mnist/t10k-images-idx3-ubyte.gz to ./datasets/MNIST/raw/t10k-images-idx3-ubyte.gz\n"
     ]
    },
    {
     "data": {
      "application/vnd.jupyter.widget-view+json": {
       "model_id": "8e7ebdf405bb48d398eea82a170a0778",
       "version_major": 2,
       "version_minor": 0
      },
      "text/plain": [
       "  0%|          | 0/1648877 [00:00<?, ?it/s]"
      ]
     },
     "metadata": {},
     "output_type": "display_data"
    },
    {
     "name": "stdout",
     "output_type": "stream",
     "text": [
      "Extracting ./datasets/MNIST/raw/t10k-images-idx3-ubyte.gz to ./datasets/MNIST/raw\n",
      "Downloading http://yann.lecun.com/exdb/mnist/t10k-labels-idx1-ubyte.gz to ./datasets/MNIST/raw/t10k-labels-idx1-ubyte.gz\n"
     ]
    },
    {
     "data": {
      "application/vnd.jupyter.widget-view+json": {
       "model_id": "48e5adc754d0413793ecbf2a24ff9f47",
       "version_major": 2,
       "version_minor": 0
      },
      "text/plain": [
       "  0%|          | 0/4542 [00:00<?, ?it/s]"
      ]
     },
     "metadata": {},
     "output_type": "display_data"
    },
    {
     "name": "stdout",
     "output_type": "stream",
     "text": [
      "Extracting ./datasets/MNIST/raw/t10k-labels-idx1-ubyte.gz to ./datasets/MNIST/raw\n",
      "Processing...\n",
      "Done!\n",
      "60000 10000\n"
     ]
    },
    {
     "name": "stderr",
     "output_type": "stream",
     "text": [
      "/home/jh/anaconda3/lib/python3.8/site-packages/torchvision/datasets/mnist.py:479: UserWarning: The given NumPy array is not writeable, and PyTorch does not support non-writeable tensors. This means you can write to the underlying (supposedly non-writeable) NumPy array using the tensor. You may want to copy the array to protect its data or make it writeable before converting it to a tensor. This type of warning will be suppressed for the rest of this program. (Triggered internally at  /pytorch/torch/csrc/utils/tensor_numpy.cpp:143.)\n",
      "  return torch.from_numpy(parsed.astype(m[2], copy=False)).view(*s)\n"
     ]
    }
   ],
   "source": [
    "mnist_train_dataset = MNIST('./datasets', download=True, train=True, transform=transforms.ToTensor())\n",
    "mnist_test_dataset = MNIST('./datasets', download=True, train=False, transform=transforms.ToTensor())\n",
    "print(len(mnist_train_dataset), len(mnist_test_dataset))"
   ]
  },
  {
   "cell_type": "code",
   "execution_count": 4,
   "id": "affected-domestic",
   "metadata": {},
   "outputs": [
    {
     "name": "stdout",
     "output_type": "stream",
     "text": [
      "torch.Size([5923, 28, 28]) torch.Size([1000, 28, 28]) torch.Size([980, 28, 28]) torch.Size([980, 28, 28])\n"
     ]
    }
   ],
   "source": [
    "#print(mnist_train_dataset)\n",
    "#print(mnist_train_dataset.targets.shape)\n",
    "#print(mnist_train_dataset.data.shape)\n",
    "N_NEGATIVE = 1000\n",
    "P=0.2\n",
    "positive_set_train = mnist_train_dataset.data[mnist_train_dataset.targets==0]\n",
    "negative_set_train = mnist_train_dataset.data[mnist_train_dataset.targets!=0][:N_NEGATIVE]\n",
    "positive_set_test = mnist_test_dataset.data[mnist_test_dataset.targets==0]\n",
    "negative_set_test = mnist_test_dataset.data[mnist_test_dataset.targets!=0][:positive_set_test.shape[0]]\n",
    "print(positive_set_train.shape, negative_set_train.shape,positive_set_test.shape,negative_set_test.shape)"
   ]
  },
  {
   "cell_type": "code",
   "execution_count": 5,
   "id": "blank-investor",
   "metadata": {},
   "outputs": [
    {
     "name": "stdout",
     "output_type": "stream",
     "text": [
      "6923 1960\n",
      "5923 1000 980 980\n"
     ]
    }
   ],
   "source": [
    "from torch.utils.data import Dataset, DataLoader, ConcatDataset\n",
    "import numpy as np\n",
    "class MNIST_Anomaly(Dataset):\n",
    "    def __init__(self, dataset, y, p = None):\n",
    "        self.dataset = dataset\n",
    "        self.y = y\n",
    "        if p is None:\n",
    "            self.mask = [True] * len(dataset)\n",
    "        else:\n",
    "            self.mask = np.random.choice(len(dataset), len(dataset), replace=False) < p*len(dataset)\n",
    "    def __len__(self):\n",
    "        return len(self.dataset)\n",
    "    def __getitem__(self, index):\n",
    "        X = self.dataset[index]\n",
    "        y = self.y[index]\n",
    "        M = self.mask[index]\n",
    "        return X,y,M\n",
    "    \n",
    "dataset_p_train = MNIST_Anomaly(positive_set_train, [torch.tensor(0.0)]*len(positive_set_train), p=P)\n",
    "dataset_n_train = MNIST_Anomaly(negative_set_train, mnist_train_dataset.targets[mnist_train_dataset.targets!=0], p=P)\n",
    "dataset_p_test = MNIST_Anomaly(positive_set_test, [torch.tensor(0.0)]*len(positive_set_test))\n",
    "dataset_n_test = MNIST_Anomaly(negative_set_test, mnist_test_dataset.targets[mnist_test_dataset.targets!=0])\n",
    "train_dataset = ConcatDataset([dataset_p_train, dataset_n_train])\n",
    "test_dataset = ConcatDataset([dataset_p_test, dataset_n_test])\n",
    "print(len(train_dataset), len(test_dataset))\n",
    "print(len(dataset_p_train), len(dataset_n_train), len(dataset_p_test), len(dataset_n_test))"
   ]
  },
  {
   "cell_type": "code",
   "execution_count": 6,
   "id": "verified-disability",
   "metadata": {},
   "outputs": [],
   "source": [
    "BATCH = 256\n",
    "EPOCH = 100\n",
    "LR = 1e-3\n",
    "LAMBDA = 1e-2\n",
    "ETA = 1.0"
   ]
  },
  {
   "cell_type": "code",
   "execution_count": 7,
   "id": "atlantic-maryland",
   "metadata": {},
   "outputs": [],
   "source": [
    "train_loader = DataLoader(train_dataset, batch_size=BATCH, shuffle=True)\n",
    "test_loader = DataLoader(test_dataset, batch_size=BATCH)"
   ]
  },
  {
   "cell_type": "code",
   "execution_count": 8,
   "id": "banner-trinity",
   "metadata": {},
   "outputs": [],
   "source": [
    "import torch.nn as nn\n",
    "\n",
    "HDIM = 64\n",
    "\n",
    "def init_c(model, train_loader, eps=0.1):\n",
    "    n = 0\n",
    "    c = torch.zeros(HDIM)\n",
    "    \n",
    "    model.eval()\n",
    "    \n",
    "    for batch, label, mask in train_loader:\n",
    "        batch=batch.to(dtype=torch.float)\n",
    "        if label.dtype == torch.int32:\n",
    "            label = label.to(dtype=torch.long)\n",
    "        elif label.dtype == torch.double:\n",
    "            label = label.to(dtype=torch.float)\n",
    "        mask=mask.to(dtype=torch.bool)\n",
    "        \n",
    "        batch = model.preprocess(batch, label, mask)\n",
    "        with torch.no_grad():\n",
    "            pred = model(batch, label, mask)\n",
    "        n += pred.shape[0]\n",
    "        c += torch.sum(pred, dim=0)\n",
    "    c /= n\n",
    "    \n",
    "    c[(abs(c) < eps) & (c<0)] = -eps\n",
    "    c[(abs(c) < eps) & (c>0)] = eps\n",
    "    \n",
    "    return c.unsqueeze(0)\n",
    "\n",
    "\n",
    "class MyModel(BaseModel):\n",
    "    def __init__(self, in_dim, c=None, train_loader=None, shift=0.0, scale=1.0, model_name='my_model'):\n",
    "        super().__init__(model_name=model_name)\n",
    "        self.enc1 = nn.Linear(in_dim, 256)\n",
    "        self.enc2 = nn.Linear(256,128)\n",
    "        self.enc3 = nn.Linear(128,HDIM)\n",
    "        self.relu = nn.ReLU()\n",
    "        self.shift = shift\n",
    "        self.scale = scale\n",
    "        if c is None:\n",
    "            self.c = init_c(self, train_loader)\n",
    "        else:\n",
    "            self.c = c\n",
    "        \n",
    "        self.c = self.c.to(device='cuda')\n",
    "        \n",
    "    def forward(self, batch, label=None, mask=None):\n",
    "        x = self.enc1(batch)\n",
    "        x = self.relu(x)\n",
    "        x = self.enc2(x)\n",
    "        x = self.relu(x)\n",
    "        x = self.enc3(x)\n",
    "        return x\n",
    "    \n",
    "    def preprocess(self, batch, label=None, mask=None):\n",
    "        batch = (batch-self.shift) / self.scale\n",
    "        return batch.view(batch.size(0),-1)\n",
    "    \n",
    "    def criterion(self, pred=None, batch=None, label=None, mask=None):\n",
    "        #print(pred.shape, self.c.shape)\n",
    "        #print(pred[~mask].shape, (~mask).sum(), (mask&(label==0)).sum(), (mask&(label!=0)).sum())\n",
    "        loss = nn.MSELoss(reduction='none')(pred[~mask], self.c.repeat((~mask).sum(),1)).mean(-1)\n",
    "        loss_positive = nn.MSELoss(reduction='none')(pred[mask&(label==0)], self.c.repeat((mask&(label==0)).sum(),1)).mean(-1)\n",
    "        loss_negative = nn.MSELoss(reduction='none')(pred[mask&(label!=0)], self.c.repeat((mask&(label!=0)).sum(),1)).mean(-1)\n",
    "        loss = (loss.sum() + loss_positive.sum() + (1/(loss_negative+1e-10)).sum()) / (loss.shape[0]+loss_positive.shape[0]+loss_negative.shape[0])\n",
    "        return loss\n"
   ]
  },
  {
   "cell_type": "code",
   "execution_count": 9,
   "id": "palestinian-tender",
   "metadata": {},
   "outputs": [
    {
     "data": {
      "text/plain": [
       "MyModel(\n",
       "  (enc1): Linear(in_features=784, out_features=256, bias=True)\n",
       "  (enc2): Linear(in_features=256, out_features=128, bias=True)\n",
       "  (enc3): Linear(in_features=128, out_features=64, bias=True)\n",
       "  (relu): ReLU()\n",
       ")"
      ]
     },
     "execution_count": 9,
     "metadata": {},
     "output_type": "execute_result"
    }
   ],
   "source": [
    "model = MyModel(28*28, shift=positive_set_train.min(), scale=(positive_set_train.max()-positive_set_train.min()+1e-10), train_loader=train_loader)\n",
    "model.cuda()"
   ]
  },
  {
   "cell_type": "code",
   "execution_count": 10,
   "id": "extreme-rebecca",
   "metadata": {},
   "outputs": [],
   "source": [
    "import torch.optim as optim\n",
    "optimizer = optim.Adam(model.parameters(), LR, weight_decay=LAMBDA)"
   ]
  },
  {
   "cell_type": "code",
   "execution_count": 11,
   "id": "compound-chocolate",
   "metadata": {},
   "outputs": [
    {
     "name": "stdout",
     "output_type": "stream",
     "text": [
      "(0.42s) [Epoch 1]\n",
      "\tTrain Loss : 1.1034\tTrain Score : 0\n",
      "\tEval Loss : 3.4977\tEval Score : 0\n",
      "(0.12s) [Epoch 11]\n",
      "\tTrain Loss : 0.13025\tTrain Score : 0\n",
      "\tEval Loss : 15.521\tEval Score : 0\n",
      "(0.13s) [Epoch 21]\n",
      "\tTrain Loss : 0.17975\tTrain Score : 0\n",
      "\tEval Loss : 10.962\tEval Score : 0\n",
      "(0.12s) [Epoch 31]\n",
      "\tTrain Loss : 0.11914\tTrain Score : 0\n",
      "\tEval Loss : 29.395\tEval Score : 0\n",
      "(0.12s) [Epoch 41]\n",
      "\tTrain Loss : 0.11804\tTrain Score : 0\n",
      "\tEval Loss : 19.66\tEval Score : 0\n",
      "(0.12s) [Epoch 51]\n",
      "\tTrain Loss : 0.11506\tTrain Score : 0\n",
      "\tEval Loss : 25.404\tEval Score : 0\n",
      "(0.13s) [Epoch 61]\n",
      "\tTrain Loss : 0.11408\tTrain Score : 0\n",
      "\tEval Loss : 17.402\tEval Score : 0\n",
      "(0.12s) [Epoch 71]\n",
      "\tTrain Loss : 0.12176\tTrain Score : 0\n",
      "\tEval Loss : 46.995\tEval Score : 0\n",
      "(0.12s) [Epoch 81]\n",
      "\tTrain Loss : 0.11394\tTrain Score : 0\n",
      "\tEval Loss : 38.928\tEval Score : 0\n",
      "(0.13s) [Epoch 91]\n",
      "\tTrain Loss : 0.11145\tTrain Score : 0\n",
      "\tEval Loss : 24.676\tEval Score : 0\n"
     ]
    }
   ],
   "source": [
    "model.train_model(train_loader, test_loader, EPOCH, optimizer, report_intv=10)"
   ]
  },
  {
   "cell_type": "code",
   "execution_count": 12,
   "id": "sweet-specific",
   "metadata": {},
   "outputs": [],
   "source": [
    "def run_inference(model, dataloader):\n",
    "    model.eval()\n",
    "    losses = []\n",
    "    ys = []\n",
    "    criterion = nn.MSELoss(reduction='none')\n",
    "    for batch, label, mask in dataloader:\n",
    "        batch = batch.cuda().to(dtype=torch.float)\n",
    "        batch = model.preprocess(batch)\n",
    "        with torch.no_grad():\n",
    "            pred = model.forward(batch)\n",
    "        loss = criterion(pred, model.c.repeat(pred.shape[0],1)).view(pred.shape[0],-1).mean(-1)\n",
    "        losses.append(loss.cpu())\n",
    "        label[~mask] = -1\n",
    "        ys.append(label)\n",
    "    losses = torch.cat(losses, 0)\n",
    "    ys = torch.cat(ys, 0)\n",
    "    return losses, ys\n",
    "\n",
    "def find_thres(losses, sigma=3):\n",
    "    mean = losses.mean()\n",
    "    std = losses.std()\n",
    "    thres = mean+std*sigma\n",
    "    return thres.item()\n"
   ]
  },
  {
   "cell_type": "code",
   "execution_count": 13,
   "id": "musical-teens",
   "metadata": {},
   "outputs": [
    {
     "name": "stdout",
     "output_type": "stream",
     "text": [
      "torch.Size([6923])\n"
     ]
    }
   ],
   "source": [
    "train_loader_noshuffle =  DataLoader(train_dataset, batch_size=BATCH, shuffle=False)\n",
    "losses_train, ys_train = run_inference(model, train_loader_noshuffle)\n",
    "\n",
    "print(losses_train.shape)"
   ]
  },
  {
   "cell_type": "code",
   "execution_count": 14,
   "id": "prime-dating",
   "metadata": {},
   "outputs": [],
   "source": [
    "from sklearn.metrics import roc_curve\n",
    "import matplotlib.pyplot as plt\n",
    "\n",
    "def plot_roc_curve(fper, tper):\n",
    "    plt.plot(fper, tper, color='red', label='ROC')\n",
    "    plt.plot([0, 1], [0, 1], color='green', linestyle='--')\n",
    "    plt.xlabel('False Positive Rate')\n",
    "    plt.ylabel('True Positive Rate')\n",
    "    plt.title('Receiver Operating Characteristic Curve')\n",
    "    plt.legend()\n",
    "    plt.show()\n",
    "    "
   ]
  },
  {
   "cell_type": "code",
   "execution_count": 15,
   "id": "opponent-dealer",
   "metadata": {},
   "outputs": [
    {
     "name": "stdout",
     "output_type": "stream",
     "text": [
      "tensor(1185) tensor(200) tensor(5538)\n"
     ]
    },
    {
     "data": {
      "image/png": "[encoded data removed]",
      "text/plain": [
       "<Figure size 432x288 with 1 Axes>"
      ]
     },
     "metadata": {
      "needs_background": "light"
     },
     "output_type": "display_data"
    },
    {
     "name": "stdout",
     "output_type": "stream",
     "text": [
      "Thres : 2.5572e+00,\tFPR : 0.0000,\tTPR : 0.0000\n",
      "Thres : 1.5572e+00,\tFPR : 0.0000,\tTPR : 0.0050\n",
      "Thres : 5.6094e-01,\tFPR : 0.0000,\tTPR : 0.4450\n",
      "Thres : 5.5028e-01,\tFPR : 0.0008,\tTPR : 0.4450\n",
      "Thres : 4.9230e-01,\tFPR : 0.0008,\tTPR : 0.6000\n",
      "Thres : 4.9212e-01,\tFPR : 0.0017,\tTPR : 0.6000\n",
      "Thres : 4.3604e-01,\tFPR : 0.0017,\tTPR : 0.7700\n",
      "Thres : 4.3522e-01,\tFPR : 0.0025,\tTPR : 0.7700\n",
      "Thres : 3.9777e-01,\tFPR : 0.0025,\tTPR : 0.8450\n",
      "Thres : 3.9568e-01,\tFPR : 0.0034,\tTPR : 0.8450\n",
      "Thres : 3.6870e-01,\tFPR : 0.0034,\tTPR : 0.8850\n",
      "Thres : 3.6747e-01,\tFPR : 0.0042,\tTPR : 0.8850\n",
      "Thres : 3.0983e-01,\tFPR : 0.0042,\tTPR : 0.9500\n",
      "Thres : 3.0979e-01,\tFPR : 0.0051,\tTPR : 0.9500\n",
      "Thres : 2.4683e-01,\tFPR : 0.0051,\tTPR : 1.0000\n",
      "Thres : 2.5481e-06,\tFPR : 1.0000,\tTPR : 1.0000\n",
      "Best Thres : 2.4683e-01\n"
     ]
    }
   ],
   "source": [
    "print((ys_train==0).sum(), (ys_train>0).sum(), (ys_train<0).sum())\n",
    "fpr, tpr, thresholds = roc_curve([0]*losses_train[ys_train==0].shape[0]+[1]*losses_train[ys_train>0].shape[0], losses_train[ys_train>=0].flatten())\n",
    "\n",
    "plot_roc_curve(fpr,tpr)\n",
    "thres = 0.0\n",
    "best_score = 0.0\n",
    "for i in range(len(fpr)):\n",
    "    score = tpr[i]+1-fpr[i]\n",
    "    if score > best_score:\n",
    "        best_score = score\n",
    "        thres = thresholds[i]\n",
    "    print(\"Thres : %.4e,\\tFPR : %.4f,\\tTPR : %.4f\"%(thresholds[i],fpr[i],tpr[i]))\n",
    "#print(fpr,tpr,thres)\n",
    "print('Best Thres : %.4e'%thres)"
   ]
  },
  {
   "cell_type": "code",
   "execution_count": 16,
   "id": "retained-retreat",
   "metadata": {},
   "outputs": [
    {
     "name": "stdout",
     "output_type": "stream",
     "text": [
      "torch.Size([980]) torch.Size([980])\n"
     ]
    }
   ],
   "source": [
    "losses, ys = run_inference(model, test_loader)\n",
    "\n",
    "losses_p = losses[ys==0]\n",
    "losses_n = losses[ys!=0]\n",
    "print(losses_p.shape, losses_n.shape)"
   ]
  },
  {
   "cell_type": "code",
   "execution_count": 17,
   "id": "laughing-choir",
   "metadata": {},
   "outputs": [
    {
     "name": "stdout",
     "output_type": "stream",
     "text": [
      "TP :   978,\tFP :   202\n",
      "FN :     2,\tTN :   778\n",
      "Accuracy : 0.90,\tPrecision : 0.83,\tRecall : 1.00\n"
     ]
    }
   ],
   "source": [
    "TP = len(losses_p[losses_p<thres])\n",
    "FN = len(losses_p[losses_p>thres])\n",
    "TN = len(losses_n[losses_n>thres])\n",
    "FP = len(losses_n[losses_n<thres])\n",
    "print('TP : %5d,\\tFP : %5d'%(TP, FP))\n",
    "print('FN : %5d,\\tTN : %5d'%(FN ,TN))\n",
    "print('Accuracy : %.2f,\\tPrecision : %.2f,\\tRecall : %.2f'%((TP+TN)/(TP+TN+FP+FN), (TP)/(TP+FP+1e-10), (TP)/(TP+FN)))"
   ]
  },
  {
   "cell_type": "code",
   "execution_count": 18,
   "id": "boxed-airport",
   "metadata": {},
   "outputs": [
    {
     "data": {
      "image/png": "[encoded data removed]",
      "text/plain": [
       "<Figure size 432x288 with 1 Axes>"
      ]
     },
     "metadata": {
      "needs_background": "light"
     },
     "output_type": "display_data"
    },
    {
     "name": "stdout",
     "output_type": "stream",
     "text": [
      "[Normal]\n",
      "Max : 0.3564\tMean : 0.0035\tMin : 0.0000\n",
      "\n"
     ]
    },
    {
     "data": {
      "image/png": "[encoded data removed]",
      "text/plain": [
       "<Figure size 432x288 with 1 Axes>"
      ]
     },
     "metadata": {
      "needs_background": "light"
     },
     "output_type": "display_data"
    },
    {
     "name": "stdout",
     "output_type": "stream",
     "text": [
      "[Anomaly 1]\n",
      "Max : 1.4949\tMean : 0.5880\tMin : 0.0936\n",
      "\n"
     ]
    },
    {
     "data": {
      "image/png": "[encoded data removed]",
      "text/plain": [
       "<Figure size 432x288 with 1 Axes>"
      ]
     },
     "metadata": {
      "needs_background": "light"
     },
     "output_type": "display_data"
    },
    {
     "name": "stdout",
     "output_type": "stream",
     "text": [
      "[Anomaly 2]\n",
      "Max : 1.1992\tMean : 0.2873\tMin : 0.0000\n",
      "\n"
     ]
    },
    {
     "data": {
      "image/png": "[encoded data removed]",
      "text/plain": [
       "<Figure size 432x288 with 1 Axes>"
      ]
     },
     "metadata": {
      "needs_background": "light"
     },
     "output_type": "display_data"
    },
    {
     "name": "stdout",
     "output_type": "stream",
     "text": [
      "[Anomaly 3]\n",
      "Max : 1.0736\tMean : 0.4701\tMin : 0.0634\n",
      "\n"
     ]
    },
    {
     "data": {
      "image/png": "[encoded data removed]",
      "text/plain": [
       "<Figure size 432x288 with 1 Axes>"
      ]
     },
     "metadata": {
      "needs_background": "light"
     },
     "output_type": "display_data"
    },
    {
     "name": "stdout",
     "output_type": "stream",
     "text": [
      "[Anomaly 4]\n",
      "Max : 1.2216\tMean : 0.5514\tMin : 0.0015\n",
      "\n"
     ]
    },
    {
     "data": {
      "image/png": "[encoded data removed]",
      "text/plain": [
       "<Figure size 432x288 with 1 Axes>"
      ]
     },
     "metadata": {
      "needs_background": "light"
     },
     "output_type": "display_data"
    },
    {
     "name": "stdout",
     "output_type": "stream",
     "text": [
      "[Anomaly 5]\n",
      "Max : 0.9539\tMean : 0.3608\tMin : 0.0011\n",
      "\n"
     ]
    },
    {
     "data": {
      "image/png": "[encoded data removed]",
      "text/plain": [
       "<Figure size 432x288 with 1 Axes>"
      ]
     },
     "metadata": {
      "needs_background": "light"
     },
     "output_type": "display_data"
    },
    {
     "name": "stdout",
     "output_type": "stream",
     "text": [
      "[Anomaly 6]\n",
      "Max : 0.9724\tMean : 0.2010\tMin : 0.0000\n",
      "\n"
     ]
    },
    {
     "data": {
      "image/png": "[encoded data removed]",
      "text/plain": [
       "<Figure size 432x288 with 1 Axes>"
      ]
     },
     "metadata": {
      "needs_background": "light"
     },
     "output_type": "display_data"
    },
    {
     "name": "stdout",
     "output_type": "stream",
     "text": [
      "[Anomaly 7]\n",
      "Max : 1.7637\tMean : 0.5520\tMin : 0.0012\n",
      "\n"
     ]
    },
    {
     "data": {
      "image/png": "[encoded data removed]",
      "text/plain": [
       "<Figure size 432x288 with 1 Axes>"
      ]
     },
     "metadata": {
      "needs_background": "light"
     },
     "output_type": "display_data"
    },
    {
     "name": "stdout",
     "output_type": "stream",
     "text": [
      "[Anomaly 8]\n",
      "Max : 1.4882\tMean : 0.4478\tMin : 0.0232\n",
      "\n"
     ]
    },
    {
     "data": {
      "image/png": "[encoded data removed]",
      "text/plain": [
       "<Figure size 432x288 with 1 Axes>"
      ]
     },
     "metadata": {
      "needs_background": "light"
     },
     "output_type": "display_data"
    },
    {
     "name": "stdout",
     "output_type": "stream",
     "text": [
      "[Anomaly 9]\n",
      "Max : 1.3860\tMean : 0.5987\tMin : 0.1767\n",
      "\n"
     ]
    },
    {
     "data": {
      "image/png": "[encoded data removed]",
      "text/plain": [
       "<Figure size 432x288 with 1 Axes>"
      ]
     },
     "metadata": {
      "needs_background": "light"
     },
     "output_type": "display_data"
    }
   ],
   "source": [
    "import matplotlib.pyplot as plt\n",
    "maxes=[]\n",
    "means=[]\n",
    "mins=[]\n",
    "lois = [losses[ys==i] for i in range(10)]\n",
    "for i in range(10):\n",
    "    loi = lois[i]\n",
    "    counts, bins = np.histogram(loi)\n",
    "    plt.hist(bins[:-1], bins, weights=counts)\n",
    "    plt.axvline(thres, c='r')\n",
    "    plt.tight_layout()\n",
    "    plt.show()\n",
    "    if i==0:\n",
    "        print('[Normal]')\n",
    "    else:\n",
    "        print('[Anomaly %d]'%i)\n",
    "    maxes.append(loi.max())\n",
    "    means.append(loi.mean())\n",
    "    mins.append(loi.min())\n",
    "    print('Max : %.4f\\tMean : %.4f\\tMin : %.4f\\n'%(maxes[-1], means[-1], mins[-1]))\n",
    "    \n",
    "plt.boxplot(lois)\n",
    "plt.axhline(thres, c='r')\n",
    "plt.show()"
   ]
  },
  {
   "cell_type": "code",
   "execution_count": 19,
   "id": "negative-atlanta",
   "metadata": {},
   "outputs": [
    {
     "data": {
      "image/png": "[encoded data removed]",
      "text/plain": [
       "<Figure size 432x288 with 1 Axes>"
      ]
     },
     "metadata": {
      "needs_background": "light"
     },
     "output_type": "display_data"
    },
    {
     "data": {
      "image/png": "[encoded data removed]",
      "text/plain": [
       "<Figure size 432x288 with 1 Axes>"
      ]
     },
     "metadata": {
      "needs_background": "light"
     },
     "output_type": "display_data"
    },
    {
     "data": {
      "image/png": "[encoded data removed]",
      "text/plain": [
       "<Figure size 432x288 with 1 Axes>"
      ]
     },
     "metadata": {
      "needs_background": "light"
     },
     "output_type": "display_data"
    },
    {
     "data": {
      "image/png": "[encoded data removed]",
      "text/plain": [
       "<Figure size 432x288 with 1 Axes>"
      ]
     },
     "metadata": {
      "needs_background": "light"
     },
     "output_type": "display_data"
    },
    {
     "data": {
      "image/png": "[encoded data removed]",
      "text/plain": [
       "<Figure size 432x288 with 1 Axes>"
      ]
     },
     "metadata": {
      "needs_background": "light"
     },
     "output_type": "display_data"
    },
    {
     "data": {
      "image/png": "[encoded data removed]",
      "text/plain": [
       "<Figure size 432x288 with 1 Axes>"
      ]
     },
     "metadata": {
      "needs_background": "light"
     },
     "output_type": "display_data"
    },
    {
     "data": {
      "image/png": "[encoded data removed]",
      "text/plain": [
       "<Figure size 432x288 with 1 Axes>"
      ]
     },
     "metadata": {
      "needs_background": "light"
     },
     "output_type": "display_data"
    },
    {
     "data": {
      "image/png": "[encoded data removed]",
      "text/plain": [
       "<Figure size 432x288 with 1 Axes>"
      ]
     },
     "metadata": {
      "needs_background": "light"
     },
     "output_type": "display_data"
    },
    {
     "data": {
      "image/png": "[encoded data removed]",
      "text/plain": [
       "<Figure size 432x288 with 1 Axes>"
      ]
     },
     "metadata": {
      "needs_background": "light"
     },
     "output_type": "display_data"
    }
   ],
   "source": [
    "for i in range(9):\n",
    "    plt.boxplot([lois[0],lois[i+1]])\n",
    "    plt.axhline(thres, c='r')\n",
    "    plt.show()"
   ]
  },
  {
   "cell_type": "code",
   "execution_count": 20,
   "id": "talented-brisbane",
   "metadata": {},
   "outputs": [
    {
     "data": {
      "image/png": "[encoded data removed]",
      "text/plain": [
       "<Figure size 432x288 with 1 Axes>"
      ]
     },
     "metadata": {
      "needs_background": "light"
     },
     "output_type": "display_data"
    },
    {
     "name": "stdout",
     "output_type": "stream",
     "text": [
      "Thres : 2.7637e+00,\tFPR : 0.0000,\tTPR : 0.0000\n",
      "Thres : 1.7637e+00,\tFPR : 0.0000,\tTPR : 0.0010\n",
      "Thres : 3.5725e-01,\tFPR : 0.0000,\tTPR : 0.6082\n",
      "Thres : 3.5640e-01,\tFPR : 0.0010,\tTPR : 0.6082\n",
      "Thres : 2.5007e-01,\tFPR : 0.0010,\tTPR : 0.7939\n",
      "Thres : 2.4805e-01,\tFPR : 0.0020,\tTPR : 0.7939\n",
      "Thres : 1.7865e-01,\tFPR : 0.0020,\tTPR : 0.8694\n",
      "Thres : 1.7844e-01,\tFPR : 0.0031,\tTPR : 0.8694\n",
      "Thres : 1.6154e-01,\tFPR : 0.0031,\tTPR : 0.8878\n",
      "Thres : 1.5878e-01,\tFPR : 0.0041,\tTPR : 0.8878\n",
      "Thres : 1.1760e-01,\tFPR : 0.0041,\tTPR : 0.9133\n",
      "Thres : 1.1673e-01,\tFPR : 0.0051,\tTPR : 0.9133\n",
      "Thres : 1.1170e-01,\tFPR : 0.0051,\tTPR : 0.9224\n",
      "Thres : 1.1085e-01,\tFPR : 0.0061,\tTPR : 0.9224\n",
      "Thres : 9.6038e-02,\tFPR : 0.0061,\tTPR : 0.9286\n",
      "Thres : 9.3676e-02,\tFPR : 0.0071,\tTPR : 0.9286\n",
      "Thres : 9.1211e-02,\tFPR : 0.0071,\tTPR : 0.9306\n",
      "Thres : 8.7393e-02,\tFPR : 0.0082,\tTPR : 0.9306\n",
      "Thres : 8.5870e-02,\tFPR : 0.0082,\tTPR : 0.9316\n",
      "Thres : 8.2059e-02,\tFPR : 0.0092,\tTPR : 0.9316\n",
      "Thres : 7.8652e-02,\tFPR : 0.0092,\tTPR : 0.9378\n",
      "Thres : 7.7838e-02,\tFPR : 0.0102,\tTPR : 0.9378\n",
      "Thres : 7.3942e-02,\tFPR : 0.0102,\tTPR : 0.9449\n",
      "Thres : 7.3229e-02,\tFPR : 0.0112,\tTPR : 0.9449\n",
      "Thres : 6.7668e-02,\tFPR : 0.0112,\tTPR : 0.9480\n",
      "Thres : 6.7192e-02,\tFPR : 0.0122,\tTPR : 0.9480\n",
      "Thres : 6.6168e-02,\tFPR : 0.0122,\tTPR : 0.9500\n",
      "Thres : 6.4592e-02,\tFPR : 0.0143,\tTPR : 0.9500\n",
      "Thres : 6.3416e-02,\tFPR : 0.0143,\tTPR : 0.9520\n",
      "Thres : 5.3836e-02,\tFPR : 0.0184,\tTPR : 0.9520\n",
      "Thres : 5.3601e-02,\tFPR : 0.0184,\tTPR : 0.9531\n",
      "Thres : 5.2937e-02,\tFPR : 0.0194,\tTPR : 0.9531\n",
      "Thres : 5.1512e-02,\tFPR : 0.0194,\tTPR : 0.9551\n",
      "Thres : 4.5904e-02,\tFPR : 0.0224,\tTPR : 0.9551\n",
      "Thres : 4.4683e-02,\tFPR : 0.0224,\tTPR : 0.9582\n",
      "Thres : 4.2830e-02,\tFPR : 0.0235,\tTPR : 0.9582\n",
      "Thres : 3.8698e-02,\tFPR : 0.0235,\tTPR : 0.9602\n",
      "Thres : 3.5677e-02,\tFPR : 0.0265,\tTPR : 0.9602\n",
      "Thres : 3.4622e-02,\tFPR : 0.0265,\tTPR : 0.9612\n",
      "Thres : 3.3285e-02,\tFPR : 0.0276,\tTPR : 0.9612\n",
      "Thres : 3.0791e-02,\tFPR : 0.0276,\tTPR : 0.9643\n",
      "Thres : 2.6351e-02,\tFPR : 0.0296,\tTPR : 0.9643\n",
      "Thres : 2.6074e-02,\tFPR : 0.0296,\tTPR : 0.9653\n",
      "Thres : 2.5749e-02,\tFPR : 0.0306,\tTPR : 0.9653\n",
      "Thres : 2.4735e-02,\tFPR : 0.0306,\tTPR : 0.9673\n",
      "Thres : 2.4075e-02,\tFPR : 0.0327,\tTPR : 0.9673\n",
      "Thres : 2.3236e-02,\tFPR : 0.0327,\tTPR : 0.9684\n",
      "Thres : 2.0817e-02,\tFPR : 0.0367,\tTPR : 0.9684\n",
      "Thres : 2.0492e-02,\tFPR : 0.0367,\tTPR : 0.9694\n",
      "Thres : 2.0171e-02,\tFPR : 0.0378,\tTPR : 0.9694\n",
      "Thres : 1.6792e-02,\tFPR : 0.0378,\tTPR : 0.9714\n",
      "Thres : 1.6211e-02,\tFPR : 0.0388,\tTPR : 0.9714\n",
      "Thres : 1.5133e-02,\tFPR : 0.0388,\tTPR : 0.9724\n",
      "Thres : 1.4515e-02,\tFPR : 0.0408,\tTPR : 0.9724\n",
      "Thres : 1.4509e-02,\tFPR : 0.0408,\tTPR : 0.9735\n",
      "Thres : 1.2836e-02,\tFPR : 0.0429,\tTPR : 0.9735\n",
      "Thres : 1.2708e-02,\tFPR : 0.0429,\tTPR : 0.9745\n",
      "Thres : 1.1403e-02,\tFPR : 0.0459,\tTPR : 0.9745\n",
      "Thres : 1.1347e-02,\tFPR : 0.0459,\tTPR : 0.9755\n",
      "Thres : 1.0316e-02,\tFPR : 0.0510,\tTPR : 0.9755\n",
      "Thres : 9.9741e-03,\tFPR : 0.0510,\tTPR : 0.9765\n",
      "Thres : 8.9390e-03,\tFPR : 0.0551,\tTPR : 0.9765\n",
      "Thres : 8.5242e-03,\tFPR : 0.0551,\tTPR : 0.9776\n",
      "Thres : 5.3591e-03,\tFPR : 0.0633,\tTPR : 0.9776\n",
      "Thres : 5.2715e-03,\tFPR : 0.0633,\tTPR : 0.9796\n",
      "Thres : 4.4023e-03,\tFPR : 0.0643,\tTPR : 0.9796\n",
      "Thres : 4.2415e-03,\tFPR : 0.0643,\tTPR : 0.9806\n",
      "Thres : 3.9169e-03,\tFPR : 0.0673,\tTPR : 0.9806\n",
      "Thres : 3.5914e-03,\tFPR : 0.0673,\tTPR : 0.9827\n",
      "Thres : 3.0609e-03,\tFPR : 0.0714,\tTPR : 0.9827\n",
      "Thres : 3.0434e-03,\tFPR : 0.0714,\tTPR : 0.9837\n",
      "Thres : 2.8543e-03,\tFPR : 0.0735,\tTPR : 0.9837\n",
      "Thres : 2.7637e-03,\tFPR : 0.0735,\tTPR : 0.9847\n",
      "Thres : 2.7144e-03,\tFPR : 0.0776,\tTPR : 0.9847\n",
      "Thres : 2.6792e-03,\tFPR : 0.0776,\tTPR : 0.9857\n",
      "Thres : 2.0640e-03,\tFPR : 0.1000,\tTPR : 0.9857\n",
      "Thres : 2.0327e-03,\tFPR : 0.1000,\tTPR : 0.9867\n",
      "Thres : 1.8527e-03,\tFPR : 0.1153,\tTPR : 0.9867\n",
      "Thres : 1.8432e-03,\tFPR : 0.1153,\tTPR : 0.9878\n",
      "Thres : 1.5197e-03,\tFPR : 0.1429,\tTPR : 0.9878\n",
      "Thres : 1.5168e-03,\tFPR : 0.1429,\tTPR : 0.9888\n",
      "Thres : 1.2504e-03,\tFPR : 0.1929,\tTPR : 0.9888\n",
      "Thres : 1.2466e-03,\tFPR : 0.1929,\tTPR : 0.9898\n",
      "Thres : 1.2036e-03,\tFPR : 0.2010,\tTPR : 0.9898\n",
      "Thres : 1.1974e-03,\tFPR : 0.2010,\tTPR : 0.9908\n",
      "Thres : 1.1231e-03,\tFPR : 0.2204,\tTPR : 0.9908\n",
      "Thres : 1.1230e-03,\tFPR : 0.2204,\tTPR : 0.9918\n",
      "Thres : 1.0259e-03,\tFPR : 0.2480,\tTPR : 0.9918\n",
      "Thres : 1.0246e-03,\tFPR : 0.2480,\tTPR : 0.9929\n",
      "Thres : 8.8022e-04,\tFPR : 0.2867,\tTPR : 0.9929\n",
      "Thres : 8.7635e-04,\tFPR : 0.2867,\tTPR : 0.9939\n",
      "Thres : 8.3705e-04,\tFPR : 0.2929,\tTPR : 0.9939\n",
      "Thres : 8.2874e-04,\tFPR : 0.2929,\tTPR : 0.9949\n",
      "Thres : 2.9111e-04,\tFPR : 0.5439,\tTPR : 0.9949\n",
      "Thres : 2.9039e-04,\tFPR : 0.5439,\tTPR : 0.9959\n",
      "Thres : 2.0225e-04,\tFPR : 0.6194,\tTPR : 0.9959\n",
      "Thres : 2.0025e-04,\tFPR : 0.6194,\tTPR : 0.9969\n",
      "Thres : 1.6441e-04,\tFPR : 0.6520,\tTPR : 0.9969\n",
      "Thres : 1.6188e-04,\tFPR : 0.6520,\tTPR : 0.9980\n",
      "Thres : 3.4461e-05,\tFPR : 0.8459,\tTPR : 0.9980\n",
      "Thres : 3.4443e-05,\tFPR : 0.8459,\tTPR : 0.9990\n",
      "Thres : 3.5271e-06,\tFPR : 0.9724,\tTPR : 0.9990\n",
      "Thres : 3.5233e-06,\tFPR : 0.9724,\tTPR : 1.0000\n",
      "Thres : 2.5533e-06,\tFPR : 1.0000,\tTPR : 1.0000\n"
     ]
    }
   ],
   "source": [
    "fpr, tpr, thresholds = roc_curve([0]*losses[ys==0].shape[0]+[1]*losses[ys!=0].shape[0], losses.flatten())\n",
    "\n",
    "plot_roc_curve(fpr,tpr)\n",
    "for i in range(len(fpr)):\n",
    "    print(\"Thres : %.4e,\\tFPR : %.4f,\\tTPR : %.4f\"%(thresholds[i],fpr[i],tpr[i]))\n",
    "#print(fpr,tpr,thres)"
   ]
  },
  {
   "cell_type": "code",
   "execution_count": 21,
   "id": "impressive-calculation",
   "metadata": {},
   "outputs": [
    {
     "name": "stdout",
     "output_type": "stream",
     "text": [
      "TP :   922,\tFP :    22\n",
      "FN :    58,\tTN :   958\n",
      "Accuracy : 0.96,\tPrecision : 0.98,\tRecall : 0.94\n"
     ]
    }
   ],
   "source": [
    "THRESHOLD = 7.4378e-03\n",
    "TP = len(losses_p[losses_p<THRESHOLD])\n",
    "FN = len(losses_p[losses_p>THRESHOLD])\n",
    "TN = len(losses_n[losses_n>THRESHOLD])\n",
    "FP = len(losses_n[losses_n<THRESHOLD])\n",
    "print('TP : %5d,\\tFP : %5d'%(TP, FP))\n",
    "print('FN : %5d,\\tTN : %5d'%(FN ,TN))\n",
    "print('Accuracy : %.2f,\\tPrecision : %.2f,\\tRecall : %.2f'%((TP+TN)/(TP+TN+FP+FN), (TP)/(TP+FP+1e-10), (TP)/(TP+FN)))"
   ]
  },
  {
   "cell_type": "code",
   "execution_count": null,
   "id": "offshore-transcription",
   "metadata": {},
   "outputs": [],
   "source": []
  },
  {
   "cell_type": "code",
   "execution_count": null,
   "id": "included-qualification",
   "metadata": {},
   "outputs": [],
   "source": []
  }
 ],
 "metadata": {
  "kernelspec": {
   "display_name": "Python 3",
   "language": "python",
   "name": "python3"
  },
  "language_info": {
   "codemirror_mode": {
    "name": "ipython",
    "version": 3
   },
   "file_extension": ".py",
   "mimetype": "text/x-python",
   "name": "python",
   "nbconvert_exporter": "python",
   "pygments_lexer": "ipython3",
   "version": "3.8.3"
  }
 },
 "nbformat": 4,
 "nbformat_minor": 5
}
