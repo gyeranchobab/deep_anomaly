{
 "cells": [
  {
   "cell_type": "code",
   "execution_count": 1,
   "id": "framed-substitute",
   "metadata": {},
   "outputs": [],
   "source": [
    "from src.skeleton import BaseModel"
   ]
  },
  {
   "cell_type": "code",
   "execution_count": 2,
   "id": "insured-obligation",
   "metadata": {},
   "outputs": [],
   "source": [
    "from torchvision.datasets import MNIST\n",
    "import torchvision.transforms as transforms\n",
    "import torch"
   ]
  },
  {
   "cell_type": "code",
   "execution_count": 3,
   "id": "particular-necessity",
   "metadata": {},
   "outputs": [
    {
     "name": "stdout",
     "output_type": "stream",
     "text": [
      "60000 10000\n"
     ]
    }
   ],
   "source": [
    "mnist_train_dataset = MNIST('./datasets', download=True, train=True, transform=transforms.ToTensor())\n",
    "mnist_test_dataset = MNIST('./datasets', download=True, train=False, transform=transforms.ToTensor())\n",
    "print(len(mnist_train_dataset), len(mnist_test_dataset))"
   ]
  },
  {
   "cell_type": "code",
   "execution_count": 4,
   "id": "collect-marijuana",
   "metadata": {},
   "outputs": [
    {
     "name": "stdout",
     "output_type": "stream",
     "text": [
      "torch.Size([5923, 28, 28]) torch.Size([1000, 28, 28]) torch.Size([980, 28, 28]) torch.Size([980, 28, 28])\n"
     ]
    }
   ],
   "source": [
    "#print(mnist_train_dataset)\n",
    "#print(mnist_train_dataset.targets.shape)\n",
    "#print(mnist_train_dataset.data.shape)\n",
    "N_NEGATIVE = 1000\n",
    "P=0.2\n",
    "positive_set_train = mnist_train_dataset.data[mnist_train_dataset.targets==0]\n",
    "negative_set_train = mnist_train_dataset.data[mnist_train_dataset.targets!=0][:N_NEGATIVE]\n",
    "positive_set_test = mnist_test_dataset.data[mnist_test_dataset.targets==0]\n",
    "negative_set_test = mnist_test_dataset.data[mnist_test_dataset.targets!=0][:positive_set_test.shape[0]]\n",
    "print(positive_set_train.shape, negative_set_train.shape,positive_set_test.shape,negative_set_test.shape)"
   ]
  },
  {
   "cell_type": "code",
   "execution_count": 5,
   "id": "impressive-edition",
   "metadata": {},
   "outputs": [
    {
     "name": "stdout",
     "output_type": "stream",
     "text": [
      "6923 1960\n",
      "5923 1000 980 980\n"
     ]
    }
   ],
   "source": [
    "from torch.utils.data import Dataset, DataLoader, ConcatDataset\n",
    "import numpy as np\n",
    "class MNIST_Anomaly(Dataset):\n",
    "    def __init__(self, dataset, y, p = None):\n",
    "        self.dataset = dataset\n",
    "        self.y = y\n",
    "        if p is None:\n",
    "            self.mask = [True] * len(dataset)\n",
    "        else:\n",
    "            self.mask = np.random.choice(len(dataset), len(dataset), replace=False) < p*len(dataset)\n",
    "    def __len__(self):\n",
    "        return len(self.dataset)\n",
    "    def __getitem__(self, index):\n",
    "        X = self.dataset[index]\n",
    "        y = self.y[index]\n",
    "        M = self.mask[index]\n",
    "        return X,y,M\n",
    "    \n",
    "dataset_p_train = MNIST_Anomaly(positive_set_train, [torch.tensor(0.0)]*len(positive_set_train), p=P)\n",
    "dataset_n_train = MNIST_Anomaly(negative_set_train, mnist_train_dataset.targets[mnist_train_dataset.targets!=0], p=P)\n",
    "dataset_p_test = MNIST_Anomaly(positive_set_test, [torch.tensor(0.0)]*len(positive_set_test))\n",
    "dataset_n_test = MNIST_Anomaly(negative_set_test, mnist_test_dataset.targets[mnist_test_dataset.targets!=0])\n",
    "dataset_train = ConcatDataset([dataset_p_train, dataset_n_train])\n",
    "dataset_test = ConcatDataset([dataset_p_test, dataset_n_test])\n",
    "print(len(dataset_train), len(dataset_test))\n",
    "print(len(dataset_p_train), len(dataset_n_train), len(dataset_p_test), len(dataset_n_test))"
   ]
  },
  {
   "cell_type": "code",
   "execution_count": 6,
   "id": "convinced-samba",
   "metadata": {},
   "outputs": [],
   "source": [
    "BATCH = 256\n",
    "EPOCH = 100\n",
    "LR = 1e-3\n",
    "LAMBDA = 1e-2\n",
    "ETA = 1.0"
   ]
  },
  {
   "cell_type": "code",
   "execution_count": 7,
   "id": "accomplished-projection",
   "metadata": {},
   "outputs": [],
   "source": [
    "train_loader = DataLoader(dataset_train, batch_size=BATCH, shuffle=True)\n",
    "test_loader = DataLoader(dataset_test, batch_size=BATCH)"
   ]
  },
  {
   "cell_type": "code",
   "execution_count": 8,
   "id": "portable-debate",
   "metadata": {},
   "outputs": [],
   "source": [
    "import torch.nn as nn\n",
    "\n",
    "HDIM = 64\n",
    "\n",
    "def init_c(model, train_loader, eps=0.1):\n",
    "    n = 0\n",
    "    c = torch.zeros(HDIM)\n",
    "    \n",
    "    model.eval()\n",
    "    \n",
    "    for batch, label, mask in train_loader:\n",
    "        batch = model.preprocess(batch, label, mask)\n",
    "        with torch.no_grad():\n",
    "            pred = model(batch, label, mask)\n",
    "        n += pred.shape[0]\n",
    "        c += torch.sum(pred, dim=0)\n",
    "    c /= n\n",
    "    \n",
    "    c[(abs(c) < eps) & (c<0)] = -eps\n",
    "    c[(abs(c) < eps) & (c>0)] = eps\n",
    "    \n",
    "    return c.unsqueeze(0)\n",
    "\n",
    "\n",
    "class MyModel(BaseModel):\n",
    "    def __init__(self, in_dim, c=None, train_loader=None, shift=0.0, scale=1.0, model_name='my_model'):\n",
    "        super().__init__(model_name=model_name)\n",
    "        self.enc1 = nn.Linear(in_dim, 256)\n",
    "        self.enc2 = nn.Linear(256,128)\n",
    "        self.enc3 = nn.Linear(128,HDIM)\n",
    "        self.relu = nn.ReLU()\n",
    "        self.shift = shift\n",
    "        self.scale = scale\n",
    "        if c is None:\n",
    "            self.c = init_c(self, train_loader)\n",
    "        else:\n",
    "            self.c = c\n",
    "        \n",
    "        self.c = self.c.to(device='cuda')\n",
    "        \n",
    "    def forward(self, batch, label=None, mask=None):\n",
    "        x = self.enc1(batch)\n",
    "        x = self.relu(x)\n",
    "        x = self.enc2(x)\n",
    "        x = self.relu(x)\n",
    "        x = self.enc3(x)\n",
    "        return x\n",
    "    \n",
    "    def preprocess(self, batch, label=None, mask=None):\n",
    "        batch = (batch-self.shift) / self.scale\n",
    "        return batch.view(batch.size(0),-1)\n",
    "    \n",
    "    def criterion(self, pred=None, batch=None, label=None, mask=None):\n",
    "        #print(pred.shape, self.c.shape)\n",
    "        #print(pred[~mask].shape, (~mask).sum(), (mask&(label==0)).sum(), (mask&(label!=0)).sum())\n",
    "        loss = nn.MSELoss(reduction='none')(pred[~mask], self.c.repeat((~mask).sum(),1)).mean(-1)\n",
    "        loss_positive = nn.MSELoss(reduction='none')(pred[mask&(label==0)], self.c.repeat((mask&(label==0)).sum(),1)).mean(-1)\n",
    "        loss_negative = nn.MSELoss(reduction='none')(pred[mask&(label!=0)], self.c.repeat((mask&(label!=0)).sum(),1)).mean(-1)\n",
    "        loss = (loss.sum() + loss_positive.sum() + (1/(loss_negative+1e-10)).sum()) / (loss.shape[0]+loss_positive.shape[0]+loss_negative.shape[0])\n",
    "        return loss\n"
   ]
  },
  {
   "cell_type": "code",
   "execution_count": 9,
   "id": "virtual-tooth",
   "metadata": {},
   "outputs": [
    {
     "data": {
      "text/plain": [
       "MyModel(\n",
       "  (enc1): Linear(in_features=784, out_features=256, bias=True)\n",
       "  (enc2): Linear(in_features=256, out_features=128, bias=True)\n",
       "  (enc3): Linear(in_features=128, out_features=64, bias=True)\n",
       "  (relu): ReLU()\n",
       ")"
      ]
     },
     "execution_count": 9,
     "metadata": {},
     "output_type": "execute_result"
    }
   ],
   "source": [
    "model = MyModel(28*28, shift=positive_set_train.min(), scale=(positive_set_train.max()-positive_set_train.min()+1e-10), train_loader=train_loader)\n",
    "model.cuda()"
   ]
  },
  {
   "cell_type": "code",
   "execution_count": 10,
   "id": "practical-scale",
   "metadata": {},
   "outputs": [],
   "source": [
    "import torch.optim as optim\n",
    "optimizer = optim.Adam(model.parameters(), LR, weight_decay=LAMBDA)"
   ]
  },
  {
   "cell_type": "code",
   "execution_count": 11,
   "id": "worst-platinum",
   "metadata": {},
   "outputs": [
    {
     "name": "stdout",
     "output_type": "stream",
     "text": [
      "(0.41s) [Epoch 1]\n",
      "\tTrain Loss : 8.5654e-01\tTrain Score : 0.0000\n",
      "\tEval Loss : 3.2536e+00\tEval Score : 0.0000\n",
      "(0.13s) [Epoch 11]\n",
      "\tTrain Loss : 1.3217e-01\tTrain Score : 0.0000\n",
      "\tEval Loss : 3.4655e+00\tEval Score : 0.0000\n",
      "(0.13s) [Epoch 21]\n",
      "\tTrain Loss : 1.1978e-01\tTrain Score : 0.0000\n",
      "\tEval Loss : 8.1833e+00\tEval Score : 0.0000\n",
      "(0.13s) [Epoch 31]\n",
      "\tTrain Loss : 1.2420e-01\tTrain Score : 0.0000\n",
      "\tEval Loss : 6.7463e+00\tEval Score : 0.0000\n",
      "(0.13s) [Epoch 41]\n",
      "\tTrain Loss : 1.1803e-01\tTrain Score : 0.0000\n",
      "\tEval Loss : 4.9947e+00\tEval Score : 0.0000\n",
      "(0.12s) [Epoch 51]\n",
      "\tTrain Loss : 1.2255e-01\tTrain Score : 0.0000\n",
      "\tEval Loss : 4.5773e+00\tEval Score : 0.0000\n",
      "(0.12s) [Epoch 61]\n",
      "\tTrain Loss : 1.2012e-01\tTrain Score : 0.0000\n",
      "\tEval Loss : 6.0617e+00\tEval Score : 0.0000\n",
      "(0.14s) [Epoch 71]\n",
      "\tTrain Loss : 1.1952e-01\tTrain Score : 0.0000\n",
      "\tEval Loss : 3.2745e+00\tEval Score : 0.0000\n",
      "(0.13s) [Epoch 81]\n",
      "\tTrain Loss : 1.1964e-01\tTrain Score : 0.0000\n",
      "\tEval Loss : 1.3202e+01\tEval Score : 0.0000\n",
      "(0.13s) [Epoch 91]\n",
      "\tTrain Loss : 1.1309e-01\tTrain Score : 0.0000\n",
      "\tEval Loss : 1.8646e+01\tEval Score : 0.0000\n"
     ]
    }
   ],
   "source": [
    "model.train_model(train_loader, test_loader, EPOCH, optimizer, report_intv=10)"
   ]
  },
  {
   "cell_type": "code",
   "execution_count": 12,
   "id": "weighted-belief",
   "metadata": {},
   "outputs": [],
   "source": [
    "def run_inference(model, dataloader):\n",
    "    model.eval()\n",
    "    losses = []\n",
    "    ys = []\n",
    "    criterion = nn.MSELoss(reduction='none')\n",
    "    for batch, label, mask in dataloader:\n",
    "        batch = batch.cuda().to(dtype=torch.float)\n",
    "        batch = model.preprocess(batch)\n",
    "        with torch.no_grad():\n",
    "            pred = model.forward(batch)\n",
    "        loss = criterion(pred, model.c.repeat(pred.shape[0],1)).view(pred.shape[0],-1).mean(-1)\n",
    "        losses.append(loss.cpu())\n",
    "        label[~mask] = -1\n",
    "        ys.append(label)\n",
    "    losses = torch.cat(losses, 0)\n",
    "    ys = torch.cat(ys, 0)\n",
    "    return losses, ys\n",
    "\n",
    "def find_thres(losses, sigma=3):\n",
    "    mean = losses.mean()\n",
    "    std = losses.std()\n",
    "    thres = mean+std*sigma\n",
    "    return thres.item()\n"
   ]
  },
  {
   "cell_type": "code",
   "execution_count": 13,
   "id": "regulation-resistance",
   "metadata": {},
   "outputs": [
    {
     "name": "stdout",
     "output_type": "stream",
     "text": [
      "torch.Size([6923])\n"
     ]
    }
   ],
   "source": [
    "train_loader_noshuffle =  DataLoader(dataset_train, batch_size=BATCH, shuffle=False)\n",
    "losses_train, ys_train = run_inference(model, train_loader_noshuffle)\n",
    "\n",
    "print(losses_train.shape)"
   ]
  },
  {
   "cell_type": "code",
   "execution_count": 14,
   "id": "primary-partnership",
   "metadata": {},
   "outputs": [
    {
     "name": "stdout",
     "output_type": "stream",
     "text": [
      "tensor(1185) tensor(200) tensor(5538)\n"
     ]
    },
    {
     "data": {
      "image/png": "[encoded data removed]",
      "text/plain": [
       "<Figure size 432x288 with 1 Axes>"
      ]
     },
     "metadata": {
      "needs_background": "light"
     },
     "output_type": "display_data"
    },
    {
     "name": "stdout",
     "output_type": "stream",
     "text": [
      "Thres : 2.2779e+00,\tFPR : 0.0000,\tTPR : 0.0000\n",
      "Thres : 1.2779e+00,\tFPR : 0.0000,\tTPR : 0.0050\n",
      "Thres : 5.3486e-01,\tFPR : 0.0000,\tTPR : 0.3450\n",
      "Thres : 5.3051e-01,\tFPR : 0.0008,\tTPR : 0.3450\n",
      "Thres : 4.5602e-01,\tFPR : 0.0008,\tTPR : 0.5500\n",
      "Thres : 4.5572e-01,\tFPR : 0.0017,\tTPR : 0.5500\n",
      "Thres : 4.1586e-01,\tFPR : 0.0017,\tTPR : 0.6650\n",
      "Thres : 4.1373e-01,\tFPR : 0.0025,\tTPR : 0.6650\n",
      "Thres : 2.8423e-01,\tFPR : 0.0025,\tTPR : 0.9600\n",
      "Thres : 2.8237e-01,\tFPR : 0.0034,\tTPR : 0.9600\n",
      "Thres : 2.4214e-01,\tFPR : 0.0034,\tTPR : 0.9900\n",
      "Thres : 2.4196e-01,\tFPR : 0.0042,\tTPR : 0.9900\n",
      "Thres : 2.3008e-01,\tFPR : 0.0042,\tTPR : 1.0000\n",
      "Thres : 1.0577e-06,\tFPR : 1.0000,\tTPR : 1.0000\n",
      "Best Thres : 2.3008e-01\n"
     ]
    }
   ],
   "source": [
    "from sklearn.metrics import roc_curve\n",
    "import matplotlib.pyplot as plt\n",
    "print((ys_train==0).sum(), (ys_train>0).sum(), (ys_train<0).sum())\n",
    "fpr, tpr, thresholds = roc_curve([0]*losses_train[ys_train==0].shape[0]+[1]*losses_train[ys_train>0].shape[0], losses_train[ys_train>=0].flatten())\n",
    "def plot_roc_curve(fper, tper):\n",
    "    plt.plot(fper, tper, color='red', label='ROC')\n",
    "    plt.plot([0, 1], [0, 1], color='green', linestyle='--')\n",
    "    plt.xlabel('False Positive Rate')\n",
    "    plt.ylabel('True Positive Rate')\n",
    "    plt.title('Receiver Operating Characteristic Curve')\n",
    "    plt.legend()\n",
    "    plt.show()\n",
    "plot_roc_curve(fpr,tpr)\n",
    "thres = 0.0\n",
    "best_score = 0.0\n",
    "for i in range(len(fpr)):\n",
    "    score = tpr[i]+1-fpr[i]\n",
    "    if score > best_score:\n",
    "        best_score = score\n",
    "        thres = thresholds[i]\n",
    "    print(\"Thres : %.4e,\\tFPR : %.4f,\\tTPR : %.4f\"%(thresholds[i],fpr[i],tpr[i]))\n",
    "#print(fpr,tpr,thres)\n",
    "print('Best Thres : %.4e'%thres)"
   ]
  },
  {
   "cell_type": "code",
   "execution_count": 15,
   "id": "sudden-australia",
   "metadata": {},
   "outputs": [
    {
     "name": "stdout",
     "output_type": "stream",
     "text": [
      "torch.Size([980]) torch.Size([980])\n"
     ]
    }
   ],
   "source": [
    "losses, ys = run_inference(model, test_loader)\n",
    "\n",
    "losses_p = losses[ys==0]\n",
    "losses_n = losses[ys!=0]\n",
    "print(losses_p.shape, losses_n.shape)"
   ]
  },
  {
   "cell_type": "code",
   "execution_count": 16,
   "id": "desperate-infrared",
   "metadata": {},
   "outputs": [
    {
     "name": "stdout",
     "output_type": "stream",
     "text": [
      "TP :   979,\tFP :   183\n",
      "FN :     1,\tTN :   797\n",
      "Accuracy : 0.91,\tPrecision : 0.84,\tRecall : 1.00\n"
     ]
    }
   ],
   "source": [
    "TP = len(losses_p[losses_p<thres])\n",
    "FN = len(losses_p[losses_p>thres])\n",
    "TN = len(losses_n[losses_n>thres])\n",
    "FP = len(losses_n[losses_n<thres])\n",
    "print('TP : %5d,\\tFP : %5d'%(TP, FP))\n",
    "print('FN : %5d,\\tTN : %5d'%(FN ,TN))\n",
    "print('Accuracy : %.2f,\\tPrecision : %.2f,\\tRecall : %.2f'%((TP+TN)/(TP+TN+FP+FN), (TP)/(TP+FP+1e-10), (TP)/(TP+FN)))"
   ]
  },
  {
   "cell_type": "code",
   "execution_count": 17,
   "id": "wrapped-share",
   "metadata": {},
   "outputs": [
    {
     "data": {
      "image/png": "[encoded data removed]",
      "text/plain": [
       "<Figure size 432x288 with 1 Axes>"
      ]
     },
     "metadata": {
      "needs_background": "light"
     },
     "output_type": "display_data"
    },
    {
     "name": "stdout",
     "output_type": "stream",
     "text": [
      "[Normal]\n",
      "Max : 0.2689\tMean : 0.0031\tMin : 0.0000\n",
      "\n"
     ]
    },
    {
     "data": {
      "image/png": "[encoded data removed]",
      "text/plain": [
       "<Figure size 432x288 with 1 Axes>"
      ]
     },
     "metadata": {
      "needs_background": "light"
     },
     "output_type": "display_data"
    },
    {
     "name": "stdout",
     "output_type": "stream",
     "text": [
      "[Anomaly 1]\n",
      "Max : 1.4231\tMean : 0.5238\tMin : 0.0682\n",
      "\n"
     ]
    },
    {
     "data": {
      "image/png": "[encoded data removed]",
      "text/plain": [
       "<Figure size 432x288 with 1 Axes>"
      ]
     },
     "metadata": {
      "needs_background": "light"
     },
     "output_type": "display_data"
    },
    {
     "name": "stdout",
     "output_type": "stream",
     "text": [
      "[Anomaly 2]\n",
      "Max : 1.1291\tMean : 0.3939\tMin : 0.0007\n",
      "\n"
     ]
    },
    {
     "data": {
      "image/png": "[encoded data removed]",
      "text/plain": [
       "<Figure size 432x288 with 1 Axes>"
      ]
     },
     "metadata": {
      "needs_background": "light"
     },
     "output_type": "display_data"
    },
    {
     "name": "stdout",
     "output_type": "stream",
     "text": [
      "[Anomaly 3]\n",
      "Max : 0.9667\tMean : 0.3969\tMin : 0.0106\n",
      "\n"
     ]
    },
    {
     "data": {
      "image/png": "[encoded data removed]",
      "text/plain": [
       "<Figure size 432x288 with 1 Axes>"
      ]
     },
     "metadata": {
      "needs_background": "light"
     },
     "output_type": "display_data"
    },
    {
     "name": "stdout",
     "output_type": "stream",
     "text": [
      "[Anomaly 4]\n",
      "Max : 1.2021\tMean : 0.4828\tMin : 0.0024\n",
      "\n"
     ]
    },
    {
     "data": {
      "image/png": "[encoded data removed]",
      "text/plain": [
       "<Figure size 432x288 with 1 Axes>"
      ]
     },
     "metadata": {
      "needs_background": "light"
     },
     "output_type": "display_data"
    },
    {
     "name": "stdout",
     "output_type": "stream",
     "text": [
      "[Anomaly 5]\n",
      "Max : 0.7098\tMean : 0.2817\tMin : 0.0008\n",
      "\n"
     ]
    },
    {
     "data": {
      "image/png": "[encoded data removed]",
      "text/plain": [
       "<Figure size 432x288 with 1 Axes>"
      ]
     },
     "metadata": {
      "needs_background": "light"
     },
     "output_type": "display_data"
    },
    {
     "name": "stdout",
     "output_type": "stream",
     "text": [
      "[Anomaly 6]\n",
      "Max : 0.9315\tMean : 0.3373\tMin : 0.0004\n",
      "\n"
     ]
    },
    {
     "data": {
      "image/png": "[encoded data removed]",
      "text/plain": [
       "<Figure size 432x288 with 1 Axes>"
      ]
     },
     "metadata": {
      "needs_background": "light"
     },
     "output_type": "display_data"
    },
    {
     "name": "stdout",
     "output_type": "stream",
     "text": [
      "[Anomaly 7]\n",
      "Max : 1.3423\tMean : 0.4956\tMin : 0.0014\n",
      "\n"
     ]
    },
    {
     "data": {
      "image/png": "[encoded data removed]",
      "text/plain": [
       "<Figure size 432x288 with 1 Axes>"
      ]
     },
     "metadata": {
      "needs_background": "light"
     },
     "output_type": "display_data"
    },
    {
     "name": "stdout",
     "output_type": "stream",
     "text": [
      "[Anomaly 8]\n",
      "Max : 1.5027\tMean : 0.4800\tMin : 0.0055\n",
      "\n"
     ]
    },
    {
     "data": {
      "image/png": "[encoded data removed]",
      "text/plain": [
       "<Figure size 432x288 with 1 Axes>"
      ]
     },
     "metadata": {
      "needs_background": "light"
     },
     "output_type": "display_data"
    },
    {
     "name": "stdout",
     "output_type": "stream",
     "text": [
      "[Anomaly 9]\n",
      "Max : 1.1013\tMean : 0.5130\tMin : 0.0758\n",
      "\n"
     ]
    },
    {
     "data": {
      "image/png": "[encoded data removed]",
      "text/plain": [
       "<Figure size 432x288 with 1 Axes>"
      ]
     },
     "metadata": {
      "needs_background": "light"
     },
     "output_type": "display_data"
    }
   ],
   "source": [
    "import matplotlib.pyplot as plt\n",
    "maxes=[]\n",
    "means=[]\n",
    "mins=[]\n",
    "lois = [losses[ys==i] for i in range(10)]\n",
    "for i in range(10):\n",
    "    loi = lois[i]\n",
    "    counts, bins = np.histogram(loi)\n",
    "    plt.hist(bins[:-1], bins, weights=counts)\n",
    "    plt.axvline(thres, c='r')\n",
    "    plt.tight_layout()\n",
    "    plt.show()\n",
    "    if i==0:\n",
    "        print('[Normal]')\n",
    "    else:\n",
    "        print('[Anomaly %d]'%i)\n",
    "    maxes.append(loi.max())\n",
    "    means.append(loi.mean())\n",
    "    mins.append(loi.min())\n",
    "    print('Max : %.4f\\tMean : %.4f\\tMin : %.4f\\n'%(maxes[-1], means[-1], mins[-1]))\n",
    "    \n",
    "plt.boxplot(lois)\n",
    "plt.axhline(thres, c='r')\n",
    "plt.show()"
   ]
  },
  {
   "cell_type": "code",
   "execution_count": 18,
   "id": "changing-disposal",
   "metadata": {},
   "outputs": [
    {
     "data": {
      "image/png": "[encoded data removed]",
      "text/plain": [
       "<Figure size 432x288 with 1 Axes>"
      ]
     },
     "metadata": {
      "needs_background": "light"
     },
     "output_type": "display_data"
    },
    {
     "data": {
      "image/png": "[encoded data removed]",
      "text/plain": [
       "<Figure size 432x288 with 1 Axes>"
      ]
     },
     "metadata": {
      "needs_background": "light"
     },
     "output_type": "display_data"
    },
    {
     "data": {
      "image/png": "[encoded data removed]",
      "text/plain": [
       "<Figure size 432x288 with 1 Axes>"
      ]
     },
     "metadata": {
      "needs_background": "light"
     },
     "output_type": "display_data"
    },
    {
     "data": {
      "image/png": "[encoded data removed]",
      "text/plain": [
       "<Figure size 432x288 with 1 Axes>"
      ]
     },
     "metadata": {
      "needs_background": "light"
     },
     "output_type": "display_data"
    },
    {
     "data": {
      "image/png": "[encoded data removed]",
      "text/plain": [
       "<Figure size 432x288 with 1 Axes>"
      ]
     },
     "metadata": {
      "needs_background": "light"
     },
     "output_type": "display_data"
    },
    {
     "data": {
      "image/png": "[encoded data removed]",
      "text/plain": [
       "<Figure size 432x288 with 1 Axes>"
      ]
     },
     "metadata": {
      "needs_background": "light"
     },
     "output_type": "display_data"
    },
    {
     "data": {
      "image/png": "[encoded data removed]",
      "text/plain": [
       "<Figure size 432x288 with 1 Axes>"
      ]
     },
     "metadata": {
      "needs_background": "light"
     },
     "output_type": "display_data"
    },
    {
     "data": {
      "image/png": "[encoded data removed]",
      "text/plain": [
       "<Figure size 432x288 with 1 Axes>"
      ]
     },
     "metadata": {
      "needs_background": "light"
     },
     "output_type": "display_data"
    },
    {
     "data": {
      "image/png": "[encoded data removed]",
      "text/plain": [
       "<Figure size 432x288 with 1 Axes>"
      ]
     },
     "metadata": {
      "needs_background": "light"
     },
     "output_type": "display_data"
    }
   ],
   "source": [
    "for i in range(9):\n",
    "    plt.boxplot([lois[0],lois[i+1]])\n",
    "    plt.axhline(thres, c='r')\n",
    "    plt.show()"
   ]
  },
  {
   "cell_type": "code",
   "execution_count": 19,
   "id": "national-mustang",
   "metadata": {},
   "outputs": [
    {
     "data": {
      "image/png": "[encoded data removed]",
      "text/plain": [
       "<Figure size 432x288 with 1 Axes>"
      ]
     },
     "metadata": {
      "needs_background": "light"
     },
     "output_type": "display_data"
    },
    {
     "name": "stdout",
     "output_type": "stream",
     "text": [
      "Thres : 2.5027e+00,\tFPR : 0.0000,\tTPR : 0.0000\n",
      "Thres : 1.5027e+00,\tFPR : 0.0000,\tTPR : 0.0010\n",
      "Thres : 2.6939e-01,\tFPR : 0.0000,\tTPR : 0.7602\n",
      "Thres : 2.6888e-01,\tFPR : 0.0010,\tTPR : 0.7602\n",
      "Thres : 1.3058e-01,\tFPR : 0.0010,\tTPR : 0.9286\n",
      "Thres : 1.3053e-01,\tFPR : 0.0020,\tTPR : 0.9286\n",
      "Thres : 1.2007e-01,\tFPR : 0.0020,\tTPR : 0.9337\n",
      "Thres : 1.1617e-01,\tFPR : 0.0031,\tTPR : 0.9337\n",
      "Thres : 1.0942e-01,\tFPR : 0.0031,\tTPR : 0.9378\n",
      "Thres : 1.0874e-01,\tFPR : 0.0041,\tTPR : 0.9378\n",
      "Thres : 1.0259e-01,\tFPR : 0.0041,\tTPR : 0.9408\n",
      "Thres : 1.0257e-01,\tFPR : 0.0051,\tTPR : 0.9408\n",
      "Thres : 8.9068e-02,\tFPR : 0.0051,\tTPR : 0.9500\n",
      "Thres : 8.8130e-02,\tFPR : 0.0061,\tTPR : 0.9500\n",
      "Thres : 8.0348e-02,\tFPR : 0.0061,\tTPR : 0.9612\n",
      "Thres : 7.7739e-02,\tFPR : 0.0082,\tTPR : 0.9612\n",
      "Thres : 6.8186e-02,\tFPR : 0.0082,\tTPR : 0.9684\n",
      "Thres : 6.6404e-02,\tFPR : 0.0112,\tTPR : 0.9684\n",
      "Thres : 5.3039e-02,\tFPR : 0.0112,\tTPR : 0.9714\n",
      "Thres : 5.1418e-02,\tFPR : 0.0122,\tTPR : 0.9714\n",
      "Thres : 5.0627e-02,\tFPR : 0.0122,\tTPR : 0.9724\n",
      "Thres : 4.6191e-02,\tFPR : 0.0153,\tTPR : 0.9724\n",
      "Thres : 4.3279e-02,\tFPR : 0.0153,\tTPR : 0.9735\n",
      "Thres : 4.2513e-02,\tFPR : 0.0163,\tTPR : 0.9735\n",
      "Thres : 3.8729e-02,\tFPR : 0.0163,\tTPR : 0.9745\n",
      "Thres : 3.7348e-02,\tFPR : 0.0184,\tTPR : 0.9745\n",
      "Thres : 3.6216e-02,\tFPR : 0.0184,\tTPR : 0.9776\n",
      "Thres : 3.4580e-02,\tFPR : 0.0204,\tTPR : 0.9776\n",
      "Thres : 3.2737e-02,\tFPR : 0.0204,\tTPR : 0.9796\n",
      "Thres : 3.0166e-02,\tFPR : 0.0214,\tTPR : 0.9796\n",
      "Thres : 2.9800e-02,\tFPR : 0.0214,\tTPR : 0.9806\n",
      "Thres : 2.9785e-02,\tFPR : 0.0224,\tTPR : 0.9806\n",
      "Thres : 2.9329e-02,\tFPR : 0.0224,\tTPR : 0.9816\n",
      "Thres : 2.2126e-02,\tFPR : 0.0286,\tTPR : 0.9816\n",
      "Thres : 2.1499e-02,\tFPR : 0.0286,\tTPR : 0.9827\n",
      "Thres : 1.5695e-02,\tFPR : 0.0398,\tTPR : 0.9827\n",
      "Thres : 1.5166e-02,\tFPR : 0.0398,\tTPR : 0.9837\n",
      "Thres : 1.3855e-02,\tFPR : 0.0459,\tTPR : 0.9837\n",
      "Thres : 1.2304e-02,\tFPR : 0.0459,\tTPR : 0.9847\n",
      "Thres : 1.1911e-02,\tFPR : 0.0480,\tTPR : 0.9847\n",
      "Thres : 1.1415e-02,\tFPR : 0.0480,\tTPR : 0.9857\n",
      "Thres : 1.1164e-02,\tFPR : 0.0500,\tTPR : 0.9857\n",
      "Thres : 1.0552e-02,\tFPR : 0.0500,\tTPR : 0.9867\n",
      "Thres : 8.8065e-03,\tFPR : 0.0582,\tTPR : 0.9867\n",
      "Thres : 8.7557e-03,\tFPR : 0.0582,\tTPR : 0.9878\n",
      "Thres : 5.4888e-03,\tFPR : 0.0724,\tTPR : 0.9878\n",
      "Thres : 5.4720e-03,\tFPR : 0.0724,\tTPR : 0.9888\n",
      "Thres : 5.1242e-03,\tFPR : 0.0735,\tTPR : 0.9888\n",
      "Thres : 5.0636e-03,\tFPR : 0.0735,\tTPR : 0.9898\n",
      "Thres : 3.5532e-03,\tFPR : 0.0878,\tTPR : 0.9898\n",
      "Thres : 3.5426e-03,\tFPR : 0.0878,\tTPR : 0.9908\n",
      "Thres : 2.3617e-03,\tFPR : 0.1398,\tTPR : 0.9908\n",
      "Thres : 2.3559e-03,\tFPR : 0.1398,\tTPR : 0.9918\n",
      "Thres : 1.9572e-03,\tFPR : 0.1765,\tTPR : 0.9918\n",
      "Thres : 1.9445e-03,\tFPR : 0.1765,\tTPR : 0.9929\n",
      "Thres : 1.8694e-03,\tFPR : 0.1857,\tTPR : 0.9929\n",
      "Thres : 1.8672e-03,\tFPR : 0.1857,\tTPR : 0.9939\n",
      "Thres : 1.7533e-03,\tFPR : 0.2020,\tTPR : 0.9939\n",
      "Thres : 1.7342e-03,\tFPR : 0.2020,\tTPR : 0.9949\n",
      "Thres : 1.3817e-03,\tFPR : 0.2551,\tTPR : 0.9949\n",
      "Thres : 1.3750e-03,\tFPR : 0.2551,\tTPR : 0.9969\n",
      "Thres : 7.7757e-04,\tFPR : 0.4224,\tTPR : 0.9969\n",
      "Thres : 7.7718e-04,\tFPR : 0.4224,\tTPR : 0.9980\n",
      "Thres : 7.0238e-04,\tFPR : 0.4561,\tTPR : 0.9980\n",
      "Thres : 7.0058e-04,\tFPR : 0.4561,\tTPR : 0.9990\n",
      "Thres : 3.9911e-04,\tFPR : 0.5755,\tTPR : 0.9990\n",
      "Thres : 3.9516e-04,\tFPR : 0.5755,\tTPR : 1.0000\n",
      "Thres : 1.0532e-06,\tFPR : 1.0000,\tTPR : 1.0000\n"
     ]
    }
   ],
   "source": [
    "from sklearn.metrics import roc_curve\n",
    "\n",
    "\n",
    "fpr, tpr, thresholds = roc_curve([0]*losses[ys==0].shape[0]+[1]*losses[ys!=0].shape[0], losses.flatten())\n",
    "def plot_roc_curve(fper, tper):\n",
    "    plt.plot(fper, tper, color='red', label='ROC')\n",
    "    plt.plot([0, 1], [0, 1], color='green', linestyle='--')\n",
    "    plt.xlabel('False Positive Rate')\n",
    "    plt.ylabel('True Positive Rate')\n",
    "    plt.title('Receiver Operating Characteristic Curve')\n",
    "    plt.legend()\n",
    "    plt.show()\n",
    "plot_roc_curve(fpr,tpr)\n",
    "for i in range(len(fpr)):\n",
    "    print(\"Thres : %.4e,\\tFPR : %.4f,\\tTPR : %.4f\"%(thresholds[i],fpr[i],tpr[i]))\n",
    "#print(fpr,tpr,thres)"
   ]
  },
  {
   "cell_type": "code",
   "execution_count": 20,
   "id": "simple-bradley",
   "metadata": {},
   "outputs": [
    {
     "name": "stdout",
     "output_type": "stream",
     "text": [
      "TP :   919,\tFP :    12\n",
      "FN :    61,\tTN :   968\n",
      "Accuracy : 0.96,\tPrecision : 0.99,\tRecall : 0.94\n"
     ]
    }
   ],
   "source": [
    "THRESHOLD = 7.4378e-03\n",
    "TP = len(losses_p[losses_p<THRESHOLD])\n",
    "FN = len(losses_p[losses_p>THRESHOLD])\n",
    "TN = len(losses_n[losses_n>THRESHOLD])\n",
    "FP = len(losses_n[losses_n<THRESHOLD])\n",
    "print('TP : %5d,\\tFP : %5d'%(TP, FP))\n",
    "print('FN : %5d,\\tTN : %5d'%(FN ,TN))\n",
    "print('Accuracy : %.2f,\\tPrecision : %.2f,\\tRecall : %.2f'%((TP+TN)/(TP+TN+FP+FN), (TP)/(TP+FP), (TP)/(TP+FN)))"
   ]
  },
  {
   "cell_type": "code",
   "execution_count": null,
   "id": "parliamentary-criminal",
   "metadata": {},
   "outputs": [],
   "source": []
  },
  {
   "cell_type": "code",
   "execution_count": null,
   "id": "better-mumbai",
   "metadata": {},
   "outputs": [],
   "source": []
  }
 ],
 "metadata": {
  "kernelspec": {
   "display_name": "Python 3",
   "language": "python",
   "name": "python3"
  },
  "language_info": {
   "codemirror_mode": {
    "name": "ipython",
    "version": 3
   },
   "file_extension": ".py",
   "mimetype": "text/x-python",
   "name": "python",
   "nbconvert_exporter": "python",
   "pygments_lexer": "ipython3",
   "version": "3.8.3"
  }
 },
 "nbformat": 4,
 "nbformat_minor": 5
}
